{
 "cells": [
  {
   "cell_type": "markdown",
   "metadata": {},
   "source": [
    "# Linear Regression\n",
    "\n",
    "In this tutorial we will implement a linear regression model. We will also implement a function that splits the available data into a training and a testting part.\n",
    "\n",
    "## Problem Setting\n",
    "\n",
    "We will use the Boston Housing Dataset. This dataset contains information collected by the U.S Census Service concerning housing in the city of Boston in the state of Massachusetts in 1978. Our goal is to predict the median value of the houses in a particular town in the city of Boston given its attributes. Check the file ’housing.names’ for more information on the attributes."
   ]
  },
  {
   "cell_type": "code",
   "execution_count": 59,
   "metadata": {},
   "outputs": [
    {
     "name": "stdout",
     "output_type": "stream",
     "text": [
      "The autoreload extension is already loaded. To reload it, use:\n",
      "  %reload_ext autoreload\n"
     ]
    }
   ],
   "source": [
    "import urllib\n",
    "import pandas as pd\n",
    "import numpy as np\n",
    "# for auto-reloading external modules\n",
    "# see http://stackoverflow.com/questions/1907993/autoreload-of-modules-in-ipython\n",
    "%load_ext autoreload\n",
    "%autoreload 2\n",
    "from sklearn.datasets import load_boston\n",
    "import matplotlib.pyplot as plt"
   ]
  },
  {
   "cell_type": "code",
   "execution_count": 2,
   "metadata": {
    "collapsed": true
   },
   "outputs": [],
   "source": [
    "boston=load_boston()\n",
    "testfile =urllib.request.URLopener()\n",
    "testfile.retrieve(\"https://archive.ics.uci.edu/ml/machine-learning-databases/housing/housing.names\", \"housing.names\")\n",
    "df=pd.DataFrame(boston.data)\n",
    "df.columns=['crime_rate','res_land_zoned','industry','charles_river','nox','avg_num_rooms','prop_bf_1940','dst_emply_center','rd_highway_idx','tax_rate','stdnt_tchr_ratio','prop_blacks','low_status_pct']\n",
    "X=boston.data\n",
    "y=boston.target"
   ]
  },
  {
   "cell_type": "code",
   "execution_count": 3,
   "metadata": {},
   "outputs": [
    {
     "data": {
      "text/html": [
       "<div>\n",
       "<style>\n",
       "    .dataframe thead tr:only-child th {\n",
       "        text-align: right;\n",
       "    }\n",
       "\n",
       "    .dataframe thead th {\n",
       "        text-align: left;\n",
       "    }\n",
       "\n",
       "    .dataframe tbody tr th {\n",
       "        vertical-align: top;\n",
       "    }\n",
       "</style>\n",
       "<table border=\"1\" class=\"dataframe\">\n",
       "  <thead>\n",
       "    <tr style=\"text-align: right;\">\n",
       "      <th></th>\n",
       "      <th>crime_rate</th>\n",
       "      <th>res_land_zoned</th>\n",
       "      <th>industry</th>\n",
       "      <th>charles_river</th>\n",
       "      <th>nox</th>\n",
       "      <th>avg_num_rooms</th>\n",
       "      <th>prop_bf_1940</th>\n",
       "      <th>dst_emply_center</th>\n",
       "      <th>rd_highway_idx</th>\n",
       "      <th>tax_rate</th>\n",
       "      <th>stdnt_tchr_ratio</th>\n",
       "      <th>prop_blacks</th>\n",
       "      <th>low_status_pct</th>\n",
       "    </tr>\n",
       "  </thead>\n",
       "  <tbody>\n",
       "    <tr>\n",
       "      <th>0</th>\n",
       "      <td>0.00632</td>\n",
       "      <td>18.0</td>\n",
       "      <td>2.31</td>\n",
       "      <td>0.0</td>\n",
       "      <td>0.538</td>\n",
       "      <td>6.575</td>\n",
       "      <td>65.2</td>\n",
       "      <td>4.0900</td>\n",
       "      <td>1.0</td>\n",
       "      <td>296.0</td>\n",
       "      <td>15.3</td>\n",
       "      <td>396.90</td>\n",
       "      <td>4.98</td>\n",
       "    </tr>\n",
       "    <tr>\n",
       "      <th>1</th>\n",
       "      <td>0.02731</td>\n",
       "      <td>0.0</td>\n",
       "      <td>7.07</td>\n",
       "      <td>0.0</td>\n",
       "      <td>0.469</td>\n",
       "      <td>6.421</td>\n",
       "      <td>78.9</td>\n",
       "      <td>4.9671</td>\n",
       "      <td>2.0</td>\n",
       "      <td>242.0</td>\n",
       "      <td>17.8</td>\n",
       "      <td>396.90</td>\n",
       "      <td>9.14</td>\n",
       "    </tr>\n",
       "    <tr>\n",
       "      <th>2</th>\n",
       "      <td>0.02729</td>\n",
       "      <td>0.0</td>\n",
       "      <td>7.07</td>\n",
       "      <td>0.0</td>\n",
       "      <td>0.469</td>\n",
       "      <td>7.185</td>\n",
       "      <td>61.1</td>\n",
       "      <td>4.9671</td>\n",
       "      <td>2.0</td>\n",
       "      <td>242.0</td>\n",
       "      <td>17.8</td>\n",
       "      <td>392.83</td>\n",
       "      <td>4.03</td>\n",
       "    </tr>\n",
       "    <tr>\n",
       "      <th>3</th>\n",
       "      <td>0.03237</td>\n",
       "      <td>0.0</td>\n",
       "      <td>2.18</td>\n",
       "      <td>0.0</td>\n",
       "      <td>0.458</td>\n",
       "      <td>6.998</td>\n",
       "      <td>45.8</td>\n",
       "      <td>6.0622</td>\n",
       "      <td>3.0</td>\n",
       "      <td>222.0</td>\n",
       "      <td>18.7</td>\n",
       "      <td>394.63</td>\n",
       "      <td>2.94</td>\n",
       "    </tr>\n",
       "    <tr>\n",
       "      <th>4</th>\n",
       "      <td>0.06905</td>\n",
       "      <td>0.0</td>\n",
       "      <td>2.18</td>\n",
       "      <td>0.0</td>\n",
       "      <td>0.458</td>\n",
       "      <td>7.147</td>\n",
       "      <td>54.2</td>\n",
       "      <td>6.0622</td>\n",
       "      <td>3.0</td>\n",
       "      <td>222.0</td>\n",
       "      <td>18.7</td>\n",
       "      <td>396.90</td>\n",
       "      <td>5.33</td>\n",
       "    </tr>\n",
       "    <tr>\n",
       "      <th>5</th>\n",
       "      <td>0.02985</td>\n",
       "      <td>0.0</td>\n",
       "      <td>2.18</td>\n",
       "      <td>0.0</td>\n",
       "      <td>0.458</td>\n",
       "      <td>6.430</td>\n",
       "      <td>58.7</td>\n",
       "      <td>6.0622</td>\n",
       "      <td>3.0</td>\n",
       "      <td>222.0</td>\n",
       "      <td>18.7</td>\n",
       "      <td>394.12</td>\n",
       "      <td>5.21</td>\n",
       "    </tr>\n",
       "    <tr>\n",
       "      <th>6</th>\n",
       "      <td>0.08829</td>\n",
       "      <td>12.5</td>\n",
       "      <td>7.87</td>\n",
       "      <td>0.0</td>\n",
       "      <td>0.524</td>\n",
       "      <td>6.012</td>\n",
       "      <td>66.6</td>\n",
       "      <td>5.5605</td>\n",
       "      <td>5.0</td>\n",
       "      <td>311.0</td>\n",
       "      <td>15.2</td>\n",
       "      <td>395.60</td>\n",
       "      <td>12.43</td>\n",
       "    </tr>\n",
       "    <tr>\n",
       "      <th>7</th>\n",
       "      <td>0.14455</td>\n",
       "      <td>12.5</td>\n",
       "      <td>7.87</td>\n",
       "      <td>0.0</td>\n",
       "      <td>0.524</td>\n",
       "      <td>6.172</td>\n",
       "      <td>96.1</td>\n",
       "      <td>5.9505</td>\n",
       "      <td>5.0</td>\n",
       "      <td>311.0</td>\n",
       "      <td>15.2</td>\n",
       "      <td>396.90</td>\n",
       "      <td>19.15</td>\n",
       "    </tr>\n",
       "    <tr>\n",
       "      <th>8</th>\n",
       "      <td>0.21124</td>\n",
       "      <td>12.5</td>\n",
       "      <td>7.87</td>\n",
       "      <td>0.0</td>\n",
       "      <td>0.524</td>\n",
       "      <td>5.631</td>\n",
       "      <td>100.0</td>\n",
       "      <td>6.0821</td>\n",
       "      <td>5.0</td>\n",
       "      <td>311.0</td>\n",
       "      <td>15.2</td>\n",
       "      <td>386.63</td>\n",
       "      <td>29.93</td>\n",
       "    </tr>\n",
       "    <tr>\n",
       "      <th>9</th>\n",
       "      <td>0.17004</td>\n",
       "      <td>12.5</td>\n",
       "      <td>7.87</td>\n",
       "      <td>0.0</td>\n",
       "      <td>0.524</td>\n",
       "      <td>6.004</td>\n",
       "      <td>85.9</td>\n",
       "      <td>6.5921</td>\n",
       "      <td>5.0</td>\n",
       "      <td>311.0</td>\n",
       "      <td>15.2</td>\n",
       "      <td>386.71</td>\n",
       "      <td>17.10</td>\n",
       "    </tr>\n",
       "  </tbody>\n",
       "</table>\n",
       "</div>"
      ],
      "text/plain": [
       "   crime_rate  res_land_zoned  industry  charles_river    nox  avg_num_rooms  \\\n",
       "0     0.00632            18.0      2.31            0.0  0.538          6.575   \n",
       "1     0.02731             0.0      7.07            0.0  0.469          6.421   \n",
       "2     0.02729             0.0      7.07            0.0  0.469          7.185   \n",
       "3     0.03237             0.0      2.18            0.0  0.458          6.998   \n",
       "4     0.06905             0.0      2.18            0.0  0.458          7.147   \n",
       "5     0.02985             0.0      2.18            0.0  0.458          6.430   \n",
       "6     0.08829            12.5      7.87            0.0  0.524          6.012   \n",
       "7     0.14455            12.5      7.87            0.0  0.524          6.172   \n",
       "8     0.21124            12.5      7.87            0.0  0.524          5.631   \n",
       "9     0.17004            12.5      7.87            0.0  0.524          6.004   \n",
       "\n",
       "   prop_bf_1940  dst_emply_center  rd_highway_idx  tax_rate  stdnt_tchr_ratio  \\\n",
       "0          65.2            4.0900             1.0     296.0              15.3   \n",
       "1          78.9            4.9671             2.0     242.0              17.8   \n",
       "2          61.1            4.9671             2.0     242.0              17.8   \n",
       "3          45.8            6.0622             3.0     222.0              18.7   \n",
       "4          54.2            6.0622             3.0     222.0              18.7   \n",
       "5          58.7            6.0622             3.0     222.0              18.7   \n",
       "6          66.6            5.5605             5.0     311.0              15.2   \n",
       "7          96.1            5.9505             5.0     311.0              15.2   \n",
       "8         100.0            6.0821             5.0     311.0              15.2   \n",
       "9          85.9            6.5921             5.0     311.0              15.2   \n",
       "\n",
       "   prop_blacks  low_status_pct  \n",
       "0       396.90            4.98  \n",
       "1       396.90            9.14  \n",
       "2       392.83            4.03  \n",
       "3       394.63            2.94  \n",
       "4       396.90            5.33  \n",
       "5       394.12            5.21  \n",
       "6       395.60           12.43  \n",
       "7       396.90           19.15  \n",
       "8       386.63           29.93  \n",
       "9       386.71           17.10  "
      ]
     },
     "execution_count": 3,
     "metadata": {},
     "output_type": "execute_result"
    }
   ],
   "source": [
    "df.head(10)"
   ]
  },
  {
   "cell_type": "markdown",
   "metadata": {},
   "source": [
    "### Exercise 1\n",
    "\n",
    "Write the *split_train_test(X,y,split,seed)*, given an instance matrix $X \\in \\mathbb{R}^{N \\times D}$, labels $y \\in Y^N$, a split ratio in $[0, 1]$ and a random seed $\\in \\mathbb{Z}$. Split the dataset in $(split×100)\\%$ of the instances for training our model and the rest for testing, i.e. \n",
    "\n",
    "$$ \\left|X_{\\text{train}}\\right| = \\lceil \\text{split} \\cdot N \\rceil, \\qquad |X_{\\text{train}}| + |X_{\\text{test}}| = N. $$\n",
    "Make sure you use the given random number generator seed so we all get the same results. The function is supposed to return:\n",
    "\n",
    "- X_train, y_train: the training instances and labels;\n",
    "- X_test, y_test: the test instances and labels,\n",
    "\n",
    "in the same order as was mentioned.\n",
    "\n",
    "Hint: It may be helpful to use shuffling functionality (e.g. np.random.shuffle)."
   ]
  },
  {
   "cell_type": "code",
   "execution_count": 110,
   "metadata": {
    "collapsed": true
   },
   "outputs": [],
   "source": [
    "def split_train_test(X,y,split,seed, shuffle = True):\n",
    "    #label need a reshape to concatenate\n",
    "    if shuffle:\n",
    "        np.random.seed(seed)\n",
    "        np.random.shuffle(X)\n",
    "        np.random.seed(seed)\n",
    "        np.random.shuffle(y)\n",
    "    \n",
    "    #find the splitting index\n",
    "    split_index = X.shape[0] - round(X.shape[0] * split)\n",
    "    \n",
    "    \n",
    "    #import math \n",
    "    \n",
    "    #s = math.ceil(split *100)\n",
    "    \n",
    "    #split the data\n",
    "    X_train = X[:split_index,:]\n",
    "    y_train = y[:split_index]\n",
    "\n",
    "    X_test = X[split_index:,:]\n",
    "    y_test = y[split_index:]\n",
    "    return X_train, y_train, X_test, y_test"
   ]
  },
  {
   "cell_type": "code",
   "execution_count": 109,
   "metadata": {},
   "outputs": [
    {
     "data": {
      "text/plain": [
       "10"
      ]
     },
     "execution_count": 109,
     "metadata": {},
     "output_type": "execute_result"
    }
   ],
   "source": [
    "import math \n",
    "    \n",
    "math.ceil(split *100)"
   ]
  },
  {
   "cell_type": "markdown",
   "metadata": {},
   "source": [
    "### Exercise 2\n",
    "\n",
    "Write the function *train_linear_reg(X_train,y_train,lmbd)*.\n",
    "Implement the ridge regression model (slide 24). The function should output the learned weight vector $\\theta \\in \\mathbb{R}^D$ or $\\mathbb{R}^{D+1}$ (depending on whether you are adding *bias*)."
   ]
  },
  {
   "cell_type": "code",
   "execution_count": 5,
   "metadata": {
    "collapsed": true
   },
   "outputs": [],
   "source": [
    "def train_linear_reg(X, y, lmbd):\n",
    "    #Matrix\n",
    "    X = np.array(X)\n",
    "    #Transpose Matrix\n",
    "    X_t = np.transpose(X)\n",
    "    #Square Matrix\n",
    "    XX_t =  X_t.dot(X)\n",
    "    #Dimension of the Square Matrix\n",
    "    n = XX_t.shape[0]  \n",
    "    return np.linalg.inv((XX_t + lmbd * np.identity(n))).dot(X_t.dot(y))"
   ]
  },
  {
   "cell_type": "markdown",
   "metadata": {},
   "source": [
    "### Exercise 3\n",
    "\n",
    "Write the function *predict(X,theta)* which predicts housing values vector pred for a dataset X and a previously trained parameter vector $\\theta$."
   ]
  },
  {
   "cell_type": "code",
   "execution_count": 6,
   "metadata": {
    "collapsed": true
   },
   "outputs": [],
   "source": [
    "def predict(X, theta):\n",
    "    return X.dot(theta)"
   ]
  },
  {
   "cell_type": "markdown",
   "metadata": {},
   "source": [
    "### Exercise 4\n",
    "\n",
    "Write the function *mean_abs_loss(y_true,y_pred)* which computes the mean of the absolute differences between our prediction vector $y\\_pred$ and the real housing values $y\\_true$."
   ]
  },
  {
   "cell_type": "code",
   "execution_count": 7,
   "metadata": {
    "collapsed": true
   },
   "outputs": [],
   "source": [
    "def mean_abs_loss(y_true,y_pred):     \n",
    "    return np.mean(abs(y_true -  y_pred))"
   ]
  },
  {
   "cell_type": "markdown",
   "metadata": {},
   "source": [
    "### Exercise 5\n",
    "\n",
    "Evaluate your solutions by running the following code. \n",
    "\n",
    "Moreover, answer the following questions: What is the most important feature in your model? Are there features that are not so important? What happens if you remove them? Are there outliers with a high absolute loss?"
   ]
  },
  {
   "cell_type": "code",
   "execution_count": 155,
   "metadata": {
    "scrolled": true
   },
   "outputs": [
    {
     "name": "stdout",
     "output_type": "stream",
     "text": [
      "The mean absolute loss is 2.398\n"
     ]
    }
   ],
   "source": [
    "seed = 3\n",
    "lmbd=1\n",
    "#bei split 0.1 beste Ergebniss\n",
    "split=0.1\n",
    "X_train,y_train,X_test,y_test=split_train_test(X,y,split,seed, shuffle = True)\n",
    "theta=train_linear_reg(X_train,y_train,lmbd)\n",
    "y_pred=predict(X_test,theta)\n",
    "mae=mean_abs_loss(y_test,y_pred)\n",
    "print ('The mean absolute loss is {loss:0.3f}'.format(loss=mae))"
   ]
  },
  {
   "cell_type": "code",
   "execution_count": 107,
   "metadata": {},
   "outputs": [
    {
     "name": "stdout",
     "output_type": "stream",
     "text": [
      "The mean absolute loss is 3.219\n"
     ]
    }
   ],
   "source": [
    "seed = 3\n",
    "lmbd=1\n",
    "#bei split 0.1 beste Ergebniss\n",
    "split=0.1\n",
    "X_train,y_train,X_test,y_test=split_train_test(X,y,split,seed, shuffle = False)\n",
    "theta=train_linear_reg(X_train,y_train,lmbd)\n",
    "y_pred=predict(X_test,theta)\n",
    "mae=mean_abs_loss(y_test,y_pred)\n",
    "print ('The mean absolute loss is {loss:0.3f}'.format(loss=mae))"
   ]
  },
  {
   "cell_type": "code",
   "execution_count": 97,
   "metadata": {},
   "outputs": [
    {
     "name": "stdout",
     "output_type": "stream",
     "text": [
      "The mean absolute loss is 3.645\n"
     ]
    },
    {
     "data": {
      "text/plain": [
       "<matplotlib.text.Text at 0x7f1f360fb128>"
      ]
     },
     "execution_count": 97,
     "metadata": {},
     "output_type": "execute_result"
    },
    {
     "data": {
      "image/png": "[encoded data removed]",
      "text/plain": [
       "<matplotlib.figure.Figure at 0x7f1f36078128>"
      ]
     },
     "metadata": {},
     "output_type": "display_data"
    }
   ],
   "source": [
    "seed = 3\n",
    "lmbd=1\n",
    "#bei split 0.1 beste Ergebniss\n",
    "split=0.1\n",
    "X_train,y_train,X_test,y_test=split_train_test(X,y,split,seed)\n",
    "losses = []\n",
    "for lmbd in range(50):\n",
    "    #print(lmbd)\n",
    "    theta=train_linear_reg(X_train,y_train,lmbd)\n",
    "    y_pred=predict(X_test,theta)\n",
    "    mae=mean_abs_loss(y_test,y_pred)\n",
    "    losses.append(mae)    \n",
    "print ('The mean absolute loss is {loss:0.3f}'.format(loss=mae))    \n",
    "plt.plot(losses)\n",
    "plt.title('Lambda Chages')\n",
    "plt.ylabel('loss')\n",
    "plt.xlabel('lambda')"
   ]
  },
  {
   "cell_type": "code",
   "execution_count": 96,
   "metadata": {},
   "outputs": [
    {
     "name": "stdout",
     "output_type": "stream",
     "text": [
      "The mean absolute loss is 7.048\n"
     ]
    },
    {
     "name": "stderr",
     "output_type": "stream",
     "text": [
      "/home/pandoora/anaconda3/lib/python3.6/site-packages/numpy/core/fromnumeric.py:2957: RuntimeWarning: Mean of empty slice.\n",
      "  out=out, **kwargs)\n",
      "/home/pandoora/anaconda3/lib/python3.6/site-packages/numpy/core/_methods.py:80: RuntimeWarning: invalid value encountered in double_scalars\n",
      "  ret = ret.dtype.type(ret / rcount)\n"
     ]
    },
    {
     "data": {
      "text/plain": [
       "<matplotlib.text.Text at 0x7f1f3624ff28>"
      ]
     },
     "execution_count": 96,
     "metadata": {},
     "output_type": "execute_result"
    },
    {
     "data": {
      "image/png": "[encoded data removed]",
      "text/plain": [
       "<matplotlib.figure.Figure at 0x7f1f361b98d0>"
      ]
     },
     "metadata": {},
     "output_type": "display_data"
    }
   ],
   "source": [
    "seed = 3\n",
    "lmbd=25\n",
    "#bei split 0.1 beste Ergebniss\n",
    "split=0.1\n",
    "\n",
    "losses = []\n",
    "for split in range(100):\n",
    "    split = split * 0.01 \n",
    "    X_train,y_train,X_test,y_test=split_train_test(X,y,split,seed)\n",
    "    #print(lmbd)\n",
    "    theta=train_linear_reg(X_train,y_train,lmbd)\n",
    "    y_pred=predict(X_test,theta)\n",
    "    mae=mean_abs_loss(y_test,y_pred)\n",
    "    losses.append(mae)    \n",
    "print ('The mean absolute loss is {loss:0.3f}'.format(loss=mae)) \n",
    "plt.plot(losses)\n",
    "plt.title('Splitting')\n",
    "plt.ylabel('loss')\n",
    "plt.xlabel('split in %')"
   ]
  },
  {
   "cell_type": "code",
   "execution_count": 92,
   "metadata": {
    "collapsed": true
   },
   "outputs": [],
   "source": [
    "y_pred=predict(X_test,theta)"
   ]
  },
  {
   "cell_type": "code",
   "execution_count": 93,
   "metadata": {
    "collapsed": true
   },
   "outputs": [],
   "source": [
    "list_of_loss = abs(y_pred - y_test)"
   ]
  },
  {
   "cell_type": "code",
   "execution_count": 98,
   "metadata": {},
   "outputs": [
    {
     "data": {
      "text/plain": [
       "array([3.81765667e-02, 8.46568751e-02, 1.05461007e-01, 1.28694406e-01,\n",
       "       1.33039885e-01, 1.38308398e-01, 1.61857721e-01, 1.87310229e-01,\n",
       "       1.95037110e-01, 2.23851679e-01, 2.80792009e-01, 2.97732913e-01,\n",
       "       3.13585327e-01, 3.68404593e-01, 3.92518946e-01, 4.33807947e-01,\n",
       "       4.83243387e-01, 4.93549368e-01, 4.99576334e-01, 5.00965417e-01,\n",
       "       5.02295375e-01, 5.14172297e-01, 5.28619043e-01, 5.43510239e-01,\n",
       "       5.51986296e-01, 6.02688032e-01, 6.15138680e-01, 6.43389225e-01,\n",
       "       6.47537859e-01, 6.68505961e-01, 6.73908467e-01, 7.18616136e-01,\n",
       "       7.42275027e-01, 7.45223486e-01, 7.52647038e-01, 8.12528401e-01,\n",
       "       8.13599365e-01, 8.73301951e-01, 9.12093773e-01, 9.12189112e-01,\n",
       "       9.38156176e-01, 9.53756711e-01, 9.56123739e-01, 9.64913386e-01,\n",
       "       1.01970002e+00, 1.14444972e+00, 1.14654899e+00, 1.17104211e+00,\n",
       "       1.17888171e+00, 1.26041080e+00, 1.34005320e+00, 1.35874644e+00,\n",
       "       1.43944836e+00, 1.47077227e+00, 1.47851771e+00, 1.48636819e+00,\n",
       "       1.50811455e+00, 1.51907609e+00, 1.53210787e+00, 1.54404965e+00,\n",
       "       1.54765931e+00, 1.55771454e+00, 1.56414205e+00, 1.57529570e+00,\n",
       "       1.61441557e+00, 1.61701357e+00, 1.62162267e+00, 1.62429376e+00,\n",
       "       1.64291942e+00, 1.68001086e+00, 1.68648786e+00, 1.71001582e+00,\n",
       "       1.75614804e+00, 1.76530183e+00, 1.77890672e+00, 1.80091973e+00,\n",
       "       1.86420444e+00, 1.86532465e+00, 1.88284959e+00, 1.97476564e+00,\n",
       "       2.00946758e+00, 2.01150706e+00, 2.06487715e+00, 2.11076190e+00,\n",
       "       2.17047701e+00, 2.20823666e+00, 2.28617926e+00, 2.30126560e+00,\n",
       "       2.30357703e+00, 2.30936688e+00, 2.37906428e+00, 2.40354215e+00,\n",
       "       2.41365655e+00, 2.41948099e+00, 2.45607738e+00, 2.49075325e+00,\n",
       "       2.49133612e+00, 2.50675168e+00, 2.51569802e+00, 2.51880568e+00,\n",
       "       2.52628857e+00, 2.53188197e+00, 2.55768395e+00, 2.56313626e+00,\n",
       "       2.58848824e+00, 2.60050659e+00, 2.61214474e+00, 2.63377648e+00,\n",
       "       2.64828993e+00, 2.68742302e+00, 2.80157257e+00, 2.80348961e+00,\n",
       "       2.84387674e+00, 2.90541266e+00, 2.97945118e+00, 2.99562151e+00,\n",
       "       3.01387884e+00, 3.04083625e+00, 3.06277899e+00, 3.11667359e+00,\n",
       "       3.11885275e+00, 3.29230015e+00, 3.29838516e+00, 3.33223114e+00,\n",
       "       3.35770464e+00, 3.39127863e+00, 3.41082866e+00, 3.41548087e+00,\n",
       "       3.48238948e+00, 3.52265605e+00, 3.61876553e+00, 3.63277317e+00,\n",
       "       3.66570793e+00, 3.71550658e+00, 3.80382841e+00, 3.82631399e+00,\n",
       "       3.85420933e+00, 3.86772508e+00, 3.89834293e+00, 3.92070721e+00,\n",
       "       4.00268681e+00, 4.02580920e+00, 4.03023806e+00, 4.04811725e+00,\n",
       "       4.05116092e+00, 4.05154673e+00, 4.08679759e+00, 4.09090198e+00,\n",
       "       4.11479649e+00, 4.14016395e+00, 4.14704445e+00, 4.18243832e+00,\n",
       "       4.19214479e+00, 4.24591776e+00, 4.25453474e+00, 4.32369939e+00,\n",
       "       4.36372533e+00, 4.37667807e+00, 4.38956221e+00, 4.41611431e+00,\n",
       "       4.46054517e+00, 4.47267216e+00, 4.47993855e+00, 4.48178141e+00,\n",
       "       4.48467458e+00, 4.48771956e+00, 4.53447388e+00, 4.59833037e+00,\n",
       "       4.66589846e+00, 4.70818795e+00, 4.72876338e+00, 4.77538642e+00,\n",
       "       4.79994770e+00, 4.80037452e+00, 4.87214391e+00, 4.87702585e+00,\n",
       "       4.89073407e+00, 4.89526324e+00, 4.95381828e+00, 4.97100267e+00,\n",
       "       4.98546374e+00, 5.03779503e+00, 5.08333201e+00, 5.10579370e+00,\n",
       "       5.11256141e+00, 5.11627200e+00, 5.13190720e+00, 5.14762281e+00,\n",
       "       5.15378034e+00, 5.16915792e+00, 5.17751908e+00, 5.22337092e+00,\n",
       "       5.26000703e+00, 5.28912798e+00, 5.30963101e+00, 5.31478146e+00,\n",
       "       5.40734956e+00, 5.43422211e+00, 5.43686318e+00, 5.43986769e+00,\n",
       "       5.48190446e+00, 5.55128332e+00, 5.58250351e+00, 5.61041000e+00,\n",
       "       5.66335851e+00, 5.67536284e+00, 5.71472375e+00, 5.72169002e+00,\n",
       "       5.72204298e+00, 5.72539490e+00, 5.78411550e+00, 5.80937246e+00,\n",
       "       5.88257947e+00, 5.88304593e+00, 5.91642265e+00, 5.91671402e+00,\n",
       "       5.93005877e+00, 5.95014192e+00, 5.95168962e+00, 6.01822513e+00,\n",
       "       6.02022824e+00, 6.05449932e+00, 6.07680025e+00, 6.08995068e+00,\n",
       "       6.10065055e+00, 6.15323222e+00, 6.24498238e+00, 6.25740485e+00,\n",
       "       6.28857041e+00, 6.35582552e+00, 6.36813342e+00, 6.46145561e+00,\n",
       "       6.46904805e+00, 6.51772602e+00, 6.52327541e+00, 6.53526001e+00,\n",
       "       6.55287046e+00, 6.58809660e+00, 6.61568991e+00, 6.71090919e+00,\n",
       "       6.76708755e+00, 6.80039041e+00, 6.84689974e+00, 6.92415596e+00,\n",
       "       6.93027388e+00, 6.93660784e+00, 6.97705642e+00, 7.02474280e+00,\n",
       "       7.03796100e+00, 7.09483006e+00, 7.09933900e+00, 7.13753774e+00,\n",
       "       7.13960229e+00, 7.15544636e+00, 7.29674420e+00, 7.36948309e+00,\n",
       "       7.39245223e+00, 7.42681339e+00, 7.45464163e+00, 7.62022382e+00,\n",
       "       7.64585293e+00, 7.71570824e+00, 7.72301091e+00, 7.76310715e+00,\n",
       "       7.76886351e+00, 7.79125134e+00, 7.84505758e+00, 7.88160743e+00,\n",
       "       7.88522825e+00, 7.93968711e+00, 8.11483811e+00, 8.12995145e+00,\n",
       "       8.13673223e+00, 8.18376303e+00, 8.23449746e+00, 8.29136183e+00,\n",
       "       8.43328969e+00, 8.44679348e+00, 8.53150399e+00, 8.55052045e+00,\n",
       "       8.55118186e+00, 8.55737178e+00, 8.55975011e+00, 8.61224815e+00,\n",
       "       8.63541926e+00, 8.64047709e+00, 8.64889420e+00, 8.72932292e+00,\n",
       "       8.77917684e+00, 8.96561686e+00, 8.97367987e+00, 9.00444177e+00,\n",
       "       9.04759292e+00, 9.07361149e+00, 9.11945317e+00, 9.15007027e+00,\n",
       "       9.16101858e+00, 9.32056735e+00, 9.33321475e+00, 9.36099518e+00,\n",
       "       9.41709055e+00, 9.47762644e+00, 9.47902506e+00, 9.52991418e+00,\n",
       "       9.59051370e+00, 9.64263674e+00, 9.65376949e+00, 9.70201958e+00,\n",
       "       9.86880962e+00, 9.90449662e+00, 9.91730927e+00, 9.99710784e+00,\n",
       "       1.00057849e+01, 1.00637085e+01, 1.01460218e+01, 1.01630603e+01,\n",
       "       1.01927525e+01, 1.01981427e+01, 1.02200658e+01, 1.03349870e+01,\n",
       "       1.03367245e+01, 1.03945875e+01, 1.05250000e+01, 1.05415701e+01,\n",
       "       1.06914065e+01, 1.07224666e+01, 1.08178017e+01, 1.08805419e+01,\n",
       "       1.09180213e+01, 1.09606117e+01, 1.10858935e+01, 1.10893930e+01,\n",
       "       1.11795693e+01, 1.12612676e+01, 1.12637398e+01, 1.13661490e+01,\n",
       "       1.13661630e+01, 1.14296680e+01, 1.14312681e+01, 1.14432683e+01,\n",
       "       1.14491768e+01, 1.15179423e+01, 1.15944885e+01, 1.16042364e+01,\n",
       "       1.18901837e+01, 1.18940710e+01, 1.19200936e+01, 1.19517561e+01,\n",
       "       1.19618222e+01, 1.19867084e+01, 1.20148530e+01, 1.20578131e+01,\n",
       "       1.20583152e+01, 1.22262963e+01, 1.23158787e+01, 1.23282254e+01,\n",
       "       1.23296305e+01, 1.23425205e+01, 1.24996385e+01, 1.25639419e+01,\n",
       "       1.26403175e+01, 1.27595830e+01, 1.28684737e+01, 1.28703431e+01,\n",
       "       1.29496511e+01, 1.29777303e+01, 1.29820779e+01, 1.31018624e+01,\n",
       "       1.31741609e+01, 1.32763940e+01, 1.33996167e+01, 1.35174276e+01,\n",
       "       1.35727453e+01, 1.36172678e+01, 1.36223249e+01, 1.36396622e+01,\n",
       "       1.38412849e+01, 1.38646031e+01, 1.38980783e+01, 1.41431455e+01,\n",
       "       1.41545279e+01, 1.41574127e+01, 1.41680907e+01, 1.42357572e+01,\n",
       "       1.42969820e+01, 1.44538622e+01, 1.44628971e+01, 1.44765939e+01,\n",
       "       1.45215108e+01, 1.45793805e+01, 1.47123637e+01, 1.47158860e+01,\n",
       "       1.48172589e+01, 1.50106346e+01, 1.50241172e+01, 1.50514332e+01,\n",
       "       1.51044509e+01, 1.52306108e+01, 1.54521349e+01, 1.54695055e+01,\n",
       "       1.57147861e+01, 1.57771842e+01, 1.57793093e+01, 1.59275182e+01,\n",
       "       1.60624849e+01, 1.60703705e+01, 1.60937899e+01, 1.64570713e+01,\n",
       "       1.64600882e+01, 1.64658282e+01, 1.64758011e+01, 1.64896180e+01,\n",
       "       1.65002053e+01, 1.65390066e+01, 1.65856497e+01, 1.66295390e+01,\n",
       "       1.68388898e+01, 1.68608354e+01, 1.69315845e+01, 1.70963211e+01,\n",
       "       1.72624161e+01, 1.73705744e+01, 1.73969423e+01, 1.74498652e+01,\n",
       "       1.75776719e+01, 1.77104658e+01, 1.80895918e+01, 1.81794946e+01,\n",
       "       1.85185592e+01, 1.86030275e+01, 1.87678337e+01, 1.89619048e+01,\n",
       "       1.91056266e+01, 1.91695707e+01, 1.91907852e+01, 1.94505829e+01,\n",
       "       1.94555803e+01, 1.95640432e+01, 1.96024437e+01, 1.96335660e+01,\n",
       "       1.98621631e+01, 2.10046472e+01, 2.13786415e+01, 2.15664274e+01,\n",
       "       2.22699742e+01, 2.37330156e+01, 2.42173390e+01, 2.56211856e+01,\n",
       "       2.60856130e+01, 2.63405620e+01, 2.63735240e+01, 2.64905887e+01,\n",
       "       2.82284866e+01, 2.83499075e+01, 2.90450023e+01, 2.92806698e+01,\n",
       "       2.94697242e+01, 2.95352916e+01, 2.95896359e+01, 3.06487707e+01,\n",
       "       3.10502726e+01, 3.12110110e+01, 3.18702480e+01, 3.27498566e+01,\n",
       "       3.28353298e+01, 3.31024486e+01, 3.31147820e+01, 3.38731503e+01,\n",
       "       3.38994425e+01, 3.46194131e+01, 3.48140258e+01, 3.56352669e+01,\n",
       "       3.56715772e+01, 3.57202516e+01, 3.59319786e+01, 3.60432131e+01,\n",
       "       3.65766950e+01, 3.71624317e+01, 3.72269657e+01, 3.72408721e+01,\n",
       "       3.77287319e+01, 3.81200021e+01, 3.81968317e+01, 3.85337084e+01,\n",
       "       3.87213604e+01, 3.88695797e+01, 3.97252107e+01, 3.99504745e+01,\n",
       "       4.18883131e+01, 4.19506909e+01, 4.30598360e+01, 4.53121833e+01,\n",
       "       4.53408998e+01, 4.55083346e+01, 4.60606563e+01, 4.61963066e+01,\n",
       "       4.64922461e+01, 4.74051310e+01, 4.79373316e+01, 5.04652668e+01,\n",
       "       5.84289723e+01])"
      ]
     },
     "execution_count": 98,
     "metadata": {},
     "output_type": "execute_result"
    }
   ],
   "source": [
    "np.sort(list_of_loss)"
   ]
  },
  {
   "cell_type": "code",
   "execution_count": 218,
   "metadata": {
    "collapsed": true
   },
   "outputs": [],
   "source": [
    "from sklearn.linear_model import LinearRegression"
   ]
  },
  {
   "cell_type": "code",
   "execution_count": 223,
   "metadata": {
    "collapsed": true
   },
   "outputs": [],
   "source": [
    "model = LinearRegression().fit(X_train, y_train)"
   ]
  },
  {
   "cell_type": "code",
   "execution_count": 224,
   "metadata": {
    "collapsed": true
   },
   "outputs": [],
   "source": [
    "y_pred = model.predict(X_test)"
   ]
  },
  {
   "cell_type": "code",
   "execution_count": 13,
   "metadata": {},
   "outputs": [
    {
     "data": {
      "text/plain": [
       "2.6755840665153596"
      ]
     },
     "execution_count": 13,
     "metadata": {},
     "output_type": "execute_result"
    }
   ],
   "source": [
    "mean_abs_loss(y_test,y_pred)"
   ]
  }
 ],
 "metadata": {
  "kernelspec": {
   "display_name": "Python 3",
   "language": "python",
   "name": "python3"
  },
  "language_info": {
   "codemirror_mode": {
    "name": "ipython",
    "version": 3
   },
   "file_extension": ".py",
   "mimetype": "text/x-python",
   "name": "python",
   "nbconvert_exporter": "python",
   "pygments_lexer": "ipython3",
   "version": "3.6.8"
  }
 },
 "nbformat": 4,
 "nbformat_minor": 1
}
