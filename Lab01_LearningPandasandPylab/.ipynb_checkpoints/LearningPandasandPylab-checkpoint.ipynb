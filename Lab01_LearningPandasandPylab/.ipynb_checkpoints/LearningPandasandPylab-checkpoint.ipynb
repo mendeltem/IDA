{
 "cells": [
  {
   "cell_type": "markdown",
   "metadata": {},
   "source": [
    "## Learning Pandas and Pylab"
   ]
  },
  {
   "cell_type": "markdown",
   "metadata": {
    "collapsed": true
   },
   "source": [
    "Pandas is the python's library that enables broad possibilities for the data analysis.\n",
    "By means of the Pandas it is very easy to upload, manage and analyse data from different tables by means of SQL-like commands. Moreover, in connection with libraries Matplotlib and Seaborn, Pandas gives broad opportunities to visualise the data."
   ]
  },
  {
   "cell_type": "code",
   "execution_count": 2,
   "metadata": {},
   "outputs": [
    {
     "name": "stdout",
     "output_type": "stream",
     "text": [
      "Populating the interactive namespace from numpy and matplotlib\n"
     ]
    },
    {
     "ename": "ModuleNotFoundError",
     "evalue": "No module named 'seaborn'",
     "output_type": "error",
     "traceback": [
      "\u001b[0;31m---------------------------------------------------------------------------\u001b[0m",
      "\u001b[0;31mModuleNotFoundError\u001b[0m                       Traceback (most recent call last)",
      "\u001b[0;32m<ipython-input-2-ea5b3c9cd2c1>\u001b[0m in \u001b[0;36m<module>\u001b[0;34m\u001b[0m\n\u001b[1;32m      5\u001b[0m \u001b[0;32mfrom\u001b[0m \u001b[0mpylab\u001b[0m \u001b[0;32mimport\u001b[0m \u001b[0mrcParams\u001b[0m\u001b[0;34m\u001b[0m\u001b[0;34m\u001b[0m\u001b[0m\n\u001b[1;32m      6\u001b[0m \u001b[0mrcParams\u001b[0m\u001b[0;34m[\u001b[0m\u001b[0;34m'figure.figsize'\u001b[0m\u001b[0;34m]\u001b[0m \u001b[0;34m=\u001b[0m \u001b[0;36m8\u001b[0m\u001b[0;34m,\u001b[0m \u001b[0;36m5\u001b[0m\u001b[0;34m\u001b[0m\u001b[0;34m\u001b[0m\u001b[0m\n\u001b[0;32m----> 7\u001b[0;31m \u001b[0;32mimport\u001b[0m \u001b[0mseaborn\u001b[0m \u001b[0;32mas\u001b[0m \u001b[0msns\u001b[0m\u001b[0;34m\u001b[0m\u001b[0;34m\u001b[0m\u001b[0m\n\u001b[0m",
      "\u001b[0;31mModuleNotFoundError\u001b[0m: No module named 'seaborn'"
     ]
    }
   ],
   "source": [
    "import pandas as pd\n",
    "import numpy as np\n",
    "%pylab inline\n",
    "\n",
    "from pylab import rcParams\n",
    "rcParams['figure.figsize'] = 8, 5\n",
    "import seaborn as sns"
   ]
  },
  {
   "cell_type": "markdown",
   "metadata": {},
   "source": [
    "We study the main methods of packages Pandas and pylab by working with the dataset that describes the churn rate of the customers by one telecom company. \n",
    "\n",
    "<b>Exercise 1:</b>\n",
    "\n",
    "Read the data from the file 'telecom_churn.csv' and display the first 5 rows by means of the method 'head'. <b> Hint :</b> method read_csv may be usefull"
   ]
  },
  {
   "cell_type": "code",
   "execution_count": null,
   "metadata": {},
   "outputs": [],
   "source": [
    "### Write Your code here ###\n"
   ]
  },
  {
   "cell_type": "markdown",
   "metadata": {},
   "source": [
    "<b>Exercise 2:</b>\n",
    "\n",
    "Display the size of the data array, information about it, main statistical characteristics about it. <b>Hint:</b> use methods shape,info,describe."
   ]
  },
  {
   "cell_type": "code",
   "execution_count": null,
   "metadata": {},
   "outputs": [],
   "source": [
    "### Write Your code here ###\n"
   ]
  },
  {
   "cell_type": "markdown",
   "metadata": {},
   "source": [
    "<b>Exercise 3:\n",
    "\n",
    "</b>Convert column 'Churn' to the int64 type. <b> Hint:</b> use method astype.\n",
    "Plot the distribution of the churn and  loyal clients in the bar plot. The figure should look like this:\n",
    "\n",
    "<img src=\"dist_churn.png\">"
   ]
  },
  {
   "cell_type": "code",
   "execution_count": null,
   "metadata": {},
   "outputs": [],
   "source": [
    "### Write Your code here ###\n"
   ]
  },
  {
   "cell_type": "markdown",
   "metadata": {},
   "source": [
    "### Sorting\n",
    "\n",
    "<b>Exercise 4:</b>\n",
    "\n",
    "Sort the obtained dataframe by the value in 'Total day charge' in descending/ascending order. \n",
    "Sort the obtained dataframe by the the group of values in columns 'Churn' and 'Total eve calls'. Try different combinations of ordering. <b> Hint:</b> use the method sort_values."
   ]
  },
  {
   "cell_type": "code",
   "execution_count": null,
   "metadata": {},
   "outputs": [],
   "source": [
    "### Write Your code here ###\n"
   ]
  },
  {
   "cell_type": "markdown",
   "metadata": {},
   "source": [
    "### Indexing and extracting the information from the dataframe\n",
    "\n",
    "By means of the Pandas dataframe we may index and extract information from the dataset. You can index the information, stored in dataframe either by column names or by row indexes. In the first case you use command <i>loc</i>, in the second <i> iloc </i>. <b> Hint: </b> Use logical indexation by column and method groupby to solve the tasks.\n",
    "\n",
    "<b>Exercise 5:</b>\n",
    "* Display the mean churn rate of the clients.\n",
    "* Now we want to analyse statistical information only for the clients, which are not loyal/not loyal to their telecom-company (field 'churn' in dataframe). Extract separately the loyal and not loyal clients from the table and display the mean of their charateristics in one dataframe.\n",
    "* How long do the not loyal users talk (on average) during the day?\n",
    "* What is the maximal length of the international calls for the loyal users that do not use international plan ?"
   ]
  },
  {
   "cell_type": "code",
   "execution_count": null,
   "metadata": {},
   "outputs": [],
   "source": [
    "### Write Your code here ###\n"
   ]
  },
  {
   "cell_type": "markdown",
   "metadata": {
    "collapsed": true
   },
   "source": [
    "### Distribution of the features\n",
    "\n",
    "<b>Exercise 6:</b>\n",
    "\n",
    "Plot the distribution of the features, which have numerical values. <b> Hint: </b>use the method hist which can be also applied for the pandas dataframe. It should look like that:\n",
    "<img src=\"hist_feat.png\">\n",
    "\n",
    "What do you observe? From what probability distribution could each feature be generated from?"
   ]
  },
  {
   "cell_type": "code",
   "execution_count": null,
   "metadata": {},
   "outputs": [],
   "source": [
    "### Write Your code here ###\n",
    "\n"
   ]
  },
  {
   "cell_type": "markdown",
   "metadata": {},
   "source": [
    "### Pivot tables and graphics\n",
    "\n",
    "We want to see how the instance are distributed between two categories: 'International plan' and 'Churn'. \n",
    "\n",
    "<b>Exercise 7:</b>\n",
    "* Build the cross table between features using the method <i>crosstab</i>.\n",
    "* Visualize the distribution for the feature 'Churn', depending on the value of the features 'International plan', 'Voice mail plan', and 'Customer service calls'.\n",
    "<b>Hint:</b> Use commands plt.sublot and sns.subplots.\n",
    "\n",
    "What do you see? What conclusions can be drawn? What feature (intuitively) can be more important for Churn prediction?"
   ]
  },
  {
   "cell_type": "code",
   "execution_count": null,
   "metadata": {},
   "outputs": [],
   "source": [
    "### Write Your code here ###\n"
   ]
  },
  {
   "cell_type": "code",
   "execution_count": null,
   "metadata": {},
   "outputs": [],
   "source": []
  },
  {
   "cell_type": "markdown",
   "metadata": {},
   "source": [
    "<b>Exercise 8:</b>\n",
    "\n",
    "Add to the dataframe a new feature which will describe whether or not the user have done more then 3 service calls. Investigate how does this feature describes the churn rate."
   ]
  },
  {
   "cell_type": "code",
   "execution_count": null,
   "metadata": {},
   "outputs": [],
   "source": [
    "### Write Your code here ###\n"
   ]
  },
  {
   "cell_type": "code",
   "execution_count": null,
   "metadata": {
    "collapsed": true
   },
   "outputs": [],
   "source": []
  },
  {
   "cell_type": "code",
   "execution_count": null,
   "metadata": {
    "collapsed": true
   },
   "outputs": [],
   "source": []
  },
  {
   "cell_type": "code",
   "execution_count": null,
   "metadata": {
    "collapsed": true
   },
   "outputs": [],
   "source": []
  }
 ],
 "metadata": {
  "kernelspec": {
   "display_name": "Python 3",
   "language": "python",
   "name": "python3"
  },
  "language_info": {
   "codemirror_mode": {
    "name": "ipython",
    "version": 3
   },
   "file_extension": ".py",
   "mimetype": "text/x-python",
   "name": "python",
   "nbconvert_exporter": "python",
   "pygments_lexer": "ipython3",
   "version": "3.6.7"
  }
 },
 "nbformat": 4,
 "nbformat_minor": 2
}
