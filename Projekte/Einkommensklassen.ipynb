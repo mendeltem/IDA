{
 "cells": [
  {
   "cell_type": "code",
   "execution_count": null,
   "metadata": {},
   "outputs": [],
   "source": [
    "import keras as ks\n",
    "import tensorflow as tf\n",
    "import pandas as pd\n",
    "import numpy as np\n",
    "\n",
    "from sklearn.model_selection import train_test_split\n",
    "from sklearn.preprocessing import Imputer\n",
    "import warnings\n",
    "warnings.filterwarnings(\"ignore\", category=FutureWarning)"
   ]
  },
  {
   "cell_type": "code",
   "execution_count": null,
   "metadata": {},
   "outputs": [],
   "source": [
    "einkommen = pd.read_csv(\"einkommen.train\")"
   ]
  },
  {
   "cell_type": "code",
   "execution_count": null,
   "metadata": {},
   "outputs": [],
   "source": [
    "# changing index cols with \n",
    "einkommen.columns = ['Age', 'Employment', 'Weighting factor', 'Level of education', \n",
    "                'Schooling/training period', 'Marital status', 'Employment area', 'Partnership', \n",
    "                'Ethnicity', 'Gender', 'Gains on financial assets', 'Losses on financial assets', \n",
    "                'Weekly working time', 'Country of birth','Income'] "
   ]
  },
  {
   "cell_type": "code",
   "execution_count": null,
   "metadata": {},
   "outputs": [],
   "source": [
    "def rounding(digits,threshold = 0.50):\n",
    "    \"\"\"rounds a list of float digits with ad threshhold\"\"\"\n",
    "    if type(digits) == list  or  type(digits) == np.ndarray:\n",
    "        return np.array(list(map(rounding, digits)))\n",
    "    if type(digits)== np.float64 or type(digits)== np.float32:\n",
    "        k = digits % 1\n",
    "        f = digits - k\n",
    "\n",
    "        if k >= threshold:\n",
    "            return (f + 1)\n",
    "        else:\n",
    "            return f\n",
    "    else:\n",
    "        raise ValueError(\"Wrong Type\")"
   ]
  },
  {
   "cell_type": "code",
   "execution_count": null,
   "metadata": {},
   "outputs": [],
   "source": [
    "def binary_enc(dataframe, colname):\n",
    "    \"\"\"cast a string into a binary int variable\n",
    "    \n",
    "    Arguments:\n",
    "        dataframe: DataFrame to change\n",
    "        colname:   String Column that has to change\n",
    "        \n",
    "    Return:\n",
    "        the changed DataFrame\n",
    "    \n",
    "    \"\"\"\n",
    "    temp_df = dataframe.copy(deep=True)\n",
    "\n",
    "    var_1, var_2 = temp_df.loc[:,colname].unique()\n",
    "    #print(var_1, \": 1\")\n",
    "    #print(var_2, \": 0\")\n",
    "\n",
    "    mapper = {\n",
    "        var_1: 1 ,\n",
    "        var_2: 0 \n",
    "    }   \n",
    "    #print(mapper)\n",
    "    \n",
    "    temp_df[colname] = temp_df[colname].replace(mapper)\n",
    "    return temp_df, mapper"
   ]
  },
  {
   "cell_type": "code",
   "execution_count": null,
   "metadata": {},
   "outputs": [],
   "source": [
    "def binary_encoding(dataframe, colnames):\n",
    "    \"\"\"cast a string into a binary int variable\n",
    "    \n",
    "    Arguments:\n",
    "        dataframe: DataFrame to change\n",
    "        colname:   String Column that has to change\n",
    "        \n",
    "    Return:\n",
    "        the changed DataFrame\n",
    "    \n",
    "    \"\"\"\n",
    "    temp_df = dataframe.copy(deep=True)\n",
    "    \n",
    "    maps = {   }\n",
    "\n",
    "    if type(colnames) == list:\n",
    "        for i, col in enumerate(colnames):\n",
    "            temp_df, dictionary = binary_enc(temp_df, col)\n",
    "            #maps.update( {colnames : dictionary} )\n",
    "            \n",
    "            maps.update( {col : dictionary} )\n",
    "    else:\n",
    "        temp_df, dictionary = binary_enc(temp_df, colnames)\n",
    "            \n",
    "    return temp_df,maps"
   ]
  },
  {
   "cell_type": "code",
   "execution_count": null,
   "metadata": {},
   "outputs": [],
   "source": [
    "def zscore_normalisation(dataframe, colname):\n",
    "    \"\"\"zscore transformation \n",
    "    \n",
    "    Arguments:\n",
    "        dataframe: DataFrame to change\n",
    "    Return:\n",
    "        the changed DataFrame        \n",
    "    \"\"\"\n",
    "    temp_df = dataframe.copy(deep=True)\n",
    "    temp_df[colname] = (temp_df[colname] - temp_df[colname].mean()) / temp_df[colname].std()\n",
    "    \n",
    "    return temp_df"
   ]
  },
  {
   "cell_type": "code",
   "execution_count": null,
   "metadata": {},
   "outputs": [],
   "source": [
    "def split_dataframe(dataframe, colname):\n",
    "    \"\"\" splitting data frame in to two dataframes\n",
    "    \n",
    "    Arguments:\n",
    "        dataframe: DataFrame to change\n",
    "        colname:   the selected column would be splitt and returned in a different dataframe\n",
    "        \n",
    "    Return:\n",
    "        dataframe without the given colname\n",
    "        dataframe with only the colname\n",
    "    \"\"\"\n",
    "    temp_df = dataframe.copy(deep=True)\n",
    "    \n",
    "    ordinal_column_df = temp_df.loc[:, colname]\n",
    "    not_ordinal_df = temp_df.drop(columns=colname)\n",
    "    return ordinal_column_df, not_ordinal_df"
   ]
  },
  {
   "cell_type": "code",
   "execution_count": null,
   "metadata": {},
   "outputs": [],
   "source": [
    "#ordinal_level_of_education = {' HS-grad': 0, ' 9th': 1, ' 11th': 2, ' Bachelors': 3, ' Masters': 4}"
   ]
  },
  {
   "cell_type": "code",
   "execution_count": null,
   "metadata": {},
   "outputs": [],
   "source": [
    "#the set with given Target\n",
    "set_1 = einkommen[:4999]"
   ]
  },
  {
   "cell_type": "code",
   "execution_count": null,
   "metadata": {},
   "outputs": [],
   "source": [
    "#check for numbers\n",
    "int_col = [col for i, col in enumerate(set_1.columns) if set_1[col].dtype == int ]\n",
    "#z normalization for nummeric values\n",
    "znorm_df = zscore_normalisation(set_1, int_col)"
   ]
  },
  {
   "cell_type": "code",
   "execution_count": null,
   "metadata": {},
   "outputs": [],
   "source": [
    "#checking for ?\n",
    "for i, k in enumerate(set_1.columns):\n",
    "    unique_names = set_1.loc[:,k].unique()\n",
    "    if \"?\" in k:\n",
    "        print(k)"
   ]
  },
  {
   "cell_type": "code",
   "execution_count": null,
   "metadata": {},
   "outputs": [],
   "source": [
    "print(\"Country of birth: \",sum(set_1['Country of birth'].str.contains('?', regex=False)))\n",
    "print(\"Employment area: \",sum(set_1['Employment area'].str.contains('?', regex=False)))\n",
    "print(\"Employment: \",sum(set_1['Employment'].str.contains('?', regex=False)))"
   ]
  },
  {
   "cell_type": "code",
   "execution_count": null,
   "metadata": {},
   "outputs": [],
   "source": [
    "#check for nominals\n",
    "nominal_col = [col for i, col in enumerate(set_1.columns) if set_1[col].dtype != int ]"
   ]
  },
  {
   "cell_type": "code",
   "execution_count": null,
   "metadata": {
    "scrolled": true
   },
   "outputs": [],
   "source": [
    "nominal_col"
   ]
  },
  {
   "cell_type": "code",
   "execution_count": null,
   "metadata": {
    "scrolled": true
   },
   "outputs": [],
   "source": [
    "#checking for binary\n",
    "for i, k in enumerate(nominal_col):\n",
    "    unique_names = set_1.loc[:,k].unique()\n",
    "    print(\"\\n\",k,\":\", len(unique_names))"
   ]
  },
  {
   "cell_type": "code",
   "execution_count": null,
   "metadata": {},
   "outputs": [],
   "source": [
    "bin_encoded, maps = binary_encoding(znorm_df, [\"Gender\", \"Income\"])"
   ]
  },
  {
   "cell_type": "code",
   "execution_count": null,
   "metadata": {},
   "outputs": [],
   "source": [
    "maps"
   ]
  },
  {
   "cell_type": "code",
   "execution_count": null,
   "metadata": {},
   "outputs": [],
   "source": [
    "nominal_col = [col for i, col in enumerate(bin_encoded.columns) if bin_encoded[col].dtype != int and bin_encoded[col].dtype != float ]"
   ]
  },
  {
   "cell_type": "code",
   "execution_count": null,
   "metadata": {},
   "outputs": [],
   "source": [
    "nominal_col"
   ]
  },
  {
   "cell_type": "code",
   "execution_count": null,
   "metadata": {
    "scrolled": false
   },
   "outputs": [],
   "source": [
    "#one hot encoding the nominals\n",
    "transformed_df = pd.get_dummies(bin_encoded, columns=nominal_col)"
   ]
  },
  {
   "cell_type": "code",
   "execution_count": null,
   "metadata": {
    "scrolled": true
   },
   "outputs": [],
   "source": [
    "y = transformed_df[\"Income\"]\n",
    "X = transformed_df.drop(columns=['Income'])"
   ]
  },
  {
   "cell_type": "code",
   "execution_count": null,
   "metadata": {},
   "outputs": [],
   "source": [
    "X.shape"
   ]
  },
  {
   "cell_type": "code",
   "execution_count": null,
   "metadata": {},
   "outputs": [],
   "source": [
    "y.shape"
   ]
  },
  {
   "cell_type": "code",
   "execution_count": null,
   "metadata": {},
   "outputs": [],
   "source": [
    "from sklearn.model_selection import train_test_split \n",
    "\n",
    "from sklearn.model_selection import KFold\n",
    "kf = KFold(n_splits=10)\n"
   ]
  },
  {
   "cell_type": "code",
   "execution_count": null,
   "metadata": {},
   "outputs": [],
   "source": [
    "X_train, X_test, y_train, y_test = train_test_split(X, y, test_size=0.1)"
   ]
  },
  {
   "cell_type": "code",
   "execution_count": null,
   "metadata": {},
   "outputs": [],
   "source": [
    "X_train.shape"
   ]
  },
  {
   "cell_type": "markdown",
   "metadata": {},
   "source": [
    "Trying Decision Tree"
   ]
  },
  {
   "cell_type": "code",
   "execution_count": 28,
   "metadata": {},
   "outputs": [],
   "source": [
    "from sklearn.tree import DecisionTreeClassifier\n",
    "import matplotlib.pyplot as plt"
   ]
  },
  {
   "cell_type": "code",
   "execution_count": 29,
   "metadata": {
    "scrolled": true
   },
   "outputs": [],
   "source": [
    "from sklearn.neighbors import KNeighborsClassifier\n",
    "from sklearn.metrics import confusion_matrix, classification_report\n",
    "from sklearn.metrics import accuracy_score"
   ]
  },
  {
   "cell_type": "code",
   "execution_count": 30,
   "metadata": {},
   "outputs": [],
   "source": [
    "from sklearn.datasets import load_digits\n",
    "digits = load_digits()\n",
    "X, y = digits.data,digits.target\n",
    "from sklearn.svm import SVC\n",
    "\n",
    "#Out [1] : 1 loops, best of 3: 17.9 s per loop"
   ]
  },
  {
   "cell_type": "code",
   "execution_count": 31,
   "metadata": {},
   "outputs": [],
   "source": [
    "from sklearn.model_selection import cross_val_score"
   ]
  },
  {
   "cell_type": "code",
   "execution_count": 32,
   "metadata": {
    "scrolled": true
   },
   "outputs": [
    {
     "name": "stdout",
     "output_type": "stream",
     "text": [
      "18.2 s ± 2.78 s per loop (mean ± std. dev. of 7 runs, 1 loop each)\n"
     ]
    }
   ],
   "source": [
    "%timeit single_core_learning = cross_val_score(SVC(), X, y, cv=20, n_jobs=1)"
   ]
  },
  {
   "cell_type": "code",
   "execution_count": 33,
   "metadata": {},
   "outputs": [
    {
     "name": "stdout",
     "output_type": "stream",
     "text": [
      "4.4 s ± 395 ms per loop (mean ± std. dev. of 7 runs, 1 loop each)\n"
     ]
    }
   ],
   "source": [
    "%timeit multi_core_learning  = cross_val_score(SVC(), X, y,cv=20, n_jobs=-1)"
   ]
  },
  {
   "cell_type": "markdown",
   "metadata": {},
   "source": [
    "Parameter Optimization"
   ]
  },
  {
   "cell_type": "code",
   "execution_count": 34,
   "metadata": {},
   "outputs": [],
   "source": [
    "test_accuracy_score   = []\n",
    "train_accuracy_score = []\n",
    "\n",
    "for i in range(20):\n",
    "    val_accuracy_score_temp   = []\n",
    "    train_accuracy_score_temp = []\n",
    "    #print(\"parapemter i\", i)\n",
    "    # Create and fit the model\n",
    "    test_scores = cross_val_score(KNeighborsClassifier(i+1), X_test, y_test,cv=20, n_jobs=-1)\n",
    "    train_scores = cross_val_score(KNeighborsClassifier(i+1), X_train, y_train,cv=20, n_jobs=-1)\n",
    "    test_accuracy_score.append(np.mean(test_scores))\n",
    "    train_accuracy_score.append(np.mean(train_scores))         "
   ]
  },
  {
   "cell_type": "code",
   "execution_count": 35,
   "metadata": {},
   "outputs": [
    {
     "name": "stdout",
     "output_type": "stream",
     "text": [
      "Best test parameter:  6\n",
      "Best train parameter:  14\n"
     ]
    }
   ],
   "source": [
    "print(\"Best test parameter: \", np.argmax(test_accuracy_score)) \n",
    "print(\"Best train parameter: \", np.argmax(train_accuracy_score)) "
   ]
  },
  {
   "cell_type": "code",
   "execution_count": 36,
   "metadata": {
    "scrolled": true
   },
   "outputs": [
    {
     "data": {
      "text/plain": [
       "[<matplotlib.lines.Line2D at 0x7f7c64357198>]"
      ]
     },
     "execution_count": 36,
     "metadata": {},
     "output_type": "execute_result"
    },
    {
     "data": {
      "image/png": "[encoded data removed]",
      "text/plain": [
       "<Figure size 432x288 with 1 Axes>"
      ]
     },
     "metadata": {
      "needs_background": "light"
     },
     "output_type": "display_data"
    }
   ],
   "source": [
    "plt.plot(test_accuracy_score, label='val_accuracy_score:', color =\"green\")\n",
    "plt.plot(train_accuracy_score, label='train_accuracy_score:', color =\"red\")"
   ]
  },
  {
   "cell_type": "code",
   "execution_count": 38,
   "metadata": {},
   "outputs": [],
   "source": [
    "knn = KNeighborsClassifier(17)"
   ]
  },
  {
   "cell_type": "code",
   "execution_count": 39,
   "metadata": {},
   "outputs": [
    {
     "ename": "AttributeError",
     "evalue": "'numpy.ndarray' object has no attribute 'loc'",
     "output_type": "error",
     "traceback": [
      "\u001b[0;31m---------------------------------------------------------------------------\u001b[0m",
      "\u001b[0;31mAttributeError\u001b[0m                            Traceback (most recent call last)",
      "\u001b[0;32m<ipython-input-39-411fcb4332cd>\u001b[0m in \u001b[0;36m<module>\u001b[0;34m\u001b[0m\n\u001b[1;32m      4\u001b[0m \u001b[0mindex\u001b[0m \u001b[0;34m=\u001b[0m \u001b[0;36m0\u001b[0m\u001b[0;34m\u001b[0m\u001b[0;34m\u001b[0m\u001b[0m\n\u001b[1;32m      5\u001b[0m \u001b[0;32mfor\u001b[0m \u001b[0mtrain_index\u001b[0m\u001b[0;34m,\u001b[0m \u001b[0mtest_index\u001b[0m \u001b[0;32min\u001b[0m \u001b[0mkf\u001b[0m\u001b[0;34m.\u001b[0m\u001b[0msplit\u001b[0m\u001b[0;34m(\u001b[0m\u001b[0mX\u001b[0m\u001b[0;34m)\u001b[0m\u001b[0;34m:\u001b[0m\u001b[0;34m\u001b[0m\u001b[0;34m\u001b[0m\u001b[0m\n\u001b[0;32m----> 6\u001b[0;31m     \u001b[0mX_train\u001b[0m\u001b[0;34m,\u001b[0m \u001b[0mX_test\u001b[0m \u001b[0;34m=\u001b[0m \u001b[0mX\u001b[0m\u001b[0;34m.\u001b[0m\u001b[0mloc\u001b[0m\u001b[0;34m[\u001b[0m\u001b[0mtrain_index\u001b[0m\u001b[0;34m]\u001b[0m \u001b[0;34m,\u001b[0m \u001b[0mX\u001b[0m\u001b[0;34m.\u001b[0m\u001b[0mloc\u001b[0m\u001b[0;34m[\u001b[0m\u001b[0mtest_index\u001b[0m\u001b[0;34m]\u001b[0m\u001b[0;34m\u001b[0m\u001b[0;34m\u001b[0m\u001b[0m\n\u001b[0m\u001b[1;32m      7\u001b[0m     \u001b[0my_train\u001b[0m\u001b[0;34m,\u001b[0m \u001b[0my_test\u001b[0m \u001b[0;34m=\u001b[0m \u001b[0mtarget\u001b[0m\u001b[0;34m.\u001b[0m\u001b[0mloc\u001b[0m\u001b[0;34m[\u001b[0m\u001b[0mtrain_index\u001b[0m\u001b[0;34m]\u001b[0m\u001b[0;34m,\u001b[0m \u001b[0mtarget\u001b[0m\u001b[0;34m.\u001b[0m\u001b[0mloc\u001b[0m\u001b[0;34m[\u001b[0m\u001b[0mtest_index\u001b[0m\u001b[0;34m]\u001b[0m\u001b[0;34m\u001b[0m\u001b[0;34m\u001b[0m\u001b[0m\n\u001b[1;32m      8\u001b[0m     \u001b[0mknn\u001b[0m\u001b[0;34m.\u001b[0m\u001b[0mfit\u001b[0m\u001b[0;34m(\u001b[0m\u001b[0mX_train\u001b[0m\u001b[0;34m,\u001b[0m\u001b[0my_train\u001b[0m\u001b[0;34m)\u001b[0m\u001b[0;34m\u001b[0m\u001b[0;34m\u001b[0m\u001b[0m\n",
      "\u001b[0;31mAttributeError\u001b[0m: 'numpy.ndarray' object has no attribute 'loc'"
     ]
    }
   ],
   "source": [
    "val_accuracy_score   = []\n",
    "train_accuracy_score = []\n",
    "\n",
    "index = 0\n",
    "for train_index, test_index in kf.split(X):\n",
    "    X_train, X_test = X.loc[train_index] , X.loc[test_index]\n",
    "    y_train, y_test = target.loc[train_index], target.loc[test_index]\n",
    "    knn.fit(X_train,y_train)\n",
    "    \n",
    "    # Predict on the test features, print the results\n",
    "    y_pred_test = knn.predict(X_test)\n",
    "    y_pred_train = knn.predict(X_train)\n",
    "    #print(classification_report(y_test,pred))\n",
    "    val_accuracy_score.append(accuracy_score(y_test,y_pred_test))\n",
    "    train_accuracy_score.append(accuracy_score(y_train,y_pred_train))\n",
    "    \n",
    "print(np.mean(val_accuracy_score))\n",
    "print(np.mean(train_accuracy_score))   "
   ]
  },
  {
   "cell_type": "code",
   "execution_count": null,
   "metadata": {},
   "outputs": [],
   "source": [
    "plt.plot(val_accuracy_score, label='val_accuracy_score:', color =\"green\")\n",
    "plt.plot(train_accuracy_score, label='train_accuracy_score:', color =\"red\")"
   ]
  },
  {
   "cell_type": "markdown",
   "metadata": {},
   "source": [
    "Getting the best result"
   ]
  },
  {
   "cell_type": "code",
   "execution_count": 40,
   "metadata": {},
   "outputs": [
    {
     "ename": "NameError",
     "evalue": "name 'loss' is not defined",
     "output_type": "error",
     "traceback": [
      "\u001b[0;31m---------------------------------------------------------------------------\u001b[0m",
      "\u001b[0;31mNameError\u001b[0m                                 Traceback (most recent call last)",
      "\u001b[0;32m<ipython-input-40-95c5462dac19>\u001b[0m in \u001b[0;36m<module>\u001b[0;34m\u001b[0m\n\u001b[1;32m      5\u001b[0m \u001b[0my_pred\u001b[0m \u001b[0;34m=\u001b[0m \u001b[0mknn\u001b[0m\u001b[0;34m.\u001b[0m\u001b[0mpredict\u001b[0m\u001b[0;34m(\u001b[0m\u001b[0mX_test\u001b[0m\u001b[0;34m)\u001b[0m\u001b[0;34m\u001b[0m\u001b[0;34m\u001b[0m\u001b[0m\n\u001b[1;32m      6\u001b[0m \u001b[0;31m#print(classification_report(y_test,pred))\u001b[0m\u001b[0;34m\u001b[0m\u001b[0;34m\u001b[0m\u001b[0;34m\u001b[0m\u001b[0m\n\u001b[0;32m----> 7\u001b[0;31m \u001b[0mloss\u001b[0m\u001b[0;34m.\u001b[0m\u001b[0mappend\u001b[0m\u001b[0;34m(\u001b[0m\u001b[0msum\u001b[0m\u001b[0;34m(\u001b[0m\u001b[0;34m(\u001b[0m\u001b[0my_test\u001b[0m\u001b[0;34m-\u001b[0m \u001b[0mknn\u001b[0m\u001b[0;34m.\u001b[0m\u001b[0mpredict\u001b[0m\u001b[0;34m(\u001b[0m\u001b[0mX_test\u001b[0m\u001b[0;34m)\u001b[0m\u001b[0;34m)\u001b[0m \u001b[0;34m**\u001b[0m \u001b[0;36m2\u001b[0m\u001b[0;34m)\u001b[0m\u001b[0;34m)\u001b[0m\u001b[0;34m\u001b[0m\u001b[0;34m\u001b[0m\u001b[0m\n\u001b[0m\u001b[1;32m      8\u001b[0m \u001b[0;34m\u001b[0m\u001b[0m\n\u001b[1;32m      9\u001b[0m \u001b[0mprint\u001b[0m\u001b[0;34m(\u001b[0m\u001b[0mclassification_report\u001b[0m\u001b[0;34m(\u001b[0m\u001b[0my_test\u001b[0m\u001b[0;34m,\u001b[0m\u001b[0my_pred\u001b[0m\u001b[0;34m)\u001b[0m\u001b[0;34m)\u001b[0m\u001b[0;34m\u001b[0m\u001b[0;34m\u001b[0m\u001b[0m\n",
      "\u001b[0;31mNameError\u001b[0m: name 'loss' is not defined"
     ]
    }
   ],
   "source": [
    "knn = KNeighborsClassifier(17)\n",
    "knn.fit(X_train,y_train)\n",
    "\n",
    "# Predict on the test features, print the results\n",
    "y_pred = knn.predict(X_test)\n",
    "#print(classification_report(y_test,pred))\n",
    "loss.append(sum((y_test- knn.predict(X_test)) ** 2))\n",
    "\n",
    "print(classification_report(y_test,y_pred))"
   ]
  },
  {
   "cell_type": "markdown",
   "metadata": {},
   "source": [
    "Random Forest"
   ]
  },
  {
   "cell_type": "code",
   "execution_count": 41,
   "metadata": {},
   "outputs": [],
   "source": [
    "from sklearn.ensemble import RandomForestClassifier"
   ]
  },
  {
   "cell_type": "code",
   "execution_count": 42,
   "metadata": {},
   "outputs": [],
   "source": [
    "clf = RandomForestClassifier(max_depth = 1)"
   ]
  },
  {
   "cell_type": "code",
   "execution_count": 43,
   "metadata": {
    "scrolled": true
   },
   "outputs": [
    {
     "data": {
      "text/plain": [
       "RandomForestClassifier(bootstrap=True, class_weight=None, criterion='gini',\n",
       "                       max_depth=1, max_features='auto', max_leaf_nodes=None,\n",
       "                       min_impurity_decrease=0.0, min_impurity_split=None,\n",
       "                       min_samples_leaf=1, min_samples_split=2,\n",
       "                       min_weight_fraction_leaf=0.0, n_estimators=10,\n",
       "                       n_jobs=None, oob_score=False, random_state=None,\n",
       "                       verbose=0, warm_start=False)"
      ]
     },
     "execution_count": 43,
     "metadata": {},
     "output_type": "execute_result"
    }
   ],
   "source": [
    "clf.fit(X_train,y_train)"
   ]
  },
  {
   "cell_type": "code",
   "execution_count": 44,
   "metadata": {},
   "outputs": [
    {
     "name": "stdout",
     "output_type": "stream",
     "text": [
      "222 ms ± 34.4 ms per loop (mean ± std. dev. of 7 runs, 1 loop each)\n",
      "114 ms ± 1.01 ms per loop (mean ± std. dev. of 7 runs, 10 loops each)\n"
     ]
    }
   ],
   "source": [
    "test_accuracy_scores = []\n",
    "train_accuracy_scores = []\n",
    "\n",
    "for i in range(1,2):\n",
    "    # Create and fit the model\n",
    "    %timeit train_scores =  cross_val_score(RandomForestClassifier(max_depth = i), X_train, y_train, cv=20, n_jobs=-1)\n",
    "    %timeit test_scores  =  cross_val_score(RandomForestClassifier(max_depth = i), X_test, y_test, cv=20, n_jobs=-1)\n",
    "    test_accuracy_scores.append(np.mean(test_scores))\n",
    "    train_accuracy_scores.append(np.mean(train_scores))"
   ]
  },
  {
   "cell_type": "code",
   "execution_count": 45,
   "metadata": {},
   "outputs": [
    {
     "name": "stdout",
     "output_type": "stream",
     "text": [
      "Best test parameter:  0\n",
      "Best train parameter:  0\n"
     ]
    }
   ],
   "source": [
    "print(\"Best test parameter: \", np.argmax(test_accuracy_scores)) \n",
    "print(\"Best train parameter: \", np.argmax(train_accuracy_scores)) "
   ]
  },
  {
   "cell_type": "code",
   "execution_count": 46,
   "metadata": {},
   "outputs": [
    {
     "data": {
      "image/png": "[encoded data removed]",
      "text/plain": [
       "<Figure size 432x288 with 1 Axes>"
      ]
     },
     "metadata": {
      "needs_background": "light"
     },
     "output_type": "display_data"
    }
   ],
   "source": [
    "plt.plot(test_accuracy_scores, label='val_accuracy_score:', color =\"green\")\n",
    "plt.plot(train_accuracy_scores, label='train_accuracy_score:', color =\"red\")\n",
    "plt.legend()\n",
    "plt.show()"
   ]
  },
  {
   "cell_type": "code",
   "execution_count": 48,
   "metadata": {
    "scrolled": true
   },
   "outputs": [
    {
     "name": "stdout",
     "output_type": "stream",
     "text": [
      "              precision    recall  f1-score   support\n",
      "\n",
      "           0       0.73      0.59      0.66       128\n",
      "           1       0.87      0.92      0.90       372\n",
      "\n",
      "    accuracy                           0.84       500\n",
      "   macro avg       0.80      0.76      0.78       500\n",
      "weighted avg       0.83      0.84      0.83       500\n",
      "\n"
     ]
    }
   ],
   "source": [
    "rclf = RandomForestClassifier(max_depth = 14)\n",
    "rclf.fit(X_train,y_train)\n",
    "\n",
    "# Predict on the test features, print the results\n",
    "y_pred = rclf.predict(X_test)\n",
    "#print(classification_report(y_test,pred))\n",
    "#loss.append(sum((y_test- rclf.predict(X_test)) ** 2))\n",
    "\n",
    "print(classification_report(y_test,y_pred))"
   ]
  },
  {
   "cell_type": "code",
   "execution_count": 61,
   "metadata": {},
   "outputs": [
    {
     "data": {
      "text/plain": [
       "(4999, 104)"
      ]
     },
     "execution_count": 61,
     "metadata": {},
     "output_type": "execute_result"
    }
   ],
   "source": [
    "X.shape"
   ]
  },
  {
   "cell_type": "code",
   "execution_count": 60,
   "metadata": {},
   "outputs": [
    {
     "data": {
      "text/plain": [
       "(4999,)"
      ]
     },
     "execution_count": 60,
     "metadata": {},
     "output_type": "execute_result"
    }
   ],
   "source": [
    "y.shape"
   ]
  },
  {
   "cell_type": "code",
   "execution_count": 49,
   "metadata": {},
   "outputs": [],
   "source": [
    "from keras.models import Sequential\n",
    "from keras.layers.core import Dense\n",
    "from keras.layers.core import Activation\n",
    "from keras import metrics\n",
    "from keras.layers import Dropout\n",
    "from keras.callbacks import ModelCheckpoint\n",
    "from keras.wrappers.scikit_learn import KerasClassifier\n",
    "from sklearn.model_selection import StratifiedKFold\n",
    "\n",
    "def classifier():\n",
    "    model = Sequential()\n",
    "    model.add(Dense(100, input_dim=X_train.shape[1], activation='relu'))\n",
    "    model.add(Dropout(0.5))\n",
    "    model.add(Dense(100, activation='relu'))\n",
    "    model.add(Dropout(0.5))\n",
    "    model.add(Dense(1, activation='sigmoid'))\n",
    "    model.compile(optimizer='adam',\n",
    "                  loss='binary_crossentropy',\n",
    "                  metrics=[\"acc\"])\n",
    "    return model"
   ]
  },
  {
   "cell_type": "code",
   "execution_count": 50,
   "metadata": {},
   "outputs": [
    {
     "name": "stdout",
     "output_type": "stream",
     "text": [
      "['/job:localhost/replica:0/task:0/device:GPU:0']\n"
     ]
    }
   ],
   "source": [
    "from keras import backend\n",
    "print(backend.tensorflow_backend._get_available_gpus())"
   ]
  },
  {
   "cell_type": "code",
   "execution_count": 65,
   "metadata": {},
   "outputs": [
    {
     "name": "stdout",
     "output_type": "stream",
     "text": [
      "Epoch 1/1\n",
      "2499/2499 [==============================] - 7s 3ms/step - loss: 0.4171 - acc: 0.7987\n",
      "2500/2500 [==============================] - 2s 743us/step\n",
      "Epoch 1/1\n",
      "2500/2500 [==============================] - 7s 3ms/step - loss: 0.3844 - acc: 0.8168\n",
      "2499/2499 [==============================] - 2s 884us/step\n",
      "0.8451680672268908\n"
     ]
    }
   ],
   "source": [
    "model = KerasClassifier(build_fn=classifier, epochs=1, batch_size=1, verbose=1)\n",
    "# evaluate using 10-fold cross validation\n",
    "kfold = StratifiedKFold(n_splits=2, shuffle=True, random_state=2)\n",
    "results = cross_val_score(model, X, y, cv=kfold, n_jobs=1)\n",
    "print(results.mean())"
   ]
  },
  {
   "cell_type": "code",
   "execution_count": null,
   "metadata": {},
   "outputs": [],
   "source": [
    "X_train.shape"
   ]
  },
  {
   "cell_type": "code",
   "execution_count": null,
   "metadata": {},
   "outputs": [],
   "source": [
    "classifier = classifier(X_train.shape[1])"
   ]
  },
  {
   "cell_type": "code",
   "execution_count": null,
   "metadata": {},
   "outputs": [],
   "source": [
    "%timeit train_scores =  cross_val_score(classifier(X_train.shape[1]), X_train, y_train, cv=20, n_jobs=-1)"
   ]
  },
  {
   "cell_type": "code",
   "execution_count": null,
   "metadata": {},
   "outputs": [],
   "source": [
    "test_accuracy_scores = []\n",
    "train_accuracy_scores = []\n",
    "\n",
    "for i in range(1,2):\n",
    "    # Create and fit the model\n",
    "    %timeit train_scores =  cross_val_score(classifier(X_train.shape[1]), X_train, y_train, cv=20, n_jobs=-1)\n",
    "    %timeit test_scores  =  cross_val_score(classifier(X_train.shape[1]), X_test, y_test, cv=20, n_jobs=-1)\n",
    "    test_accuracy_scores.append(np.mean(test_scores))\n",
    "    train_accuracy_scores.append(np.mean(train_scores))"
   ]
  },
  {
   "cell_type": "code",
   "execution_count": null,
   "metadata": {},
   "outputs": [],
   "source": [
    "print(\"Best test parameter: \", np.argmax(test_accuracy_scores)) \n",
    "print(\"Best train parameter: \", np.argmax(train_accuracy_scores)) "
   ]
  },
  {
   "cell_type": "code",
   "execution_count": null,
   "metadata": {},
   "outputs": [],
   "source": [
    "plt.plot(test_accuracy_scores, label='val_accuracy_score:', color =\"green\")\n",
    "plt.plot(train_accuracy_scores, label='train_accuracy_score:', color =\"red\")\n",
    "plt.legend()\n",
    "plt.show()"
   ]
  },
  {
   "cell_type": "code",
   "execution_count": null,
   "metadata": {},
   "outputs": [],
   "source": [
    "save_cmodel_wieghts_path = \"model_weights_best2.hdf5\""
   ]
  },
  {
   "cell_type": "code",
   "execution_count": null,
   "metadata": {
    "scrolled": true
   },
   "outputs": [],
   "source": [
    "history = classifier.fit(X_train,y_train, epochs = 100,batch_size =100,verbose=3,callbacks=[ ModelCheckpoint(\n",
    "               filepath=save_cmodel_wieghts_path,\n",
    "               verbose=1, save_best_only=True)],\n",
    "          validation_data=(X_test, y_test))"
   ]
  },
  {
   "cell_type": "code",
   "execution_count": null,
   "metadata": {
    "scrolled": true
   },
   "outputs": [],
   "source": [
    "classifier.load_weights(save_cmodel_wieghts_path)\n",
    "y_pred = classifier.predict(X_test)\n",
    "y_pred = rounding(y_pred)\n",
    "print(classification_report(y_test,y_pred))"
   ]
  },
  {
   "cell_type": "code",
   "execution_count": null,
   "metadata": {},
   "outputs": [],
   "source": [
    "clf = LogisticRegression(fit_intercept = True, C = C)"
   ]
  },
  {
   "cell_type": "markdown",
   "metadata": {},
   "source": [
    "Logistic Regression"
   ]
  },
  {
   "cell_type": "code",
   "execution_count": null,
   "metadata": {
    "scrolled": false
   },
   "outputs": [],
   "source": [
    "val_accuracy_score   = []\n",
    "train_accuracy_score = []\n",
    "\n",
    "for i in range(1,100):\n",
    "    # Create and fit the model\n",
    "    logreg = LogisticRegression(fit_intercept = True, C = i)\n",
    "    logreg.fit(X_train,y_train)\n",
    "\n",
    "    # Predict on the test features, print the results\n",
    "    y_pred_test = logreg.predict(X_test)\n",
    "    y_pred_train = logreg.predict(X_train)\n",
    "    #print(classification_report(y_test,pred))\n",
    "    val_accuracy_score.append(accuracy_score(y_test,y_pred_test))\n",
    "    train_accuracy_score.append(accuracy_score(y_train,y_pred_train))"
   ]
  },
  {
   "cell_type": "code",
   "execution_count": null,
   "metadata": {},
   "outputs": [],
   "source": [
    "plt.plot(val_accuracy_score, label='val_accuracy_score:', color =\"green\")\n",
    "plt.plot(train_accuracy_score, label='train_accuracy_score:', color =\"red\")"
   ]
  },
  {
   "cell_type": "code",
   "execution_count": null,
   "metadata": {},
   "outputs": [],
   "source": [
    "np.argmax(val_accuracy_score)"
   ]
  },
  {
   "cell_type": "code",
   "execution_count": null,
   "metadata": {},
   "outputs": [],
   "source": [
    "from sklearn.linear_model import LogisticRegression\n",
    "\n",
    "logreg = LogisticRegression(fit_intercept = True, C=1)\n",
    "\n",
    "logreg.fit(X_train,y_train)"
   ]
  },
  {
   "cell_type": "code",
   "execution_count": null,
   "metadata": {},
   "outputs": [],
   "source": [
    "# Predict on the test features, print the results\n",
    "y_pred = logreg.predict(X_test)\n",
    "#print(classification_report(y_test,pred))\n",
    "print(classification_report(y_test,y_pred))"
   ]
  },
  {
   "cell_type": "code",
   "execution_count": null,
   "metadata": {},
   "outputs": [],
   "source": [
    "val_accuracy_score   = []\n",
    "train_accuracy_score = []\n",
    "\n",
    "index = 0\n",
    "for train_index, test_index in kf.split(X):\n",
    "    X_train, X_test = X.loc[train_index] , X.loc[test_index]\n",
    "    y_train, y_test = target.loc[train_index], target.loc[test_index]\n",
    "    logreg.fit(X_train,y_train)\n",
    "    \n",
    "    # Predict on the test features, print the results\n",
    "    y_pred_test = logreg.predict(X_test)\n",
    "    y_pred_train = logreg.predict(X_train)\n",
    "    #print(classification_report(y_test,pred))\n",
    "    val_accuracy_score.append(accuracy_score(y_test,y_pred_test))\n",
    "    train_accuracy_score.append(accuracy_score(y_train,y_pred_train))\n",
    "    \n",
    "print(np.mean(val_accuracy_score))\n",
    "print(np.mean(train_accuracy_score))    "
   ]
  }
 ],
 "metadata": {
  "kernelspec": {
   "display_name": "Python 3",
   "language": "python",
   "name": "python3"
  },
  "language_info": {
   "codemirror_mode": {
    "name": "ipython",
    "version": 3
   },
   "file_extension": ".py",
   "mimetype": "text/x-python",
   "name": "python",
   "nbconvert_exporter": "python",
   "pygments_lexer": "ipython3",
   "version": "3.7.3"
  }
 },
 "nbformat": 4,
 "nbformat_minor": 2
}
