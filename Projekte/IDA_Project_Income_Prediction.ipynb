{
 "cells": [
  {
   "cell_type": "markdown",
   "metadata": {},
   "source": [
    "Check where my python env is"
   ]
  },
  {
   "cell_type": "code",
   "execution_count": 1,
   "metadata": {},
   "outputs": [],
   "source": [
    "import sys"
   ]
  },
  {
   "cell_type": "code",
   "execution_count": 2,
   "metadata": {
    "scrolled": true
   },
   "outputs": [
    {
     "data": {
      "text/plain": [
       "'/media/pandoora/DATA/programms/Anaconda/envs/tf_gpu/bin/python3'"
      ]
     },
     "execution_count": 2,
     "metadata": {},
     "output_type": "execute_result"
    }
   ],
   "source": [
    "sys.executable"
   ]
  },
  {
   "cell_type": "code",
   "execution_count": 3,
   "metadata": {},
   "outputs": [],
   "source": [
    "import pandas as pd\n",
    "import numpy as np\n",
    "import matplotlib.pyplot as plt\n",
    "import time, random  "
   ]
  },
  {
   "cell_type": "markdown",
   "metadata": {},
   "source": [
    "Imports for Neural Network"
   ]
  },
  {
   "cell_type": "code",
   "execution_count": 4,
   "metadata": {},
   "outputs": [],
   "source": [
    "import tensorflow as tf\n",
    "keras = tf.keras\n",
    "Sequential =  keras.models.Sequential\n",
    "Dense = keras.layers.Dense\n",
    "Activation =  keras.layers.Activation\n",
    "metrics = keras.metrics\n",
    "Dropout = keras.layers.Dropout\n",
    "ModelCheckpoint = keras.callbacks.ModelCheckpoint\n",
    "KerasClassifier = keras.wrappers.scikit_learn.KerasClassifier"
   ]
  },
  {
   "cell_type": "markdown",
   "metadata": {},
   "source": [
    "Imports for Helpertools and Models"
   ]
  },
  {
   "cell_type": "code",
   "execution_count": 79,
   "metadata": {},
   "outputs": [],
   "source": [
    "from sklearn.model_selection import StratifiedKFold\n",
    "from sklearn.model_selection import StratifiedShuffleSplit\n",
    "from sklearn.model_selection import train_test_split\n",
    "from sklearn.preprocessing import Imputer\n",
    "from sklearn.neighbors import KNeighborsClassifier\n",
    "from sklearn.ensemble import RandomForestClassifier\n",
    "from sklearn.model_selection import cross_val_score\n",
    "from sklearn.metrics import confusion_matrix, classification_report\n",
    "from sklearn import metrics\n",
    "\n",
    "from bayes_opt import BayesianOptimization\n",
    "from joblib import Parallel, delayed"
   ]
  },
  {
   "cell_type": "code",
   "execution_count": 6,
   "metadata": {},
   "outputs": [],
   "source": [
    "import warnings\n",
    "warnings.filterwarnings(\"ignore\", category=FutureWarning)\n",
    "warnings.filterwarnings(\"ignore\", category=UserWarning)\n",
    "warnings.filterwarnings(\"ignore\", category=DeprecationWarning)"
   ]
  },
  {
   "cell_type": "markdown",
   "metadata": {},
   "source": [
    "Setting Seed "
   ]
  },
  {
   "cell_type": "code",
   "execution_count": 7,
   "metadata": {},
   "outputs": [],
   "source": [
    "seed = 7"
   ]
  },
  {
   "cell_type": "code",
   "execution_count": 8,
   "metadata": {},
   "outputs": [],
   "source": [
    "def rounding(digits, threshold = 0.50):\n",
    "    \"\"\"rounds a list of float digits with own threshhold\"\"\"\n",
    "    if type(digits) == list  or  type(digits) == np.ndarray:\n",
    "        return np.array(list(map(rounding, digits)))\n",
    "    elif type(digits)== np.float64 or type(digits)== np.float32:\n",
    "        k = digits % 1\n",
    "        f = digits - k\n",
    "\n",
    "        if k >= threshold:\n",
    "            return int((f + 1))\n",
    "        else:\n",
    "            return int(f)\n",
    "    else:\n",
    "        raise ValueError(\"Wrong Type\")"
   ]
  },
  {
   "cell_type": "code",
   "execution_count": 9,
   "metadata": {},
   "outputs": [],
   "source": [
    "def binary_enc(dataframe, colname):\n",
    "    \"\"\"cast a string into a binary int variable\n",
    "    \n",
    "    Arguments:\n",
    "        dataframe: DataFrame to change\n",
    "        colname:   String Column that has to change\n",
    "        \n",
    "    Return:\n",
    "        the changed DataFrame\n",
    "    \n",
    "    \"\"\"\n",
    "    temp_df = dataframe.copy(deep=True)\n",
    "\n",
    "    var_1, var_2 = temp_df.loc[:,colname].unique()\n",
    "    #print(var_1, \": 1\")\n",
    "    #print(var_2, \": 0\")\n",
    "\n",
    "    mapper = {\n",
    "        var_1: 1 ,\n",
    "        var_2: 0 \n",
    "    }   \n",
    "    #print(mapper)\n",
    "    \n",
    "    temp_df[colname] = temp_df[colname].replace(mapper)\n",
    "    return temp_df, mapper"
   ]
  },
  {
   "cell_type": "code",
   "execution_count": 10,
   "metadata": {},
   "outputs": [],
   "source": [
    "def binary_encoding(dataframe, colnames):\n",
    "    \"\"\"casts a string variabl into a binary integer variable\n",
    "    \n",
    "    Arguments:\n",
    "        dataframe: DataFrame to change\n",
    "        colname:   String Column that has to change\n",
    "        \n",
    "    Return:\n",
    "        the changed DataFrame with a binary integer columns\n",
    "    \n",
    "    \"\"\"\n",
    "    temp_df = dataframe.copy(deep=True)\n",
    "    \n",
    "    maps = {   }\n",
    "\n",
    "    if type(colnames) == list:\n",
    "        for i, col in enumerate(colnames):\n",
    "            temp_df, dictionary = binary_enc(temp_df, col)\n",
    "            #maps.update( {colnames : dictionary} )\n",
    "            \n",
    "            maps.update( {col : dictionary} )\n",
    "    else:\n",
    "        temp_df, dictionary = binary_enc(temp_df, colnames)\n",
    "            \n",
    "    return temp_df,maps"
   ]
  },
  {
   "cell_type": "code",
   "execution_count": 11,
   "metadata": {},
   "outputs": [],
   "source": [
    "def zscore_normalisation(dataframe, colname):\n",
    "    \"\"\"zscore transformation \n",
    "    \n",
    "    Arguments:\n",
    "        dataframe: DataFrame to change\n",
    "    Return:\n",
    "        the changed DataFrame        \n",
    "    \"\"\"\n",
    "    temp_df = dataframe.copy(deep=True)\n",
    "    temp_df[colname] = (temp_df[colname] - temp_df[colname].mean()) / temp_df[colname].std()\n",
    "    \n",
    "    return temp_df"
   ]
  },
  {
   "cell_type": "code",
   "execution_count": 12,
   "metadata": {},
   "outputs": [],
   "source": [
    "def split_dataframe(dataframe, colname):\n",
    "    \"\"\" splitting data frame in to two dataframes\n",
    "    \n",
    "    Arguments:\n",
    "        dataframe: DataFrame to change\n",
    "        colname:   the selected column would be splitt and returned in a different dataframe\n",
    "        \n",
    "    Return:\n",
    "        dataframe without the given colname\n",
    "        dataframe with only the colname\n",
    "    \"\"\"\n",
    "    temp_df = dataframe.copy(deep=True)\n",
    "    \n",
    "    ordinal_column_df = temp_df.loc[:, colname]\n",
    "    not_ordinal_df = temp_df.drop(columns=colname)\n",
    "    return ordinal_column_df, not_ordinal_df"
   ]
  },
  {
   "cell_type": "markdown",
   "metadata": {},
   "source": [
    "Loading the DataFrame"
   ]
  },
  {
   "cell_type": "code",
   "execution_count": 13,
   "metadata": {},
   "outputs": [],
   "source": [
    "einkommen = pd.read_csv(\"einkommen.train\")"
   ]
  },
  {
   "cell_type": "markdown",
   "metadata": {},
   "source": [
    "Ranaming the columns from the Description"
   ]
  },
  {
   "cell_type": "code",
   "execution_count": 14,
   "metadata": {},
   "outputs": [],
   "source": [
    "# changing index cols with \n",
    "einkommen.columns = ['Age', 'Employment', 'Weighting_factor', 'Level_of_education', \n",
    "                'Schooling_period', 'Marital_status', 'Employment_area', 'Partnership', \n",
    "                'Ethnicity', 'Gender', 'Gains_on_financial assets', 'Losses_on_financial_assets', \n",
    "                'Weekly_working_time', 'Country_of birth','Income'] "
   ]
  },
  {
   "cell_type": "markdown",
   "metadata": {},
   "source": [
    "Checking the DataFrame"
   ]
  },
  {
   "cell_type": "code",
   "execution_count": 15,
   "metadata": {},
   "outputs": [
    {
     "data": {
      "text/plain": [
       "(29999, 15)"
      ]
     },
     "execution_count": 15,
     "metadata": {},
     "output_type": "execute_result"
    }
   ],
   "source": [
    "einkommen.shape"
   ]
  },
  {
   "cell_type": "markdown",
   "metadata": {},
   "source": [
    "It has 30K Rows and 15 Columns"
   ]
  },
  {
   "cell_type": "code",
   "execution_count": 16,
   "metadata": {
    "scrolled": false
   },
   "outputs": [
    {
     "name": "stdout",
     "output_type": "stream",
     "text": [
      "<class 'pandas.core.frame.DataFrame'>\n",
      "RangeIndex: 29999 entries, 0 to 29998\n",
      "Data columns (total 15 columns):\n",
      "Age                           29999 non-null int64\n",
      "Employment                    29999 non-null object\n",
      "Weighting_factor              29999 non-null int64\n",
      "Level_of_education            29999 non-null object\n",
      "Schooling_period              29999 non-null int64\n",
      "Marital_status                29999 non-null object\n",
      "Employment_area               29999 non-null object\n",
      "Partnership                   29999 non-null object\n",
      "Ethnicity                     29999 non-null object\n",
      "Gender                        29999 non-null object\n",
      "Gains_on_financial assets     29999 non-null int64\n",
      "Losses_on_financial_assets    29999 non-null int64\n",
      "Weekly_working_time           29999 non-null int64\n",
      "Country_of birth              29999 non-null object\n",
      "Income                        29999 non-null object\n",
      "dtypes: int64(6), object(9)\n",
      "memory usage: 3.4+ MB\n"
     ]
    }
   ],
   "source": [
    "einkommen.info()"
   ]
  },
  {
   "cell_type": "markdown",
   "metadata": {},
   "source": [
    "get the 5000 rows with given Target"
   ]
  },
  {
   "cell_type": "code",
   "execution_count": 17,
   "metadata": {},
   "outputs": [],
   "source": [
    "set_1 = einkommen[:4999]"
   ]
  },
  {
   "cell_type": "code",
   "execution_count": 18,
   "metadata": {},
   "outputs": [
    {
     "data": {
      "text/plain": [
       "(4999, 15)"
      ]
     },
     "execution_count": 18,
     "metadata": {},
     "output_type": "execute_result"
    }
   ],
   "source": [
    "set_1.shape"
   ]
  },
  {
   "cell_type": "code",
   "execution_count": 19,
   "metadata": {
    "scrolled": true
   },
   "outputs": [
    {
     "name": "stdout",
     "output_type": "stream",
     "text": [
      "   Age         Employment  Weighting_factor Level_of_education  \\\n",
      "0   50   Self-emp-not-inc             83311          Bachelors   \n",
      "1   38            Private            215646            HS-grad   \n",
      "2   53            Private            234721               11th   \n",
      "\n",
      "   Schooling_period       Marital_status     Employment_area     Partnership  \\\n",
      "0                13   Married-civ-spouse     Exec-managerial         Husband   \n",
      "1                 9             Divorced   Handlers-cleaners   Not-in-family   \n",
      "2                 7   Married-civ-spouse   Handlers-cleaners         Husband   \n",
      "\n",
      "  Ethnicity Gender  Gains_on_financial assets  Losses_on_financial_assets  \\\n",
      "0     White   Male                          0                           0   \n",
      "1     White   Male                          0                           0   \n",
      "2     Black   Male                          0                           0   \n",
      "\n",
      "   Weekly_working_time Country_of birth  Income  \n",
      "0                   13    United-States   <=50K  \n",
      "1                   40    United-States   <=50K  \n",
      "2                   40    United-States   <=50K  \n"
     ]
    }
   ],
   "source": [
    "print(set_1[:3])"
   ]
  },
  {
   "cell_type": "code",
   "execution_count": 20,
   "metadata": {},
   "outputs": [
    {
     "data": {
      "text/html": [
       "<div>\n",
       "<style scoped>\n",
       "    .dataframe tbody tr th:only-of-type {\n",
       "        vertical-align: middle;\n",
       "    }\n",
       "\n",
       "    .dataframe tbody tr th {\n",
       "        vertical-align: top;\n",
       "    }\n",
       "\n",
       "    .dataframe thead th {\n",
       "        text-align: right;\n",
       "    }\n",
       "</style>\n",
       "<table border=\"1\" class=\"dataframe\">\n",
       "  <thead>\n",
       "    <tr style=\"text-align: right;\">\n",
       "      <th></th>\n",
       "      <th>Age</th>\n",
       "      <th>Employment</th>\n",
       "      <th>Weighting_factor</th>\n",
       "      <th>Level_of_education</th>\n",
       "      <th>Schooling_period</th>\n",
       "      <th>Marital_status</th>\n",
       "      <th>Employment_area</th>\n",
       "      <th>Partnership</th>\n",
       "      <th>Ethnicity</th>\n",
       "      <th>Gender</th>\n",
       "      <th>Gains_on_financial assets</th>\n",
       "      <th>Losses_on_financial_assets</th>\n",
       "      <th>Weekly_working_time</th>\n",
       "      <th>Country_of birth</th>\n",
       "      <th>Income</th>\n",
       "    </tr>\n",
       "  </thead>\n",
       "  <tbody>\n",
       "    <tr>\n",
       "      <th>0</th>\n",
       "      <td>50</td>\n",
       "      <td>Self-emp-not-inc</td>\n",
       "      <td>83311</td>\n",
       "      <td>Bachelors</td>\n",
       "      <td>13</td>\n",
       "      <td>Married-civ-spouse</td>\n",
       "      <td>Exec-managerial</td>\n",
       "      <td>Husband</td>\n",
       "      <td>White</td>\n",
       "      <td>Male</td>\n",
       "      <td>0</td>\n",
       "      <td>0</td>\n",
       "      <td>13</td>\n",
       "      <td>United-States</td>\n",
       "      <td>&lt;=50K</td>\n",
       "    </tr>\n",
       "    <tr>\n",
       "      <th>1</th>\n",
       "      <td>38</td>\n",
       "      <td>Private</td>\n",
       "      <td>215646</td>\n",
       "      <td>HS-grad</td>\n",
       "      <td>9</td>\n",
       "      <td>Divorced</td>\n",
       "      <td>Handlers-cleaners</td>\n",
       "      <td>Not-in-family</td>\n",
       "      <td>White</td>\n",
       "      <td>Male</td>\n",
       "      <td>0</td>\n",
       "      <td>0</td>\n",
       "      <td>40</td>\n",
       "      <td>United-States</td>\n",
       "      <td>&lt;=50K</td>\n",
       "    </tr>\n",
       "    <tr>\n",
       "      <th>2</th>\n",
       "      <td>53</td>\n",
       "      <td>Private</td>\n",
       "      <td>234721</td>\n",
       "      <td>11th</td>\n",
       "      <td>7</td>\n",
       "      <td>Married-civ-spouse</td>\n",
       "      <td>Handlers-cleaners</td>\n",
       "      <td>Husband</td>\n",
       "      <td>Black</td>\n",
       "      <td>Male</td>\n",
       "      <td>0</td>\n",
       "      <td>0</td>\n",
       "      <td>40</td>\n",
       "      <td>United-States</td>\n",
       "      <td>&lt;=50K</td>\n",
       "    </tr>\n",
       "    <tr>\n",
       "      <th>3</th>\n",
       "      <td>28</td>\n",
       "      <td>Private</td>\n",
       "      <td>338409</td>\n",
       "      <td>Bachelors</td>\n",
       "      <td>13</td>\n",
       "      <td>Married-civ-spouse</td>\n",
       "      <td>Prof-specialty</td>\n",
       "      <td>Wife</td>\n",
       "      <td>Black</td>\n",
       "      <td>Female</td>\n",
       "      <td>0</td>\n",
       "      <td>0</td>\n",
       "      <td>40</td>\n",
       "      <td>Cuba</td>\n",
       "      <td>&lt;=50K</td>\n",
       "    </tr>\n",
       "    <tr>\n",
       "      <th>4</th>\n",
       "      <td>37</td>\n",
       "      <td>Private</td>\n",
       "      <td>284582</td>\n",
       "      <td>Masters</td>\n",
       "      <td>14</td>\n",
       "      <td>Married-civ-spouse</td>\n",
       "      <td>Exec-managerial</td>\n",
       "      <td>Wife</td>\n",
       "      <td>White</td>\n",
       "      <td>Female</td>\n",
       "      <td>0</td>\n",
       "      <td>0</td>\n",
       "      <td>40</td>\n",
       "      <td>United-States</td>\n",
       "      <td>&lt;=50K</td>\n",
       "    </tr>\n",
       "  </tbody>\n",
       "</table>\n",
       "</div>"
      ],
      "text/plain": [
       "   Age         Employment  Weighting_factor Level_of_education  \\\n",
       "0   50   Self-emp-not-inc             83311          Bachelors   \n",
       "1   38            Private            215646            HS-grad   \n",
       "2   53            Private            234721               11th   \n",
       "3   28            Private            338409          Bachelors   \n",
       "4   37            Private            284582            Masters   \n",
       "\n",
       "   Schooling_period       Marital_status     Employment_area     Partnership  \\\n",
       "0                13   Married-civ-spouse     Exec-managerial         Husband   \n",
       "1                 9             Divorced   Handlers-cleaners   Not-in-family   \n",
       "2                 7   Married-civ-spouse   Handlers-cleaners         Husband   \n",
       "3                13   Married-civ-spouse      Prof-specialty            Wife   \n",
       "4                14   Married-civ-spouse     Exec-managerial            Wife   \n",
       "\n",
       "  Ethnicity   Gender  Gains_on_financial assets  Losses_on_financial_assets  \\\n",
       "0     White     Male                          0                           0   \n",
       "1     White     Male                          0                           0   \n",
       "2     Black     Male                          0                           0   \n",
       "3     Black   Female                          0                           0   \n",
       "4     White   Female                          0                           0   \n",
       "\n",
       "   Weekly_working_time Country_of birth  Income  \n",
       "0                   13    United-States   <=50K  \n",
       "1                   40    United-States   <=50K  \n",
       "2                   40    United-States   <=50K  \n",
       "3                   40             Cuba   <=50K  \n",
       "4                   40    United-States   <=50K  "
      ]
     },
     "execution_count": 20,
     "metadata": {},
     "output_type": "execute_result"
    }
   ],
   "source": [
    "set_1.head()"
   ]
  },
  {
   "cell_type": "markdown",
   "metadata": {},
   "source": [
    "which col has numbers?"
   ]
  },
  {
   "cell_type": "code",
   "execution_count": 21,
   "metadata": {},
   "outputs": [],
   "source": [
    "int_col = [col for i, col in enumerate(set_1.columns) if set_1[col].dtype == int ]"
   ]
  },
  {
   "cell_type": "code",
   "execution_count": 22,
   "metadata": {
    "scrolled": true
   },
   "outputs": [
    {
     "name": "stdout",
     "output_type": "stream",
     "text": [
      "integer cols: ['Age', 'Weighting_factor', 'Schooling_period', 'Gains_on_financial assets', 'Losses_on_financial_assets', 'Weekly_working_time']\n"
     ]
    }
   ],
   "source": [
    "print(\"integer cols:\",int_col)"
   ]
  },
  {
   "cell_type": "markdown",
   "metadata": {},
   "source": [
    "all columns which has numbers would be  z- normalized"
   ]
  },
  {
   "cell_type": "code",
   "execution_count": 23,
   "metadata": {},
   "outputs": [],
   "source": [
    "znorm_df = zscore_normalisation(set_1, int_col)"
   ]
  },
  {
   "cell_type": "code",
   "execution_count": 24,
   "metadata": {
    "scrolled": false
   },
   "outputs": [
    {
     "name": "stdout",
     "output_type": "stream",
     "text": [
      "        Age         Employment  Weighting_factor Level_of_education  \\\n",
      "0  0.838470   Self-emp-not-inc         -1.010548          Bachelors   \n",
      "1 -0.044139            Private          0.233691            HS-grad   \n",
      "2  1.059122            Private          0.413038               11th   \n",
      "\n",
      "   Schooling_period       Marital_status     Employment_area     Partnership  \\\n",
      "0          1.152342   Married-civ-spouse     Exec-managerial         Husband   \n",
      "1         -0.425677             Divorced   Handlers-cleaners   Not-in-family   \n",
      "2         -1.214687   Married-civ-spouse   Handlers-cleaners         Husband   \n",
      "\n",
      "  Ethnicity Gender  Gains_on_financial assets  Losses_on_financial_assets  \\\n",
      "0     White   Male                  -0.146532                   -0.228107   \n",
      "1     White   Male                  -0.146532                   -0.228107   \n",
      "2     Black   Male                  -0.146532                   -0.228107   \n",
      "\n",
      "   Weekly_working_time Country_of birth  Income  \n",
      "0            -2.272353    United-States   <=50K  \n",
      "1            -0.042864    United-States   <=50K  \n",
      "2            -0.042864    United-States   <=50K  \n"
     ]
    }
   ],
   "source": [
    "print(znorm_df[:3])"
   ]
  },
  {
   "cell_type": "markdown",
   "metadata": {},
   "source": [
    "which columns have nominals?"
   ]
  },
  {
   "cell_type": "code",
   "execution_count": 25,
   "metadata": {},
   "outputs": [],
   "source": [
    "nominal_col = [col for i, col in enumerate(znorm_df.columns) if set_1[col].dtype != int ]"
   ]
  },
  {
   "cell_type": "code",
   "execution_count": 26,
   "metadata": {
    "scrolled": false
   },
   "outputs": [
    {
     "name": "stdout",
     "output_type": "stream",
     "text": [
      "nonimal columns: ['Employment', 'Level_of_education', 'Marital_status', 'Employment_area', 'Partnership', 'Ethnicity', 'Gender', 'Country_of birth', 'Income']\n"
     ]
    }
   ],
   "source": [
    "print(\"nonimal columns:\", nominal_col)"
   ]
  },
  {
   "cell_type": "code",
   "execution_count": 27,
   "metadata": {},
   "outputs": [
    {
     "name": "stdout",
     "output_type": "stream",
     "text": [
      "Index(['Age', 'Employment', 'Weighting_factor', 'Level_of_education',\n",
      "       'Schooling_period', 'Marital_status', 'Employment_area', 'Partnership',\n",
      "       'Ethnicity', 'Gender', 'Gains_on_financial assets',\n",
      "       'Losses_on_financial_assets', 'Weekly_working_time', 'Country_of birth',\n",
      "       'Income'],\n",
      "      dtype='object')\n",
      "[50 38 53 28 37 49 52 31 42 30 23 32 40 34 25 43 54 35 59 56 19 39 20 45\n",
      " 22 48 21 24 57 44 41 29 18 47 46 36 79 27 67 33 76 17 55 61 70 64 71 68\n",
      " 66 51 58 26 60 90 75 65 77 62 63 80 72 74 69 73 81 78 88 82 83]\n",
      "[13 40 16 45 50 80 30 35 60 20 52 44 15 25 38 43 55 48 58 32 70  2 22 56\n",
      " 41 28 36 24 46 42 12 65  1 10 34 75 98 33 54  8  6 64 19 18 72  5  9 47\n",
      " 37 21 26 14  4 59  7 99 53 39 62 57 78 90 66 11 49 84  3 17 68 27 85 31\n",
      " 51 77]\n",
      "[13  9  7 14  5 10 12 11  4 16 15  3  6  2  1  8]\n"
     ]
    }
   ],
   "source": [
    "print(set_1.columns)\n",
    "print(set_1[\"Age\"].unique())\n",
    "print(set_1[\"Weekly_working_time\"].unique())\n",
    "print(set_1[\"Schooling_period\"].unique())"
   ]
  },
  {
   "cell_type": "markdown",
   "metadata": {},
   "source": [
    "Checking for missing values in nominals"
   ]
  },
  {
   "cell_type": "code",
   "execution_count": 28,
   "metadata": {
    "scrolled": false
   },
   "outputs": [
    {
     "name": "stdout",
     "output_type": "stream",
     "text": [
      "Check for Missing values in nominal\n",
      "0 Number of ? contains in  Employment 331\n",
      "1 Number of ? contains in  Level_of_education 0\n",
      "2 Number of ? contains in  Marital_status 0\n",
      "3 Number of ? contains in  Employment_area 331\n",
      "4 Number of ? contains in  Partnership 0\n",
      "5 Number of ? contains in  Ethnicity 0\n",
      "6 Number of ? contains in  Gender 0\n",
      "7 Number of ? contains in  Country_of birth 97\n",
      "8 Number of ? contains in  Income 0\n"
     ]
    }
   ],
   "source": [
    "print(\"Check for Missing values in nominal\")\n",
    "for i,col in enumerate(nominal_col):\n",
    "    print(i,\"Number of ? contains in \",col, sum(znorm_df[col].str.contains('?', regex=False))) "
   ]
  },
  {
   "cell_type": "markdown",
   "metadata": {},
   "source": [
    "checking for nominals with only 2 values to transform the in to binary integer"
   ]
  },
  {
   "cell_type": "code",
   "execution_count": 29,
   "metadata": {},
   "outputs": [],
   "source": [
    "binary_columns = []\n",
    "for i, col in enumerate(nominal_col):\n",
    "    unique_names = set_1.loc[:,col].unique()\n",
    "    if len(unique_names) == 2:\n",
    "        binary_columns.append(col)"
   ]
  },
  {
   "cell_type": "code",
   "execution_count": 30,
   "metadata": {},
   "outputs": [
    {
     "name": "stdout",
     "output_type": "stream",
     "text": [
      "Dictionary for binary encodings: \n",
      " {'Gender': {' Male': 1, ' Female': 0}, 'Income': {' <=50K': 1, ' >50K': 0}}\n"
     ]
    }
   ],
   "source": [
    "bin_encoded_df, maps = binary_encoding(znorm_df,binary_columns)\n",
    "print(\"Dictionary for binary encodings: \\n\", maps)"
   ]
  },
  {
   "cell_type": "code",
   "execution_count": 31,
   "metadata": {
    "scrolled": false
   },
   "outputs": [
    {
     "name": "stdout",
     "output_type": "stream",
     "text": [
      "        Age         Employment  Weighting_factor Level_of_education  \\\n",
      "0  0.838470   Self-emp-not-inc         -1.010548          Bachelors   \n",
      "1 -0.044139            Private          0.233691            HS-grad   \n",
      "2  1.059122            Private          0.413038               11th   \n",
      "\n",
      "   Schooling_period       Marital_status     Employment_area     Partnership  \\\n",
      "0          1.152342   Married-civ-spouse     Exec-managerial         Husband   \n",
      "1         -0.425677             Divorced   Handlers-cleaners   Not-in-family   \n",
      "2         -1.214687   Married-civ-spouse   Handlers-cleaners         Husband   \n",
      "\n",
      "  Ethnicity  Gender  Gains_on_financial assets  Losses_on_financial_assets  \\\n",
      "0     White       1                  -0.146532                   -0.228107   \n",
      "1     White       1                  -0.146532                   -0.228107   \n",
      "2     Black       1                  -0.146532                   -0.228107   \n",
      "\n",
      "   Weekly_working_time Country_of birth  Income  \n",
      "0            -2.272353    United-States       1  \n",
      "1            -0.042864    United-States       1  \n",
      "2            -0.042864    United-States       1  \n"
     ]
    }
   ],
   "source": [
    "print(bin_encoded_df[:3])"
   ]
  },
  {
   "cell_type": "code",
   "execution_count": 32,
   "metadata": {},
   "outputs": [
    {
     "data": {
      "text/plain": [
       "Index(['Age', 'Employment', 'Weighting_factor', 'Level_of_education',\n",
       "       'Schooling_period', 'Marital_status', 'Employment_area', 'Partnership',\n",
       "       'Ethnicity', 'Gender', 'Gains_on_financial assets',\n",
       "       'Losses_on_financial_assets', 'Weekly_working_time', 'Country_of birth',\n",
       "       'Income'],\n",
       "      dtype='object')"
      ]
     },
     "execution_count": 32,
     "metadata": {},
     "output_type": "execute_result"
    }
   ],
   "source": [
    "bin_encoded_df.columns"
   ]
  },
  {
   "cell_type": "code",
   "execution_count": 33,
   "metadata": {},
   "outputs": [
    {
     "data": {
      "image/png": "[encoded data removed]",
      "text/plain": [
       "<Figure size 720x288 with 1 Axes>"
      ]
     },
     "metadata": {
      "needs_background": "light"
     },
     "output_type": "display_data"
    }
   ],
   "source": [
    "fig, ax = plt.subplots(figsize=(10,4))\n",
    "set_1.Age.plot.hist(bins=15)\n",
    "plt.show()"
   ]
  },
  {
   "cell_type": "code",
   "execution_count": 34,
   "metadata": {},
   "outputs": [
    {
     "data": {
      "image/png": "[encoded data removed]",
      "text/plain": [
       "<Figure size 720x288 with 1 Axes>"
      ]
     },
     "metadata": {
      "needs_background": "light"
     },
     "output_type": "display_data"
    }
   ],
   "source": [
    "fig, ax = plt.subplots(figsize=(10,4))\n",
    "einkommen.Age.plot.hist(bins=15)\n",
    "plt.show()"
   ]
  },
  {
   "cell_type": "code",
   "execution_count": 35,
   "metadata": {
    "scrolled": true
   },
   "outputs": [
    {
     "data": {
      "image/png": "[encoded data removed]",
      "text/plain": [
       "<Figure size 720x288 with 1 Axes>"
      ]
     },
     "metadata": {
      "needs_background": "light"
     },
     "output_type": "display_data"
    }
   ],
   "source": [
    "fig, ax = plt.subplots(figsize=(10,4))\n",
    "set_1['Gender'].value_counts().plot(kind='bar')\n",
    "plt.show()"
   ]
  },
  {
   "cell_type": "code",
   "execution_count": 36,
   "metadata": {},
   "outputs": [
    {
     "data": {
      "image/png": "[encoded data removed]",
      "text/plain": [
       "<Figure size 720x288 with 1 Axes>"
      ]
     },
     "metadata": {
      "needs_background": "light"
     },
     "output_type": "display_data"
    }
   ],
   "source": [
    "fig, ax = plt.subplots(figsize=(10,4))\n",
    "einkommen['Gender'].value_counts().plot(kind='bar')\n",
    "plt.show()"
   ]
  },
  {
   "cell_type": "code",
   "execution_count": 37,
   "metadata": {},
   "outputs": [
    {
     "data": {
      "image/png": "[encoded data removed]",
      "text/plain": [
       "<Figure size 720x288 with 1 Axes>"
      ]
     },
     "metadata": {
      "needs_background": "light"
     },
     "output_type": "display_data"
    }
   ],
   "source": [
    "fig, ax = plt.subplots(figsize=(10,4))\n",
    "bin_encoded_df['Level_of_education'].value_counts().plot(kind='bar')\n",
    "plt.show()"
   ]
  },
  {
   "cell_type": "code",
   "execution_count": 38,
   "metadata": {},
   "outputs": [
    {
     "data": {
      "image/png": "[encoded data removed]",
      "text/plain": [
       "<Figure size 720x288 with 1 Axes>"
      ]
     },
     "metadata": {
      "needs_background": "light"
     },
     "output_type": "display_data"
    }
   ],
   "source": [
    "fig, ax = plt.subplots(figsize=(10,4))\n",
    "einkommen['Level_of_education'].value_counts().plot(kind='bar')\n",
    "plt.show()"
   ]
  },
  {
   "cell_type": "code",
   "execution_count": 39,
   "metadata": {
    "scrolled": true
   },
   "outputs": [
    {
     "data": {
      "image/png": "[encoded data removed]",
      "text/plain": [
       "<Figure size 720x288 with 1 Axes>"
      ]
     },
     "metadata": {
      "needs_background": "light"
     },
     "output_type": "display_data"
    }
   ],
   "source": [
    "fig, ax = plt.subplots(figsize=(10,4))\n",
    "set_1['Income'].value_counts().plot(kind='bar')\n",
    "plt.show()"
   ]
  },
  {
   "cell_type": "code",
   "execution_count": 40,
   "metadata": {},
   "outputs": [
    {
     "data": {
      "image/png": "[encoded data removed]",
      "text/plain": [
       "<Figure size 720x360 with 1 Axes>"
      ]
     },
     "metadata": {
      "needs_background": "light"
     },
     "output_type": "display_data"
    }
   ],
   "source": [
    "grouped_gender = set_1.groupby(['Income','Gender']).size()\n",
    "grouped_gender_df =pd.DataFrame(grouped_gender)\n",
    "grouped_gender_df.columns = ['Ammount']\n",
    "pos = list(range(len(grouped_gender_df['Ammount']))) \n",
    "fig, ax = plt.subplots(figsize=(10,5))\n",
    "ax.set_title('Gender ')\n",
    "plt.bar(pos, \n",
    "        #using df['pre_score'] data,\n",
    "        grouped_gender_df['Ammount'], \n",
    "        # of width\n",
    "        0.50, \n",
    "        color = [\"Green\",\"Yellow\",\"Green\",\"Yellow\"],\n",
    "        # with label the first value in first_name\n",
    "        label=\"gfg\") \n",
    "plt.xticks(pos, ('<=50K Female',' <=50K Male', '>50K Female','>50K Male'))\n",
    "plt.show()"
   ]
  },
  {
   "cell_type": "code",
   "execution_count": 41,
   "metadata": {
    "scrolled": false
   },
   "outputs": [
    {
     "data": {
      "text/html": [
       "<div>\n",
       "<style scoped>\n",
       "    .dataframe tbody tr th:only-of-type {\n",
       "        vertical-align: middle;\n",
       "    }\n",
       "\n",
       "    .dataframe tbody tr th {\n",
       "        vertical-align: top;\n",
       "    }\n",
       "\n",
       "    .dataframe thead th {\n",
       "        text-align: right;\n",
       "    }\n",
       "</style>\n",
       "<table border=\"1\" class=\"dataframe\">\n",
       "  <thead>\n",
       "    <tr style=\"text-align: right;\">\n",
       "      <th></th>\n",
       "      <th></th>\n",
       "      <th>Ammount</th>\n",
       "    </tr>\n",
       "    <tr>\n",
       "      <th>Income</th>\n",
       "      <th>Gender</th>\n",
       "      <th></th>\n",
       "    </tr>\n",
       "  </thead>\n",
       "  <tbody>\n",
       "    <tr>\n",
       "      <th rowspan=\"2\" valign=\"top\">&lt;=50K</th>\n",
       "      <th>Female</th>\n",
       "      <td>1433</td>\n",
       "    </tr>\n",
       "    <tr>\n",
       "      <th>Male</th>\n",
       "      <td>2345</td>\n",
       "    </tr>\n",
       "    <tr>\n",
       "      <th rowspan=\"2\" valign=\"top\">&gt;50K</th>\n",
       "      <th>Female</th>\n",
       "      <td>196</td>\n",
       "    </tr>\n",
       "    <tr>\n",
       "      <th>Male</th>\n",
       "      <td>1025</td>\n",
       "    </tr>\n",
       "  </tbody>\n",
       "</table>\n",
       "</div>"
      ],
      "text/plain": [
       "                Ammount\n",
       "Income Gender          \n",
       " <=50K  Female     1433\n",
       "        Male       2345\n",
       " >50K   Female      196\n",
       "        Male       1025"
      ]
     },
     "execution_count": 41,
     "metadata": {},
     "output_type": "execute_result"
    }
   ],
   "source": [
    "grouped_gender_df"
   ]
  },
  {
   "cell_type": "markdown",
   "metadata": {},
   "source": [
    "Verhaeltniss zwischen Frauen die < 50K verdienen und > 50K verdienen."
   ]
  },
  {
   "cell_type": "code",
   "execution_count": 42,
   "metadata": {},
   "outputs": [
    {
     "name": "stdout",
     "output_type": "stream",
     "text": [
      "0.12031921424186617\n"
     ]
    }
   ],
   "source": [
    "women_ver = grouped_gender_df.iloc[2,0] / (grouped_gender_df.iloc[2,0] + grouped_gender_df.iloc[0,0])\n",
    "print(women_ver) "
   ]
  },
  {
   "cell_type": "markdown",
   "metadata": {},
   "source": [
    "Verhaeltniss zwischen Maenner die < 50K verdienen und > 50K verdienen."
   ]
  },
  {
   "cell_type": "code",
   "execution_count": 43,
   "metadata": {},
   "outputs": [
    {
     "name": "stdout",
     "output_type": "stream",
     "text": [
      "0.30415430267062316\n"
     ]
    }
   ],
   "source": [
    "men_ver = grouped_gender_df.iloc[3,0] / (grouped_gender_df.iloc[3,0] + grouped_gender_df.iloc[1,0])\n",
    "print(men_ver) "
   ]
  },
  {
   "cell_type": "code",
   "execution_count": 44,
   "metadata": {
    "scrolled": true
   },
   "outputs": [
    {
     "data": {
      "image/png": "[encoded data removed]",
      "text/plain": [
       "<Figure size 720x360 with 1 Axes>"
      ]
     },
     "metadata": {
      "needs_background": "light"
     },
     "output_type": "display_data"
    }
   ],
   "source": [
    "fig, ax = plt.subplots(figsize=(10,5))\n",
    "ax.set_title('Gender')\n",
    "plt.bar([0,1],[women_ver, men_ver])\n",
    "plt.xticks([0,1], ('Female','Male'))\n",
    "plt.show()"
   ]
  },
  {
   "cell_type": "code",
   "execution_count": 45,
   "metadata": {},
   "outputs": [
    {
     "name": "stdout",
     "output_type": "stream",
     "text": [
      "2.5278946890328835\n"
     ]
    }
   ],
   "source": [
    "print(  men_ver / women_ver )"
   ]
  },
  {
   "cell_type": "markdown",
   "metadata": {},
   "source": [
    "Anteil der Maenner die mehr als 50k verdienen im Vergleich zu den Frauen 2.5 mal so hoch."
   ]
  },
  {
   "cell_type": "code",
   "execution_count": 46,
   "metadata": {},
   "outputs": [],
   "source": [
    "#set up bins\n",
    "bin = [18,40,65,100]\n",
    "#use pd.cut function can attribute the values into its specific bins\n",
    "category = pd.cut(set_1.Age,bin)\n",
    "category = category.to_frame()\n",
    "category.columns = ['Age_bin']\n",
    "#concatenate age and its bin\n",
    "df_age = pd.concat([set_1,category],axis = 1)"
   ]
  },
  {
   "cell_type": "code",
   "execution_count": 47,
   "metadata": {
    "scrolled": true
   },
   "outputs": [
    {
     "data": {
      "image/png": "[encoded data removed]",
      "text/plain": [
       "<Figure size 720x360 with 1 Axes>"
      ]
     },
     "metadata": {
      "needs_background": "light"
     },
     "output_type": "display_data"
    }
   ],
   "source": [
    "grouped_age = df_age.groupby(['Income','Age_bin']).size()\n",
    "grouped_age_df =pd.DataFrame(grouped_age)\n",
    "grouped_age_df.columns = ['Ammount']\n",
    "pos_age = list(range(len(grouped_age_df['Ammount']))) \n",
    "fig, ax = plt.subplots(figsize=(10,5))\n",
    "p1 = plt.bar(pos_age, \n",
    "        #using df['pre_score'] data,\n",
    "        grouped_age_df['Ammount'], \n",
    "        # of width\n",
    "        0.5,\n",
    "        color = [\"Pink\",\"Blue\",\"Purple\",\"Pink\",\"Blue\",\"Purple\"]\n",
    "        # with label the first value in first_name\n",
    "       ) \n",
    "ax.set_title('Ages ')\n",
    "legend = plt.legend((p1), ('Young 18 - 40', 'Mid 40 - 65', 'Old 65 - 100'), loc='upper right')\n",
    "ax.add_artist(legend)\n",
    "\n",
    "plt.xticks(pos_age, ('<=50K Young',' <=50K Middle Age', '<=50K Old','>50K Young',' >50K Middle Age', '>50K Old'))\n",
    "plt.show()"
   ]
  },
  {
   "cell_type": "code",
   "execution_count": 48,
   "metadata": {},
   "outputs": [
    {
     "name": "stdout",
     "output_type": "stream",
     "text": [
      "                        Ammount\n",
      "Income Partnership             \n",
      " <=50K  Husband            1082\n",
      "        Not-in-family      1168\n",
      "        Other-relative      140\n",
      "        Own-child           762\n",
      "        Unmarried           511\n",
      "        Wife                115\n",
      " >50K   Husband             919\n",
      "        Not-in-family       123\n",
      "        Other-relative        8\n",
      "        Own-child             8\n",
      "        Unmarried            33\n",
      "        Wife                130\n"
     ]
    }
   ],
   "source": [
    "grouped_partnership= set_1.groupby(['Income','Partnership']).size()\n",
    "grouped_partnership_df =pd.DataFrame(grouped_partnership)\n",
    "grouped_partnership_df.columns = ['Ammount']\n",
    "print(grouped_partnership_df)"
   ]
  },
  {
   "cell_type": "code",
   "execution_count": 49,
   "metadata": {
    "scrolled": true
   },
   "outputs": [
    {
     "data": {
      "image/png": "[encoded data removed]",
      "text/plain": [
       "<Figure size 720x360 with 1 Axes>"
      ]
     },
     "metadata": {
      "needs_background": "light"
     },
     "output_type": "display_data"
    }
   ],
   "source": [
    "pos_grouped_partnership = list(range(len(grouped_partnership_df['Ammount']))) \n",
    "fig, ax = plt.subplots(figsize=(10,5))\n",
    "p1 = plt.bar(pos_grouped_partnership, \n",
    "#using df['pre_score'] data,\n",
    "grouped_partnership_df['Ammount'], \n",
    "# of width\n",
    "0.2,\n",
    "color = [\"Black\",\"Black\",\"Black\",\"Black\",\"Black\",\"Black\",\"Orange\",\"Orange\",\"Orange\",\"Orange\",\"Orange\",\"Orange\"]\n",
    "# with label the first value in first_name\n",
    ") \n",
    "plt.xticks(pos_age, ('Husband','Not-in-family ', '','', ''))\n",
    "plt.show()"
   ]
  },
  {
   "cell_type": "code",
   "execution_count": 50,
   "metadata": {},
   "outputs": [
    {
     "name": "stdout",
     "output_type": "stream",
     "text": [
      "                            Ammount\n",
      "Income Ethnicity                   \n",
      " <=50K  Amer-Indian-Eskimo       45\n",
      "        Asian-Pac-Islander      110\n",
      "        Black                   448\n",
      "        Other                    29\n",
      "        White                  3146\n",
      " >50K   Amer-Indian-Eskimo        4\n",
      "        Asian-Pac-Islander       45\n",
      "        Black                    66\n",
      "        Other                     1\n",
      "        White                  1105\n"
     ]
    }
   ],
   "source": [
    "grouped_ethnicity= set_1.groupby(['Income','Ethnicity']).size()\n",
    "grouped_ethnicity_df =pd.DataFrame(grouped_ethnicity)\n",
    "grouped_ethnicity_df.columns = ['Ammount']\n",
    "print(grouped_ethnicity_df)"
   ]
  },
  {
   "cell_type": "code",
   "execution_count": 51,
   "metadata": {
    "scrolled": true
   },
   "outputs": [
    {
     "data": {
      "image/png": "[encoded data removed]",
      "text/plain": [
       "<Figure size 720x360 with 1 Axes>"
      ]
     },
     "metadata": {
      "needs_background": "light"
     },
     "output_type": "display_data"
    }
   ],
   "source": [
    "pos_grouped_eth = list(range(len(grouped_ethnicity_df['Ammount']))) \n",
    "fig, ax = plt.subplots(figsize=(10,5))\n",
    "p1 = plt.bar(pos_grouped_eth, \n",
    "#using df['pre_score'] data,\n",
    "grouped_ethnicity_df['Ammount'], \n",
    "# of width\n",
    "0.2\n",
    "#color = [\"Black\",\"Black\",\"Black\",\"Black\",\"Black\",\"Black\",\"Orange\",\"Orange\",\"Orange\",\"Orange\",\"Orange\",\"Orange\"]\n",
    "# with label the first value in first_name\n",
    ") "
   ]
  },
  {
   "cell_type": "code",
   "execution_count": 52,
   "metadata": {},
   "outputs": [
    {
     "name": "stdout",
     "output_type": "stream",
     "text": [
      "['Employment', 'Level_of_education', 'Marital_status', 'Employment_area', 'Partnership', 'Ethnicity', 'Country_of birth']\n"
     ]
    }
   ],
   "source": [
    "nominal_col = [col for i, col in enumerate(bin_encoded_df.columns) if bin_encoded_df[col].dtype != int and bin_encoded_df[col].dtype != float ]\n",
    "print(nominal_col)"
   ]
  },
  {
   "cell_type": "code",
   "execution_count": 53,
   "metadata": {},
   "outputs": [],
   "source": [
    "#one hot encoding the nominals\n",
    "transformed_df = pd.get_dummies(bin_encoded_df, columns=nominal_col)"
   ]
  },
  {
   "cell_type": "code",
   "execution_count": 54,
   "metadata": {},
   "outputs": [
    {
     "name": "stdout",
     "output_type": "stream",
     "text": [
      "        Age  Weighting_factor  Schooling_period  Gender  \\\n",
      "0  0.838470         -1.010548          1.152342       1   \n",
      "1 -0.044139          0.233691         -0.425677       1   \n",
      "2  1.059122          0.413038         -1.214687       1   \n",
      "\n",
      "   Gains_on_financial assets  Losses_on_financial_assets  Weekly_working_time  \\\n",
      "0                  -0.146532                   -0.228107            -2.272353   \n",
      "1                  -0.146532                   -0.228107            -0.042864   \n",
      "2                  -0.146532                   -0.228107            -0.042864   \n",
      "\n",
      "   Income  Employment_ ?  Employment_ Federal-gov  ...  \\\n",
      "0       1              0                        0  ...   \n",
      "1       1              0                        0  ...   \n",
      "2       1              0                        0  ...   \n",
      "\n",
      "   Country_of birth_ Portugal  Country_of birth_ Puerto-Rico  \\\n",
      "0                           0                              0   \n",
      "1                           0                              0   \n",
      "2                           0                              0   \n",
      "\n",
      "   Country_of birth_ Scotland  Country_of birth_ South  \\\n",
      "0                           0                        0   \n",
      "1                           0                        0   \n",
      "2                           0                        0   \n",
      "\n",
      "   Country_of birth_ Taiwan  Country_of birth_ Thailand  \\\n",
      "0                         0                           0   \n",
      "1                         0                           0   \n",
      "2                         0                           0   \n",
      "\n",
      "   Country_of birth_ Trinadad&Tobago  Country_of birth_ United-States  \\\n",
      "0                                  0                                1   \n",
      "1                                  0                                1   \n",
      "2                                  0                                1   \n",
      "\n",
      "   Country_of birth_ Vietnam  Country_of birth_ Yugoslavia  \n",
      "0                          0                             0  \n",
      "1                          0                             0  \n",
      "2                          0                             0  \n",
      "\n",
      "[3 rows x 105 columns]\n"
     ]
    }
   ],
   "source": [
    "print(transformed_df[:3])"
   ]
  },
  {
   "cell_type": "code",
   "execution_count": 55,
   "metadata": {},
   "outputs": [],
   "source": [
    "#Get the Target\n",
    "y = transformed_df[\"Income\"].values\n",
    "X = transformed_df.drop(columns=['Income']).values"
   ]
  },
  {
   "cell_type": "code",
   "execution_count": 56,
   "metadata": {},
   "outputs": [
    {
     "data": {
      "text/plain": [
       "(4999,)"
      ]
     },
     "execution_count": 56,
     "metadata": {},
     "output_type": "execute_result"
    }
   ],
   "source": [
    "y.shape"
   ]
  },
  {
   "cell_type": "code",
   "execution_count": 57,
   "metadata": {},
   "outputs": [
    {
     "data": {
      "text/plain": [
       "(4999, 104)"
      ]
     },
     "execution_count": 57,
     "metadata": {},
     "output_type": "execute_result"
    }
   ],
   "source": [
    "X.shape"
   ]
  },
  {
   "cell_type": "code",
   "execution_count": 58,
   "metadata": {},
   "outputs": [],
   "source": [
    "X_train, X_test, y_train, y_test = train_test_split(X,y,test_size = 0.1, random_state=42, stratify=y )"
   ]
  },
  {
   "cell_type": "code",
   "execution_count": 59,
   "metadata": {},
   "outputs": [],
   "source": [
    "def eval_kerasmodel(n1,n2, d1, d2):\n",
    "\n",
    "    def classifier():\n",
    "        model = Sequential()\n",
    "        model.add(Dense(int(n1), input_dim=X.shape[1], activation='relu'))\n",
    "        model.add(Dropout(d1))\n",
    "        model.add(Dense(int(n2), activation='relu'))\n",
    "        model.add(Dropout(d2))\n",
    "        model.add(Dense(1, activation='sigmoid'))\n",
    "        model.compile(optimizer='adam',\n",
    "                      loss='binary_crossentropy',\n",
    "                      metrics=[\"acc\"])\n",
    "        return model\n",
    "    \n",
    "    model = KerasClassifier(build_fn=classifier, epochs=10, batch_size=20, verbose=0)\n",
    "    \n",
    "    def keras_model(X,y):\n",
    "        kfold = StratifiedKFold(n_splits=int(10), shuffle=True, random_state=2)\n",
    "        results = cross_val_score(model, X, y, cv=kfold, n_jobs=-2)\n",
    "        return np.mean(results)\n",
    "    \n",
    "    return keras_model(X_train, y_train)"
   ]
  },
  {
   "cell_type": "code",
   "execution_count": 60,
   "metadata": {
    "scrolled": false
   },
   "outputs": [
    {
     "name": "stdout",
     "output_type": "stream",
     "text": [
      "|   iter    |  target   |    d1     |    d2     |    n1     |    n2     |\n",
      "-------------------------------------------------------------------------\n",
      "| \u001b[0m 1       \u001b[0m | \u001b[0m 0.8411  \u001b[0m | \u001b[0m 0.07555 \u001b[0m | \u001b[0m 0.7721  \u001b[0m | \u001b[0m 4.946   \u001b[0m | \u001b[0m 72.62   \u001b[0m |\n",
      "| \u001b[0m 2       \u001b[0m | \u001b[0m 0.7566  \u001b[0m | \u001b[0m 0.9682  \u001b[0m | \u001b[0m 0.5331  \u001b[0m | \u001b[0m 5.51    \u001b[0m | \u001b[0m 8.133   \u001b[0m |\n",
      "| \u001b[95m 3       \u001b[0m | \u001b[95m 0.8426  \u001b[0m | \u001b[95m 0.2658  \u001b[0m | \u001b[95m 0.4949  \u001b[0m | \u001b[95m 7.113   \u001b[0m | \u001b[95m 80.57   \u001b[0m |\n",
      "| \u001b[0m 4       \u001b[0m | \u001b[0m 0.8295  \u001b[0m | \u001b[0m 0.3771  \u001b[0m | \u001b[0m 0.06528 \u001b[0m | \u001b[0m 3.593   \u001b[0m | \u001b[0m 91.05   \u001b[0m |\n",
      "| \u001b[0m 5       \u001b[0m | \u001b[0m 0.7784  \u001b[0m | \u001b[0m 0.8461  \u001b[0m | \u001b[0m 0.03102 \u001b[0m | \u001b[0m 9.982   \u001b[0m | \u001b[0m 57.06   \u001b[0m |\n",
      "| \u001b[0m 6       \u001b[0m | \u001b[0m 0.7571  \u001b[0m | \u001b[0m 0.0     \u001b[0m | \u001b[0m 0.99    \u001b[0m | \u001b[0m 10.0    \u001b[0m | \u001b[0m 100.0   \u001b[0m |\n",
      "| \u001b[0m 7       \u001b[0m | \u001b[0m 0.7557  \u001b[0m | \u001b[0m 0.99    \u001b[0m | \u001b[0m 0.0     \u001b[0m | \u001b[0m 1.0     \u001b[0m | \u001b[0m 76.21   \u001b[0m |\n",
      "| \u001b[0m 8       \u001b[0m | \u001b[0m 0.7557  \u001b[0m | \u001b[0m 0.0     \u001b[0m | \u001b[0m 0.99    \u001b[0m | \u001b[0m 1.0     \u001b[0m | \u001b[0m 30.12   \u001b[0m |\n",
      "=========================================================================\n",
      "{'target': 0.8426349937915802, 'params': {'d1': 0.26575459030085247, 'd2': 0.49488367581730436, 'n1': 7.113069965088465, 'n2': 80.57016457433318}}\n"
     ]
    }
   ],
   "source": [
    "pbounds = {'n1': (1, 10),'n2': (1, 100),'d1': (0, 0.99),'d2': (0, 0.99)}\n",
    "\n",
    "optimizer = BayesianOptimization(\n",
    "    f=eval_kerasmodel,\n",
    "    pbounds=pbounds,\n",
    "    random_state=seed,\n",
    ")\n",
    "\n",
    "optimizer.maximize(\n",
    "    init_points=4,\n",
    "    n_iter=4,\n",
    ")\n",
    "\n",
    "print(optimizer.max)"
   ]
  },
  {
   "cell_type": "code",
   "execution_count": 61,
   "metadata": {},
   "outputs": [],
   "source": [
    "def classifier():\n",
    "    model = Sequential()\n",
    "    model.add(Dense(int(7), input_dim=X.shape[1], activation='relu'))\n",
    "    model.add(Dropout(0.27))\n",
    "    model.add(Dense(int(80), activation='relu'))\n",
    "    model.add(Dropout(0.5))\n",
    "    model.add(Dense(1, activation='sigmoid'))\n",
    "    model.compile(optimizer='adam',\n",
    "                  loss='binary_crossentropy',\n",
    "                  metrics=[\"acc\"])\n",
    "    return model"
   ]
  },
  {
   "cell_type": "code",
   "execution_count": 62,
   "metadata": {},
   "outputs": [
    {
     "name": "stderr",
     "output_type": "stream",
     "text": [
      "WARNING: Logging before flag parsing goes to stderr.\n",
      "W0924 05:50:24.946872 140208142161664 deprecation.py:506] From /media/pandoora/DATA/programms/Anaconda/envs/tf_gpu/lib/python3.7/site-packages/tensorflow/python/ops/init_ops.py:1251: calling VarianceScaling.__init__ (from tensorflow.python.ops.init_ops) with dtype is deprecated and will be removed in a future version.\n",
      "Instructions for updating:\n",
      "Call initializer instance with the dtype argument instead of passing it to the constructor\n",
      "W0924 05:50:25.038343 140208142161664 deprecation.py:323] From /media/pandoora/DATA/programms/Anaconda/envs/tf_gpu/lib/python3.7/site-packages/tensorflow/python/ops/nn_impl.py:180: add_dispatch_support.<locals>.wrapper (from tensorflow.python.ops.array_ops) is deprecated and will be removed in a future version.\n",
      "Instructions for updating:\n",
      "Use tf.where in 2.0, which has the same broadcast rule as np.where\n"
     ]
    },
    {
     "name": "stdout",
     "output_type": "stream",
     "text": [
      "Train on 4499 samples, validate on 500 samples\n",
      "Epoch 1/10\n",
      "4499/4499 [==============================] - 0s 63us/sample - loss: 0.5781 - acc: 0.7359 - val_loss: 0.4720 - val_acc: 0.7560\n",
      "Epoch 2/10\n",
      "4499/4499 [==============================] - 0s 29us/sample - loss: 0.4330 - acc: 0.7802 - val_loss: 0.3764 - val_acc: 0.8320\n",
      "Epoch 3/10\n",
      "4499/4499 [==============================] - 0s 28us/sample - loss: 0.3847 - acc: 0.8073 - val_loss: 0.3562 - val_acc: 0.8360\n",
      "Epoch 4/10\n",
      "4499/4499 [==============================] - 0s 29us/sample - loss: 0.3698 - acc: 0.8106 - val_loss: 0.3512 - val_acc: 0.8380\n",
      "Epoch 5/10\n",
      "4499/4499 [==============================] - 0s 29us/sample - loss: 0.3610 - acc: 0.8317 - val_loss: 0.3514 - val_acc: 0.8340\n",
      "Epoch 6/10\n",
      "4499/4499 [==============================] - 0s 29us/sample - loss: 0.3491 - acc: 0.8422 - val_loss: 0.3489 - val_acc: 0.8340\n",
      "Epoch 7/10\n",
      "4499/4499 [==============================] - 0s 29us/sample - loss: 0.3408 - acc: 0.8482 - val_loss: 0.3461 - val_acc: 0.8400\n",
      "Epoch 8/10\n",
      "4499/4499 [==============================] - 0s 28us/sample - loss: 0.3403 - acc: 0.8435 - val_loss: 0.3413 - val_acc: 0.8360\n",
      "Epoch 9/10\n",
      "4499/4499 [==============================] - 0s 28us/sample - loss: 0.3275 - acc: 0.8442 - val_loss: 0.3432 - val_acc: 0.8340\n",
      "Epoch 10/10\n",
      "4499/4499 [==============================] - 0s 28us/sample - loss: 0.3237 - acc: 0.8537 - val_loss: 0.3427 - val_acc: 0.8340\n"
     ]
    }
   ],
   "source": [
    "neuralnet_model  =classifier()\n",
    "history = neuralnet_model.fit(X_train, \n",
    "                              y_train,\n",
    "                              validation_data=(X_test, y_test), \n",
    "                              epochs = 10).history"
   ]
  },
  {
   "cell_type": "code",
   "execution_count": 63,
   "metadata": {},
   "outputs": [],
   "source": [
    "y_predict = neuralnet_model.predict(X_test)"
   ]
  },
  {
   "cell_type": "code",
   "execution_count": 64,
   "metadata": {},
   "outputs": [
    {
     "data": {
      "text/plain": [
       "array([[0.9053623 ],\n",
       "       [0.98389703]], dtype=float32)"
      ]
     },
     "execution_count": 64,
     "metadata": {},
     "output_type": "execute_result"
    }
   ],
   "source": [
    "y_predict[:2]"
   ]
  },
  {
   "cell_type": "code",
   "execution_count": 65,
   "metadata": {},
   "outputs": [],
   "source": [
    "prediction = rounding(y_predict, 0.90)"
   ]
  },
  {
   "cell_type": "code",
   "execution_count": 67,
   "metadata": {},
   "outputs": [
    {
     "data": {
      "text/plain": [
       "(500, 1)"
      ]
     },
     "execution_count": 67,
     "metadata": {},
     "output_type": "execute_result"
    }
   ],
   "source": [
    "prediction.shape"
   ]
  },
  {
   "cell_type": "code",
   "execution_count": 68,
   "metadata": {
    "scrolled": true
   },
   "outputs": [
    {
     "name": "stdout",
     "output_type": "stream",
     "text": [
      "              precision    recall  f1-score   support\n",
      "\n",
      "           0       0.69      0.57      0.63       122\n",
      "           1       0.87      0.92      0.89       378\n",
      "\n",
      "    accuracy                           0.83       500\n",
      "   macro avg       0.78      0.75      0.76       500\n",
      "weighted avg       0.83      0.83      0.83       500\n",
      "\n"
     ]
    }
   ],
   "source": [
    "print(classification_report(y_test,prediction))"
   ]
  },
  {
   "cell_type": "code",
   "execution_count": 69,
   "metadata": {},
   "outputs": [],
   "source": [
    "cm = confusion_matrix(y_test, prediction)"
   ]
  },
  {
   "cell_type": "code",
   "execution_count": 76,
   "metadata": {},
   "outputs": [
    {
     "name": "stdout",
     "output_type": "stream",
     "text": [
      "[[ 70  52]\n",
      " [ 31 347]]\n"
     ]
    }
   ],
   "source": [
    "print(cm)"
   ]
  },
  {
   "cell_type": "code",
   "execution_count": 77,
   "metadata": {},
   "outputs": [],
   "source": [
    "from sklearn.metrics import roc_curve, auc"
   ]
  },
  {
   "cell_type": "code",
   "execution_count": 78,
   "metadata": {},
   "outputs": [],
   "source": [
    "# helper to plot ROC curves\n",
    "def plot_roc_curves(fprs, tprs):    \n",
    "    fig = plt.figure(figsize=(20,10))\n",
    "    \n",
    "    for fpr, tpr in zip(fprs, tprs):\n",
    "        plt.plot(fpr, tpr, label='ROC curve (AUC = %0.2f)' % metrics.auc(fpr, tpr))\n",
    "    \n",
    "    plt.plot([0, 1], [0, 1], 'k--')\n",
    "    plt.xlim([0.0, 1.0])\n",
    "    plt.ylim([0.0, 1.05])\n",
    "    plt.xlabel('False Positive Rate')\n",
    "    plt.ylabel('True Positive Rate')\n",
    "    plt.title('Receiver operating characteristic')\n",
    "    plt.legend(loc=\"lower right\")\n",
    "    plt.show()"
   ]
  },
  {
   "cell_type": "code",
   "execution_count": 80,
   "metadata": {},
   "outputs": [],
   "source": [
    "fpr, tpr, thresholds = metrics.roc_curve(y_test, prediction)"
   ]
  },
  {
   "cell_type": "code",
   "execution_count": 81,
   "metadata": {
    "scrolled": true
   },
   "outputs": [
    {
     "data": {
      "image/png": "[encoded data removed]",
      "text/plain": [
       "<Figure size 1440x720 with 1 Axes>"
      ]
     },
     "metadata": {
      "needs_background": "light"
     },
     "output_type": "display_data"
    }
   ],
   "source": [
    "plot_roc_curves([fpr], [tpr])"
   ]
  },
  {
   "cell_type": "code",
   "execution_count": 82,
   "metadata": {},
   "outputs": [],
   "source": [
    "def show_decision_function(clf, ax):\n",
    "    xx, yy = np.meshgrid(np.linspace(4.5, 8, 200), np.linspace(1.5, 4.0, 200))\n",
    "    try:\n",
    "        Z = clf.decision_function(np.c_[xx.ravel(), yy.ravel()])\n",
    "    except AttributeError:\n",
    "        Z = clf.predict_proba(np.c_[xx.ravel(), yy.ravel()])[:, 0]\n",
    "\n",
    "    Z = Z.reshape(xx.shape)\n",
    "    ax.pcolormesh(xx, yy, Z, cmap=plt.cm.jet)\n",
    "    ax.set_xlim(4.5, 8)\n",
    "    ax.set_ylim(1.5, 4.0)\n",
    "    ax.set_xticks(())\n",
    "    ax.set_yticks(())\n",
    "    ax.scatter(X_train[:, 0], X_train[:, 1], c=y_train, s=100)"
   ]
  },
  {
   "cell_type": "code",
   "execution_count": 71,
   "metadata": {},
   "outputs": [],
   "source": [
    "def eval_random_forest(f):\n",
    "    \n",
    "    def Random_forest(train, test, f):\n",
    "        X_train = X[train]\n",
    "        y_train = y[train]\n",
    "        \n",
    "        X_test  = X[test]\n",
    "        y_test  = y[test]   \n",
    "        \n",
    "        rfc = RandomForestClassifier(int(f))\n",
    "        rfc.fit(X_train, y_train)\n",
    "        \n",
    "        score = rfc.score(X_test, y_test)\n",
    "    \n",
    "        return score\n",
    "   \n",
    "    boot = StratifiedShuffleSplit(n_splits=int(10), test_size = 1 /int(10))\n",
    "\n",
    "    rfc_score = np.array(Parallel(n_jobs=-2)(delayed(Random_forest)(train,test,f) for train,test in boot.split(X, y)))\n",
    "\n",
    "    return np.mean(rfc_score)    "
   ]
  },
  {
   "cell_type": "code",
   "execution_count": 72,
   "metadata": {
    "scrolled": false
   },
   "outputs": [
    {
     "name": "stdout",
     "output_type": "stream",
     "text": [
      "|   iter    |  target   |     f     |\n",
      "-------------------------------------\n",
      "| \u001b[0m 1       \u001b[0m | \u001b[0m 0.8292  \u001b[0m | \u001b[0m 8.555   \u001b[0m |\n",
      "| \u001b[95m 2       \u001b[0m | \u001b[95m 0.8448  \u001b[0m | \u001b[95m 78.21   \u001b[0m |\n",
      "| \u001b[0m 3       \u001b[0m | \u001b[0m 0.8442  \u001b[0m | \u001b[0m 44.4    \u001b[0m |\n",
      "| \u001b[0m 4       \u001b[0m | \u001b[0m 0.8368  \u001b[0m | \u001b[0m 72.62   \u001b[0m |\n",
      "| \u001b[0m 5       \u001b[0m | \u001b[0m 0.8292  \u001b[0m | \u001b[0m 97.82   \u001b[0m |\n",
      "| \u001b[95m 6       \u001b[0m | \u001b[95m 0.8452  \u001b[0m | \u001b[95m 54.31   \u001b[0m |\n",
      "| \u001b[0m 7       \u001b[0m | \u001b[0m 0.8392  \u001b[0m | \u001b[0m 50.61   \u001b[0m |\n",
      "| \u001b[0m 8       \u001b[0m | \u001b[0m 0.818   \u001b[0m | \u001b[0m 8.133   \u001b[0m |\n",
      "| \u001b[0m 9       \u001b[0m | \u001b[0m 0.8372  \u001b[0m | \u001b[0m 27.58   \u001b[0m |\n",
      "| \u001b[0m 10      \u001b[0m | \u001b[0m 0.8306  \u001b[0m | \u001b[0m 50.49   \u001b[0m |\n",
      "| \u001b[0m 11      \u001b[0m | \u001b[0m 0.8398  \u001b[0m | \u001b[0m 88.61   \u001b[0m |\n",
      "| \u001b[0m 12      \u001b[0m | \u001b[0m 0.8292  \u001b[0m | \u001b[0m 35.8    \u001b[0m |\n",
      "| \u001b[0m 13      \u001b[0m | \u001b[0m 0.829   \u001b[0m | \u001b[0m 17.03   \u001b[0m |\n",
      "| \u001b[0m 14      \u001b[0m | \u001b[0m 0.797   \u001b[0m | \u001b[0m 1.0     \u001b[0m |\n",
      "| \u001b[0m 15      \u001b[0m | \u001b[0m 0.841   \u001b[0m | \u001b[0m 64.75   \u001b[0m |\n",
      "| \u001b[0m 16      \u001b[0m | \u001b[0m 0.8412  \u001b[0m | \u001b[0m 83.62   \u001b[0m |\n",
      "| \u001b[0m 17      \u001b[0m | \u001b[0m 0.833   \u001b[0m | \u001b[0m 100.0   \u001b[0m |\n",
      "| \u001b[0m 18      \u001b[0m | \u001b[0m 0.8334  \u001b[0m | \u001b[0m 12.72   \u001b[0m |\n",
      "| \u001b[0m 19      \u001b[0m | \u001b[0m 0.832   \u001b[0m | \u001b[0m 22.69   \u001b[0m |\n",
      "| \u001b[0m 20      \u001b[0m | \u001b[0m 0.8364  \u001b[0m | \u001b[0m 40.29   \u001b[0m |\n",
      "=====================================\n",
      "{'target': 0.8452, 'params': {'f': 54.311091170632935}}\n"
     ]
    }
   ],
   "source": [
    "pbounds = {'f': (1, 100)}\n",
    "\n",
    "optimizer = BayesianOptimization(\n",
    "    f=eval_random_forest,\n",
    "    pbounds=pbounds,\n",
    "    random_state=seed,\n",
    ")\n",
    "\n",
    "optimizer.maximize(\n",
    "    init_points=10,\n",
    "    n_iter=10,\n",
    ")\n",
    "\n",
    "print(optimizer.max)"
   ]
  },
  {
   "cell_type": "code",
   "execution_count": null,
   "metadata": {},
   "outputs": [],
   "source": [
    "fig = plt.figure(figsize=(10, 5))\n",
    "ax = fig.add_subplot(111)\n",
    "show_decision_function(neuralnet_model, ax)"
   ]
  },
  {
   "cell_type": "code",
   "execution_count": 75,
   "metadata": {
    "scrolled": true
   },
   "outputs": [
    {
     "name": "stdout",
     "output_type": "stream",
     "text": [
      "Check for Missing values in nominal\n",
      "0 Number of ? contains in  Employment 331\n",
      "1 Number of ? contains in  Level_of_education 0\n",
      "2 Number of ? contains in  Marital_status 0\n",
      "3 Number of ? contains in  Employment_area 331\n",
      "4 Number of ? contains in  Partnership 0\n",
      "5 Number of ? contains in  Ethnicity 0\n",
      "6 Number of ? contains in  Country_of birth 97\n"
     ]
    }
   ],
   "source": [
    "print(\"Check for Missing values in nominal\")\n",
    "for i,col in enumerate(nominal_col):\n",
    "    print(i,\"Number of ? contains in \",col, sum(znorm_df[col].str.contains('?', regex=False)))"
   ]
  },
  {
   "cell_type": "markdown",
   "metadata": {},
   "source": [
    "integer cols: ['Age', 'Weighting_factor', 'Schooling_period', 'Gains_on_financial assets', 'Losses_on_financial_assets', 'Weekly_working_time']\n"
   ]
  }
 ],
 "metadata": {
  "kernelspec": {
   "display_name": "Python 3",
   "language": "python",
   "name": "python3"
  },
  "language_info": {
   "codemirror_mode": {
    "name": "ipython",
    "version": 3
   },
   "file_extension": ".py",
   "mimetype": "text/x-python",
   "name": "python",
   "nbconvert_exporter": "python",
   "pygments_lexer": "ipython3",
   "version": "3.7.3"
  }
 },
 "nbformat": 4,
 "nbformat_minor": 2
}
