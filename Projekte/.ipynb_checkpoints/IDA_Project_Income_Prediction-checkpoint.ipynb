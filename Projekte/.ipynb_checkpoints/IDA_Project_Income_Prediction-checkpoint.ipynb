{
 "cells": [
  {
   "cell_type": "markdown",
   "metadata": {},
   "source": [
    "Check where my python env is"
   ]
  },
  {
   "cell_type": "code",
   "execution_count": 1,
   "metadata": {},
   "outputs": [],
   "source": [
    "import sys"
   ]
  },
  {
   "cell_type": "code",
   "execution_count": 2,
   "metadata": {
    "scrolled": true
   },
   "outputs": [
    {
     "data": {
      "text/plain": [
       "'/media/pandoora/DATA/programms/Anaconda/envs/tf_gpu/bin/python3'"
      ]
     },
     "execution_count": 2,
     "metadata": {},
     "output_type": "execute_result"
    }
   ],
   "source": [
    "sys.executable"
   ]
  },
  {
   "cell_type": "code",
   "execution_count": 3,
   "metadata": {},
   "outputs": [],
   "source": [
    "import pandas as pd\n",
    "import numpy as np\n",
    "import matplotlib.pyplot as plt\n",
    "import time, random  "
   ]
  },
  {
   "cell_type": "markdown",
   "metadata": {},
   "source": [
    "Imports for Neural Network"
   ]
  },
  {
   "cell_type": "code",
   "execution_count": 4,
   "metadata": {},
   "outputs": [],
   "source": [
    "import tensorflow as tf\n",
    "keras = tf.keras\n",
    "Sequential =  keras.models.Sequential\n",
    "Dense = keras.layers.Dense\n",
    "Activation =  keras.layers.Activation\n",
    "metrics = keras.metrics\n",
    "Dropout = keras.layers.Dropout\n",
    "ModelCheckpoint = keras.callbacks.ModelCheckpoint\n",
    "KerasClassifier = keras.wrappers.scikit_learn.KerasClassifier"
   ]
  },
  {
   "cell_type": "markdown",
   "metadata": {},
   "source": [
    "Imports for Helpertools and Models"
   ]
  },
  {
   "cell_type": "code",
   "execution_count": 5,
   "metadata": {},
   "outputs": [],
   "source": [
    "from sklearn.model_selection import StratifiedKFold\n",
    "from sklearn.model_selection import StratifiedShuffleSplit\n",
    "from sklearn.model_selection import train_test_split\n",
    "from sklearn.preprocessing import Imputer\n",
    "from sklearn.neighbors import KNeighborsClassifier\n",
    "from sklearn.ensemble import RandomForestClassifier\n",
    "from sklearn.model_selection import cross_val_score\n",
    "\n",
    "from bayes_opt import BayesianOptimization\n",
    "from joblib import Parallel, delayed"
   ]
  },
  {
   "cell_type": "markdown",
   "metadata": {},
   "source": [
    "Setting Seed "
   ]
  },
  {
   "cell_type": "code",
   "execution_count": 6,
   "metadata": {},
   "outputs": [],
   "source": [
    "seed = 7"
   ]
  },
  {
   "cell_type": "code",
   "execution_count": 7,
   "metadata": {},
   "outputs": [],
   "source": [
    "def rounding(digits, threshold = 0.50):\n",
    "    \"\"\"rounds a list of float digits with own threshhold\"\"\"\n",
    "    if type(digits) == list  or  type(digits) == np.ndarray:\n",
    "        return np.array(list(map(rounding, digits)))\n",
    "    if type(digits)== np.float64 or type(digits)== np.float32:\n",
    "        k = digits % 1\n",
    "        f = digits - k\n",
    "\n",
    "        if k >= threshold:\n",
    "            return (f + 1)\n",
    "        else:\n",
    "            return f\n",
    "    else:\n",
    "        raise ValueError(\"Wrong Type\")"
   ]
  },
  {
   "cell_type": "code",
   "execution_count": 8,
   "metadata": {},
   "outputs": [],
   "source": [
    "def binary_enc(dataframe, colname):\n",
    "    \"\"\"cast a string into a binary int variable\n",
    "    \n",
    "    Arguments:\n",
    "        dataframe: DataFrame to change\n",
    "        colname:   String Column that has to change\n",
    "        \n",
    "    Return:\n",
    "        the changed DataFrame\n",
    "    \n",
    "    \"\"\"\n",
    "    temp_df = dataframe.copy(deep=True)\n",
    "\n",
    "    var_1, var_2 = temp_df.loc[:,colname].unique()\n",
    "    #print(var_1, \": 1\")\n",
    "    #print(var_2, \": 0\")\n",
    "\n",
    "    mapper = {\n",
    "        var_1: 1 ,\n",
    "        var_2: 0 \n",
    "    }   \n",
    "    #print(mapper)\n",
    "    \n",
    "    temp_df[colname] = temp_df[colname].replace(mapper)\n",
    "    return temp_df, mapper"
   ]
  },
  {
   "cell_type": "code",
   "execution_count": 9,
   "metadata": {},
   "outputs": [],
   "source": [
    "def binary_encoding(dataframe, colnames):\n",
    "    \"\"\"casts a string variabl into a binary integer variable\n",
    "    \n",
    "    Arguments:\n",
    "        dataframe: DataFrame to change\n",
    "        colname:   String Column that has to change\n",
    "        \n",
    "    Return:\n",
    "        the changed DataFrame with a binary integer columns\n",
    "    \n",
    "    \"\"\"\n",
    "    temp_df = dataframe.copy(deep=True)\n",
    "    \n",
    "    maps = {   }\n",
    "\n",
    "    if type(colnames) == list:\n",
    "        for i, col in enumerate(colnames):\n",
    "            temp_df, dictionary = binary_enc(temp_df, col)\n",
    "            #maps.update( {colnames : dictionary} )\n",
    "            \n",
    "            maps.update( {col : dictionary} )\n",
    "    else:\n",
    "        temp_df, dictionary = binary_enc(temp_df, colnames)\n",
    "            \n",
    "    return temp_df,maps"
   ]
  },
  {
   "cell_type": "code",
   "execution_count": 10,
   "metadata": {},
   "outputs": [],
   "source": [
    "def zscore_normalisation(dataframe, colname):\n",
    "    \"\"\"zscore transformation \n",
    "    \n",
    "    Arguments:\n",
    "        dataframe: DataFrame to change\n",
    "    Return:\n",
    "        the changed DataFrame        \n",
    "    \"\"\"\n",
    "    temp_df = dataframe.copy(deep=True)\n",
    "    temp_df[colname] = (temp_df[colname] - temp_df[colname].mean()) / temp_df[colname].std()\n",
    "    \n",
    "    return temp_df"
   ]
  },
  {
   "cell_type": "code",
   "execution_count": 11,
   "metadata": {},
   "outputs": [],
   "source": [
    "def split_dataframe(dataframe, colname):\n",
    "    \"\"\" splitting data frame in to two dataframes\n",
    "    \n",
    "    Arguments:\n",
    "        dataframe: DataFrame to change\n",
    "        colname:   the selected column would be splitt and returned in a different dataframe\n",
    "        \n",
    "    Return:\n",
    "        dataframe without the given colname\n",
    "        dataframe with only the colname\n",
    "    \"\"\"\n",
    "    temp_df = dataframe.copy(deep=True)\n",
    "    \n",
    "    ordinal_column_df = temp_df.loc[:, colname]\n",
    "    not_ordinal_df = temp_df.drop(columns=colname)\n",
    "    return ordinal_column_df, not_ordinal_df"
   ]
  },
  {
   "cell_type": "markdown",
   "metadata": {},
   "source": [
    "Loading the DataFrame"
   ]
  },
  {
   "cell_type": "code",
   "execution_count": 12,
   "metadata": {},
   "outputs": [],
   "source": [
    "einkommen = pd.read_csv(\"einkommen.train\")"
   ]
  },
  {
   "cell_type": "markdown",
   "metadata": {},
   "source": [
    "Ranaming the columns from the Description"
   ]
  },
  {
   "cell_type": "code",
   "execution_count": 13,
   "metadata": {},
   "outputs": [],
   "source": [
    "# changing index cols with \n",
    "einkommen.columns = ['Age', 'Employment', 'Weighting_factor', 'Level_of_education', \n",
    "                'Schooling_period', 'Marital_status', 'Employment_area', 'Partnership', \n",
    "                'Ethnicity', 'Gender', 'Gains_on_financial assets', 'Losses_on_financial_assets', \n",
    "                'Weekly_working_time', 'Country_of birth','Income'] "
   ]
  },
  {
   "cell_type": "markdown",
   "metadata": {},
   "source": [
    "Checking the DataFrame"
   ]
  },
  {
   "cell_type": "code",
   "execution_count": 14,
   "metadata": {},
   "outputs": [
    {
     "data": {
      "text/plain": [
       "(29999, 15)"
      ]
     },
     "execution_count": 14,
     "metadata": {},
     "output_type": "execute_result"
    }
   ],
   "source": [
    "einkommen.shape"
   ]
  },
  {
   "cell_type": "markdown",
   "metadata": {},
   "source": [
    "It has 30K Rows and 15 Columns"
   ]
  },
  {
   "cell_type": "code",
   "execution_count": 15,
   "metadata": {
    "scrolled": false
   },
   "outputs": [
    {
     "name": "stdout",
     "output_type": "stream",
     "text": [
      "<class 'pandas.core.frame.DataFrame'>\n",
      "RangeIndex: 29999 entries, 0 to 29998\n",
      "Data columns (total 15 columns):\n",
      "Age                           29999 non-null int64\n",
      "Employment                    29999 non-null object\n",
      "Weighting_factor              29999 non-null int64\n",
      "Level_of_education            29999 non-null object\n",
      "Schooling_period              29999 non-null int64\n",
      "Marital_status                29999 non-null object\n",
      "Employment_area               29999 non-null object\n",
      "Partnership                   29999 non-null object\n",
      "Ethnicity                     29999 non-null object\n",
      "Gender                        29999 non-null object\n",
      "Gains_on_financial assets     29999 non-null int64\n",
      "Losses_on_financial_assets    29999 non-null int64\n",
      "Weekly_working_time           29999 non-null int64\n",
      "Country_of birth              29999 non-null object\n",
      "Income                        29999 non-null object\n",
      "dtypes: int64(6), object(9)\n",
      "memory usage: 3.4+ MB\n"
     ]
    }
   ],
   "source": [
    "einkommen.info()"
   ]
  },
  {
   "cell_type": "markdown",
   "metadata": {},
   "source": [
    "get the 5000 rows with given Target"
   ]
  },
  {
   "cell_type": "code",
   "execution_count": 16,
   "metadata": {},
   "outputs": [],
   "source": [
    "set_1 = einkommen[:4999]"
   ]
  },
  {
   "cell_type": "code",
   "execution_count": 17,
   "metadata": {},
   "outputs": [
    {
     "data": {
      "text/plain": [
       "(4999, 15)"
      ]
     },
     "execution_count": 17,
     "metadata": {},
     "output_type": "execute_result"
    }
   ],
   "source": [
    "set_1.shape"
   ]
  },
  {
   "cell_type": "code",
   "execution_count": 18,
   "metadata": {
    "scrolled": false
   },
   "outputs": [
    {
     "name": "stdout",
     "output_type": "stream",
     "text": [
      "   Age         Employment  Weighting_factor Level_of_education  \\\n",
      "0   50   Self-emp-not-inc             83311          Bachelors   \n",
      "1   38            Private            215646            HS-grad   \n",
      "2   53            Private            234721               11th   \n",
      "\n",
      "   Schooling_period       Marital_status     Employment_area     Partnership  \\\n",
      "0                13   Married-civ-spouse     Exec-managerial         Husband   \n",
      "1                 9             Divorced   Handlers-cleaners   Not-in-family   \n",
      "2                 7   Married-civ-spouse   Handlers-cleaners         Husband   \n",
      "\n",
      "  Ethnicity Gender  Gains_on_financial assets  Losses_on_financial_assets  \\\n",
      "0     White   Male                          0                           0   \n",
      "1     White   Male                          0                           0   \n",
      "2     Black   Male                          0                           0   \n",
      "\n",
      "   Weekly_working_time Country_of birth  Income  \n",
      "0                   13    United-States   <=50K  \n",
      "1                   40    United-States   <=50K  \n",
      "2                   40    United-States   <=50K  \n"
     ]
    }
   ],
   "source": [
    "print(set_1[:3])"
   ]
  },
  {
   "cell_type": "markdown",
   "metadata": {},
   "source": [
    "which col has numbers?"
   ]
  },
  {
   "cell_type": "code",
   "execution_count": 19,
   "metadata": {},
   "outputs": [],
   "source": [
    "int_col = [col for i, col in enumerate(set_1.columns) if set_1[col].dtype == int ]"
   ]
  },
  {
   "cell_type": "code",
   "execution_count": 20,
   "metadata": {
    "scrolled": true
   },
   "outputs": [
    {
     "name": "stdout",
     "output_type": "stream",
     "text": [
      "integer cols: ['Age', 'Weighting_factor', 'Schooling_period', 'Gains_on_financial assets', 'Losses_on_financial_assets', 'Weekly_working_time']\n"
     ]
    }
   ],
   "source": [
    "print(\"integer cols:\",int_col)"
   ]
  },
  {
   "cell_type": "markdown",
   "metadata": {},
   "source": [
    "all columns which has numbers would be  z- normalized"
   ]
  },
  {
   "cell_type": "code",
   "execution_count": 21,
   "metadata": {},
   "outputs": [],
   "source": [
    "znorm_df = zscore_normalisation(set_1, int_col)"
   ]
  },
  {
   "cell_type": "code",
   "execution_count": 22,
   "metadata": {
    "scrolled": false
   },
   "outputs": [
    {
     "name": "stdout",
     "output_type": "stream",
     "text": [
      "        Age         Employment  Weighting_factor Level_of_education  \\\n",
      "0  0.838470   Self-emp-not-inc         -1.010548          Bachelors   \n",
      "1 -0.044139            Private          0.233691            HS-grad   \n",
      "2  1.059122            Private          0.413038               11th   \n",
      "\n",
      "   Schooling_period       Marital_status     Employment_area     Partnership  \\\n",
      "0          1.152342   Married-civ-spouse     Exec-managerial         Husband   \n",
      "1         -0.425677             Divorced   Handlers-cleaners   Not-in-family   \n",
      "2         -1.214687   Married-civ-spouse   Handlers-cleaners         Husband   \n",
      "\n",
      "  Ethnicity Gender  Gains_on_financial assets  Losses_on_financial_assets  \\\n",
      "0     White   Male                  -0.146532                   -0.228107   \n",
      "1     White   Male                  -0.146532                   -0.228107   \n",
      "2     Black   Male                  -0.146532                   -0.228107   \n",
      "\n",
      "   Weekly_working_time Country_of birth  Income  \n",
      "0            -2.272353    United-States   <=50K  \n",
      "1            -0.042864    United-States   <=50K  \n",
      "2            -0.042864    United-States   <=50K  \n"
     ]
    }
   ],
   "source": [
    "print(znorm_df[:3])"
   ]
  },
  {
   "cell_type": "markdown",
   "metadata": {},
   "source": [
    "which columns have nominals?"
   ]
  },
  {
   "cell_type": "code",
   "execution_count": 23,
   "metadata": {},
   "outputs": [],
   "source": [
    "nominal_col = [col for i, col in enumerate(znorm_df.columns) if set_1[col].dtype != int ]"
   ]
  },
  {
   "cell_type": "code",
   "execution_count": 24,
   "metadata": {
    "scrolled": true
   },
   "outputs": [
    {
     "name": "stdout",
     "output_type": "stream",
     "text": [
      "nonimal columns: ['Employment', 'Level_of_education', 'Marital_status', 'Employment_area', 'Partnership', 'Ethnicity', 'Gender', 'Country_of birth', 'Income']\n"
     ]
    }
   ],
   "source": [
    "print(\"nonimal columns:\", nominal_col)"
   ]
  },
  {
   "cell_type": "markdown",
   "metadata": {},
   "source": [
    "Checking for missing values in nominals"
   ]
  },
  {
   "cell_type": "code",
   "execution_count": 25,
   "metadata": {
    "scrolled": false
   },
   "outputs": [
    {
     "name": "stdout",
     "output_type": "stream",
     "text": [
      "Check for Missing values in nominal\n",
      "0 Number of ? contains in  Employment 331\n",
      "1 Number of ? contains in  Level_of_education 0\n",
      "2 Number of ? contains in  Marital_status 0\n",
      "3 Number of ? contains in  Employment_area 331\n",
      "4 Number of ? contains in  Partnership 0\n",
      "5 Number of ? contains in  Ethnicity 0\n",
      "6 Number of ? contains in  Gender 0\n",
      "7 Number of ? contains in  Country_of birth 97\n",
      "8 Number of ? contains in  Income 0\n"
     ]
    }
   ],
   "source": [
    "print(\"Check for Missing values in nominal\")\n",
    "for i,col in enumerate(nominal_col):\n",
    "    print(i,\"Number of ? contains in \",col, sum(znorm_df[col].str.contains('?', regex=False))) "
   ]
  },
  {
   "cell_type": "markdown",
   "metadata": {},
   "source": [
    "checking for nominals with only 2 values to transform the in to binary integer"
   ]
  },
  {
   "cell_type": "code",
   "execution_count": 26,
   "metadata": {},
   "outputs": [],
   "source": [
    "binary_columns = []\n",
    "for i, col in enumerate(nominal_col):\n",
    "    unique_names = set_1.loc[:,col].unique()\n",
    "    if len(unique_names) == 2:\n",
    "        binary_columns.append(col)"
   ]
  },
  {
   "cell_type": "code",
   "execution_count": 27,
   "metadata": {},
   "outputs": [
    {
     "name": "stdout",
     "output_type": "stream",
     "text": [
      "Dictionary for binary encodings: \n",
      " {'Gender': {' Male': 1, ' Female': 0}, 'Income': {' <=50K': 1, ' >50K': 0}}\n"
     ]
    }
   ],
   "source": [
    "bin_encoded_df, maps = binary_encoding(znorm_df,binary_columns)\n",
    "print(\"Dictionary for binary encodings: \\n\", maps)"
   ]
  },
  {
   "cell_type": "code",
   "execution_count": 28,
   "metadata": {
    "scrolled": false
   },
   "outputs": [
    {
     "name": "stdout",
     "output_type": "stream",
     "text": [
      "        Age         Employment  Weighting_factor Level_of_education  \\\n",
      "0  0.838470   Self-emp-not-inc         -1.010548          Bachelors   \n",
      "1 -0.044139            Private          0.233691            HS-grad   \n",
      "2  1.059122            Private          0.413038               11th   \n",
      "\n",
      "   Schooling_period       Marital_status     Employment_area     Partnership  \\\n",
      "0          1.152342   Married-civ-spouse     Exec-managerial         Husband   \n",
      "1         -0.425677             Divorced   Handlers-cleaners   Not-in-family   \n",
      "2         -1.214687   Married-civ-spouse   Handlers-cleaners         Husband   \n",
      "\n",
      "  Ethnicity  Gender  Gains_on_financial assets  Losses_on_financial_assets  \\\n",
      "0     White       1                  -0.146532                   -0.228107   \n",
      "1     White       1                  -0.146532                   -0.228107   \n",
      "2     Black       1                  -0.146532                   -0.228107   \n",
      "\n",
      "   Weekly_working_time Country_of birth  Income  \n",
      "0            -2.272353    United-States       1  \n",
      "1            -0.042864    United-States       1  \n",
      "2            -0.042864    United-States       1  \n"
     ]
    }
   ],
   "source": [
    "print(bin_encoded_df[:3])"
   ]
  },
  {
   "cell_type": "code",
   "execution_count": 29,
   "metadata": {},
   "outputs": [
    {
     "data": {
      "text/plain": [
       "Index(['Age', 'Employment', 'Weighting_factor', 'Level_of_education',\n",
       "       'Schooling_period', 'Marital_status', 'Employment_area', 'Partnership',\n",
       "       'Ethnicity', 'Gender', 'Gains_on_financial assets',\n",
       "       'Losses_on_financial_assets', 'Weekly_working_time', 'Country_of birth',\n",
       "       'Income'],\n",
       "      dtype='object')"
      ]
     },
     "execution_count": 29,
     "metadata": {},
     "output_type": "execute_result"
    }
   ],
   "source": [
    "bin_encoded_df.columns"
   ]
  },
  {
   "cell_type": "code",
   "execution_count": 50,
   "metadata": {},
   "outputs": [
    {
     "data": {
      "image/png": "[encoded data removed]",
      "text/plain": [
       "<Figure size 720x288 with 1 Axes>"
      ]
     },
     "metadata": {
      "needs_background": "light"
     },
     "output_type": "display_data"
    }
   ],
   "source": [
    "fig, ax = plt.subplots(figsize=(10,4))\n",
    "set_1.Age.plot.hist(bins=30)\n",
    "plt.show()"
   ]
  },
  {
   "cell_type": "code",
   "execution_count": 49,
   "metadata": {},
   "outputs": [
    {
     "data": {
      "image/png": "[encoded data removed]",
      "text/plain": [
       "<Figure size 720x288 with 1 Axes>"
      ]
     },
     "metadata": {
      "needs_background": "light"
     },
     "output_type": "display_data"
    }
   ],
   "source": [
    "fig, ax = plt.subplots(figsize=(10,4))\n",
    "einkommen.Age.plot.hist(bins=30)\n",
    "plt.show()"
   ]
  },
  {
   "cell_type": "code",
   "execution_count": 48,
   "metadata": {
    "scrolled": true
   },
   "outputs": [
    {
     "data": {
      "image/png": "[encoded data removed]",
      "text/plain": [
       "<Figure size 720x288 with 1 Axes>"
      ]
     },
     "metadata": {
      "needs_background": "light"
     },
     "output_type": "display_data"
    }
   ],
   "source": [
    "fig, ax = plt.subplots(figsize=(10,4))\n",
    "set_1['Gender'].value_counts().plot(kind='bar')\n",
    "plt.show()"
   ]
  },
  {
   "cell_type": "code",
   "execution_count": 51,
   "metadata": {},
   "outputs": [
    {
     "data": {
      "image/png": "[encoded data removed]",
      "text/plain": [
       "<Figure size 720x288 with 1 Axes>"
      ]
     },
     "metadata": {
      "needs_background": "light"
     },
     "output_type": "display_data"
    }
   ],
   "source": [
    "fig, ax = plt.subplots(figsize=(10,4))\n",
    "einkommen['Gender'].value_counts().plot(kind='bar')\n",
    "plt.show()"
   ]
  },
  {
   "cell_type": "code",
   "execution_count": 52,
   "metadata": {},
   "outputs": [
    {
     "data": {
      "image/png": "[encoded data removed]",
      "text/plain": [
       "<Figure size 720x288 with 1 Axes>"
      ]
     },
     "metadata": {
      "needs_background": "light"
     },
     "output_type": "display_data"
    }
   ],
   "source": [
    "fig, ax = plt.subplots(figsize=(10,4))\n",
    "bin_encoded_df['Level_of_education'].value_counts().plot(kind='bar')\n",
    "plt.show()"
   ]
  },
  {
   "cell_type": "code",
   "execution_count": 53,
   "metadata": {},
   "outputs": [
    {
     "data": {
      "image/png": "[encoded data removed]",
      "text/plain": [
       "<Figure size 720x288 with 1 Axes>"
      ]
     },
     "metadata": {
      "needs_background": "light"
     },
     "output_type": "display_data"
    }
   ],
   "source": [
    "fig, ax = plt.subplots(figsize=(10,4))\n",
    "einkommen['Level_of_education'].value_counts().plot(kind='bar')\n",
    "plt.show()"
   ]
  },
  {
   "cell_type": "code",
   "execution_count": 54,
   "metadata": {
    "scrolled": true
   },
   "outputs": [
    {
     "data": {
      "image/png": "[encoded data removed]",
      "text/plain": [
       "<Figure size 720x288 with 1 Axes>"
      ]
     },
     "metadata": {
      "needs_background": "light"
     },
     "output_type": "display_data"
    }
   ],
   "source": [
    "fig, ax = plt.subplots(figsize=(10,4))\n",
    "set_1['Income'].value_counts().plot(kind='bar')\n",
    "plt.show()"
   ]
  },
  {
   "cell_type": "code",
   "execution_count": 191,
   "metadata": {},
   "outputs": [
    {
     "data": {
      "image/png": "[encoded data removed]",
      "text/plain": [
       "<Figure size 720x360 with 1 Axes>"
      ]
     },
     "metadata": {},
     "output_type": "display_data"
    }
   ],
   "source": [
    "grouped_gender = set_1.groupby(['Income','Gender']).size()\n",
    "grouped_gender_df =pd.DataFrame(grouped_gender)\n",
    "grouped_gender_df.columns = ['Ammount']\n",
    "pos = list(range(len(grouped_df['Ammount']))) \n",
    "fig, ax = plt.subplots(figsize=(10,5))\n",
    "plt.bar(pos, \n",
    "        #using df['pre_score'] data,\n",
    "        grouped_gender_df['Ammount'], \n",
    "        # of width\n",
    "        0.50, \n",
    "        color = [\"Green\",\"Yellow\",\"Green\",\"Yellow\"],\n",
    "        # with label the first value in first_name\n",
    "        label=\"gfg\") \n",
    "plt.xticks(pos, ('<=50K Female',' <=50K Male', '>50K Female','>50K Male'))\n",
    "plt.show()"
   ]
  },
  {
   "cell_type": "code",
   "execution_count": 196,
   "metadata": {},
   "outputs": [],
   "source": [
    "#set up bins\n",
    "bin = [18,40,65,90]\n",
    "#use pd.cut function can attribute the values into its specific bins\n",
    "category = pd.cut(set_1.Age,bin)\n",
    "category = category.to_frame()\n",
    "category.columns = ['Age_bin']\n",
    "#concatenate age and its bin\n",
    "df_age = pd.concat([set_1,category],axis = 1)"
   ]
  },
  {
   "cell_type": "code",
   "execution_count": 229,
   "metadata": {},
   "outputs": [
    {
     "data": {
      "image/png": "[encoded data removed]",
      "text/plain": [
       "<Figure size 720x360 with 1 Axes>"
      ]
     },
     "metadata": {},
     "output_type": "display_data"
    }
   ],
   "source": [
    "grouped_age = df_age.groupby(['Income','Age_bin']).size()\n",
    "grouped_age_df =pd.DataFrame(grouped_age)\n",
    "grouped_age_df.columns = ['Ammount']\n",
    "pos_age = list(range(len(grouped_age_df['Ammount']))) \n",
    "fig, ax = plt.subplots(figsize=(10,5))\n",
    "plt.bar(pos_age, \n",
    "        #using df['pre_score'] data,\n",
    "        grouped_age_df['Ammount'], \n",
    "        # of width\n",
    "        0.5,\n",
    "        color = [\"Pink\",\"Blue\",\"Purple\",\"Pink\",\"Blue\",\"Purple\"]\n",
    "        # with label the first value in first_name\n",
    "       ) \n",
    "plt.xticks(pos_age, ('<=50K Young',' <=50K Middle', '<=50K Old','>50K Young',' >50K Middle', '>50K Old'))\n",
    "plt.show()"
   ]
  }
 ],
 "metadata": {
  "kernelspec": {
   "display_name": "Python 3",
   "language": "python",
   "name": "python3"
  },
  "language_info": {
   "codemirror_mode": {
    "name": "ipython",
    "version": 3
   },
   "file_extension": ".py",
   "mimetype": "text/x-python",
   "name": "python",
   "nbconvert_exporter": "python",
   "pygments_lexer": "ipython3",
   "version": "3.7.3"
  }
 },
 "nbformat": 4,
 "nbformat_minor": 2
}
