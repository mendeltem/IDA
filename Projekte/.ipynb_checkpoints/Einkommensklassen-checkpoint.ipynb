{
 "cells": [
  {
   "cell_type": "code",
   "execution_count": 1306,
   "metadata": {},
   "outputs": [],
   "source": [
    "import keras as ks\n",
    "import tensorflow as tf\n",
    "import pandas as pd\n",
    "import numpy as np\n",
    "\n",
    "from sklearn.model_selection import train_test_split\n",
    "from sklearn.preprocessing import Imputer\n",
    "import warnings\n",
    "warnings.filterwarnings(\"ignore\", category=FutureWarning)"
   ]
  },
  {
   "cell_type": "code",
   "execution_count": 691,
   "metadata": {},
   "outputs": [],
   "source": [
    "einkommen = pd.read_csv(\"einkommen.train\")"
   ]
  },
  {
   "cell_type": "code",
   "execution_count": 692,
   "metadata": {},
   "outputs": [],
   "source": [
    "# changing index cols with \n",
    "einkommen.columns = ['Age', 'Employment', 'Weighting factor', 'Level of education', \n",
    "                'Schooling/training period', 'Marital status', 'Employment area', 'Partnership', \n",
    "                'Ethnicity', 'Gender', 'Gains on financial assets', 'Losses on financial assets', \n",
    "                'Weekly working time', 'Country of birth','Income'] "
   ]
  },
  {
   "cell_type": "code",
   "execution_count": 1247,
   "metadata": {},
   "outputs": [],
   "source": [
    "def rounding(digits,threshold = 0.50):\n",
    "    \"\"\"rounds a list of float digits with ad threshhold\"\"\"\n",
    "    if type(digits) == list  or  type(digits) == np.ndarray:\n",
    "        return np.array(list(map(rounding, digits)))\n",
    "    if type(digits)== np.float64 or type(digits)== np.float32:\n",
    "        k = digits % 1\n",
    "        f = digits - k\n",
    "\n",
    "        if k >= threshold:\n",
    "            return (f + 1)\n",
    "        else:\n",
    "            return f\n",
    "    else:\n",
    "        raise ValueError(\"Wrong Type\")"
   ]
  },
  {
   "cell_type": "code",
   "execution_count": 770,
   "metadata": {},
   "outputs": [],
   "source": [
    "def binary_enc(dataframe, colname):\n",
    "    \"\"\"cast a string into a binary int variable\n",
    "    \n",
    "    Arguments:\n",
    "        dataframe: DataFrame to change\n",
    "        colname:   String Column that has to change\n",
    "        \n",
    "    Return:\n",
    "        the changed DataFrame\n",
    "    \n",
    "    \"\"\"\n",
    "    temp_df = dataframe.copy(deep=True)\n",
    "\n",
    "    var_1, var_2 = temp_df.loc[:,colname].unique()\n",
    "    #print(var_1, \": 1\")\n",
    "    #print(var_2, \": 0\")\n",
    "\n",
    "    mapper = {\n",
    "        var_1: 1 ,\n",
    "        var_2: 0 \n",
    "    }   \n",
    "    #print(mapper)\n",
    "    \n",
    "    temp_df[colname] = temp_df[colname].replace(mapper)\n",
    "    return temp_df, mapper"
   ]
  },
  {
   "cell_type": "code",
   "execution_count": 771,
   "metadata": {},
   "outputs": [],
   "source": [
    "def binary_encoding(dataframe, colnames):\n",
    "    \"\"\"cast a string into a binary int variable\n",
    "    \n",
    "    Arguments:\n",
    "        dataframe: DataFrame to change\n",
    "        colname:   String Column that has to change\n",
    "        \n",
    "    Return:\n",
    "        the changed DataFrame\n",
    "    \n",
    "    \"\"\"\n",
    "    temp_df = dataframe.copy(deep=True)\n",
    "    \n",
    "    maps = {   }\n",
    "\n",
    "    if type(colnames) == list:\n",
    "        for i, col in enumerate(colnames):\n",
    "            temp_df, dictionary = binary_enc(temp_df, col)\n",
    "            #maps.update( {colnames : dictionary} )\n",
    "            \n",
    "            maps.update( {col : dictionary} )\n",
    "    else:\n",
    "        temp_df, dictionary = binary_enc(temp_df, colnames)\n",
    "            \n",
    "    return temp_df,maps"
   ]
  },
  {
   "cell_type": "code",
   "execution_count": 409,
   "metadata": {},
   "outputs": [],
   "source": [
    "def zscore_normalisation(dataframe, colname):\n",
    "    \"\"\"zscore transformation \n",
    "    \n",
    "    Arguments:\n",
    "        dataframe: DataFrame to change\n",
    "    Return:\n",
    "        the changed DataFrame        \n",
    "    \"\"\"\n",
    "    temp_df = dataframe.copy(deep=True)\n",
    "    temp_df[colname] = (temp_df[colname] - temp_df[colname].mean()) / temp_df[colname].std()\n",
    "    \n",
    "    return temp_df"
   ]
  },
  {
   "cell_type": "code",
   "execution_count": 385,
   "metadata": {},
   "outputs": [],
   "source": [
    "def split_dataframe(dataframe, colname):\n",
    "    \"\"\" splitting data frame in to two dataframes\n",
    "    \n",
    "    Arguments:\n",
    "        dataframe: DataFrame to change\n",
    "        colname:   the selected column would be splitt and returned in a different dataframe\n",
    "        \n",
    "    Return:\n",
    "        dataframe without the given colname\n",
    "        dataframe with only the colname\n",
    "    \"\"\"\n",
    "    temp_df = dataframe.copy(deep=True)\n",
    "    \n",
    "    ordinal_column_df = temp_df.loc[:, colname]\n",
    "    not_ordinal_df = temp_df.drop(columns=colname)\n",
    "    return ordinal_column_df, not_ordinal_df"
   ]
  },
  {
   "cell_type": "code",
   "execution_count": 331,
   "metadata": {},
   "outputs": [],
   "source": [
    "ordinal_level_of_education = {' HS-grad': 0, ' 9th': 1, ' 11th': 2, ' Bachelors': 3, ' Masters': 4}"
   ]
  },
  {
   "cell_type": "code",
   "execution_count": 886,
   "metadata": {},
   "outputs": [],
   "source": [
    "#the set with given Target\n",
    "set_1 = einkommen[:4999]"
   ]
  },
  {
   "cell_type": "code",
   "execution_count": 888,
   "metadata": {},
   "outputs": [],
   "source": [
    "#check for numbers\n",
    "int_col = [col for i, col in enumerate(set_1.columns) if set_1[col].dtype == int ]\n",
    "#z normalization for nummeric values\n",
    "znorm_df = zscore_normalisation(set_1, int_col)"
   ]
  },
  {
   "cell_type": "code",
   "execution_count": 983,
   "metadata": {},
   "outputs": [],
   "source": [
    "#checking for ?\n",
    "for i, k in enumerate(set_1.columns):\n",
    "    unique_names = set_1.loc[:,k].unique()\n",
    "    if \"?\" in k:\n",
    "        print(k)"
   ]
  },
  {
   "cell_type": "code",
   "execution_count": 985,
   "metadata": {},
   "outputs": [
    {
     "name": "stdout",
     "output_type": "stream",
     "text": [
      "Country of birth:  97\n",
      "Employment area:  331\n",
      "Employment:  331\n"
     ]
    }
   ],
   "source": [
    "print(\"Country of birth: \",sum(set_1['Country of birth'].str.contains('?', regex=False)))\n",
    "print(\"Employment area: \",sum(set_1['Employment area'].str.contains('?', regex=False)))\n",
    "print(\"Employment: \",sum(set_1['Employment'].str.contains('?', regex=False)))"
   ]
  },
  {
   "cell_type": "code",
   "execution_count": 987,
   "metadata": {},
   "outputs": [],
   "source": [
    "#check for nominals\n",
    "nominal_col = [col for i, col in enumerate(set_1.columns) if set_1[col].dtype != int ]"
   ]
  },
  {
   "cell_type": "code",
   "execution_count": 988,
   "metadata": {
    "scrolled": true
   },
   "outputs": [
    {
     "data": {
      "text/plain": [
       "['Employment',\n",
       " 'Level of education',\n",
       " 'Marital status',\n",
       " 'Employment area',\n",
       " 'Partnership',\n",
       " 'Ethnicity',\n",
       " 'Gender',\n",
       " 'Country of birth',\n",
       " 'Income']"
      ]
     },
     "execution_count": 988,
     "metadata": {},
     "output_type": "execute_result"
    }
   ],
   "source": [
    "nominal_col"
   ]
  },
  {
   "cell_type": "code",
   "execution_count": 989,
   "metadata": {
    "scrolled": true
   },
   "outputs": [
    {
     "name": "stdout",
     "output_type": "stream",
     "text": [
      "\n",
      " Employment : 8\n",
      "\n",
      " Level of education : 16\n",
      "\n",
      " Marital status : 7\n",
      "\n",
      " Employment area : 15\n",
      "\n",
      " Partnership : 6\n",
      "\n",
      " Ethnicity : 5\n",
      "\n",
      " Gender : 2\n",
      "\n",
      " Country of birth : 40\n",
      "\n",
      " Income : 2\n"
     ]
    }
   ],
   "source": [
    "#checking for binary\n",
    "for i, k in enumerate(nominal_col):\n",
    "    unique_names = set_1.loc[:,k].unique()\n",
    "    print(\"\\n\",k,\":\", len(unique_names))"
   ]
  },
  {
   "cell_type": "code",
   "execution_count": 990,
   "metadata": {},
   "outputs": [],
   "source": [
    "bin_encoded, maps = binary_encoding(znorm_df, [\"Gender\", \"Income\"])"
   ]
  },
  {
   "cell_type": "code",
   "execution_count": 991,
   "metadata": {},
   "outputs": [
    {
     "data": {
      "text/plain": [
       "{'Gender': {' Male': 1, ' Female': 0}, 'Income': {' <=50K': 1, ' >50K': 0}}"
      ]
     },
     "execution_count": 991,
     "metadata": {},
     "output_type": "execute_result"
    }
   ],
   "source": [
    "maps"
   ]
  },
  {
   "cell_type": "code",
   "execution_count": 992,
   "metadata": {},
   "outputs": [],
   "source": [
    "nominal_col = [col for i, col in enumerate(bin_encoded.columns) if bin_encoded[col].dtype != int and bin_encoded[col].dtype != float ]"
   ]
  },
  {
   "cell_type": "code",
   "execution_count": 993,
   "metadata": {},
   "outputs": [
    {
     "data": {
      "text/plain": [
       "['Employment',\n",
       " 'Level of education',\n",
       " 'Marital status',\n",
       " 'Employment area',\n",
       " 'Partnership',\n",
       " 'Ethnicity',\n",
       " 'Country of birth']"
      ]
     },
     "execution_count": 993,
     "metadata": {},
     "output_type": "execute_result"
    }
   ],
   "source": [
    "nominal_col"
   ]
  },
  {
   "cell_type": "code",
   "execution_count": 994,
   "metadata": {
    "scrolled": false
   },
   "outputs": [],
   "source": [
    "#one hot encoding the nominals\n",
    "transformed_df = pd.get_dummies(bin_encoded, columns=nominal_col)"
   ]
  },
  {
   "cell_type": "code",
   "execution_count": 1274,
   "metadata": {
    "scrolled": true
   },
   "outputs": [],
   "source": [
    "target = transformed_df[\"Income\"]\n",
    "X = transformed_df.drop(columns=['Income'])"
   ]
  },
  {
   "cell_type": "code",
   "execution_count": 1012,
   "metadata": {},
   "outputs": [],
   "source": [
    "from sklearn.model_selection import train_test_split "
   ]
  },
  {
   "cell_type": "code",
   "execution_count": 1022,
   "metadata": {},
   "outputs": [],
   "source": [
    "X_train, X_test, y_train, y_test = train_test_split(X, target, test_size=0.1)"
   ]
  },
  {
   "cell_type": "code",
   "execution_count": 1016,
   "metadata": {},
   "outputs": [
    {
     "data": {
      "text/plain": [
       "(3749, 104)"
      ]
     },
     "execution_count": 1016,
     "metadata": {},
     "output_type": "execute_result"
    }
   ],
   "source": [
    "X_train.shape"
   ]
  },
  {
   "cell_type": "markdown",
   "metadata": {},
   "source": [
    "Trying Decision Tree"
   ]
  },
  {
   "cell_type": "code",
   "execution_count": 1042,
   "metadata": {},
   "outputs": [],
   "source": [
    "from sklearn.tree import DecisionTreeClassifier\n",
    "import matplotlib.pyplot as plt"
   ]
  },
  {
   "cell_type": "code",
   "execution_count": 1053,
   "metadata": {
    "scrolled": true
   },
   "outputs": [],
   "source": [
    "from sklearn.neighbors import KNeighborsClassifier\n",
    "from sklearn.metrics import confusion_matrix, classification_report\n",
    "from sklearn.metrics import accuracy_score"
   ]
  },
  {
   "cell_type": "markdown",
   "metadata": {},
   "source": [
    "Parameter Optimization"
   ]
  },
  {
   "cell_type": "code",
   "execution_count": 1059,
   "metadata": {},
   "outputs": [],
   "source": [
    "val_accuracy_score   = []\n",
    "train_accuracy_score = []\n",
    "\n",
    "for i in range(40):\n",
    "    # Create and fit the model\n",
    "    knn = KNeighborsClassifier(i+1)\n",
    "    knn.fit(X_train,y_train)\n",
    "\n",
    "    # Predict on the test features, print the results\n",
    "    y_pred_test = knn.predict(X_test)\n",
    "    y_pred_train = knn.predict(X_train)\n",
    "    #print(classification_report(y_test,pred))\n",
    "    val_accuracy_score.append(accuracy_score(y_test,y_pred_test))\n",
    "    train_accuracy_score.append(accuracy_score(y_train,y_pred_train))"
   ]
  },
  {
   "cell_type": "code",
   "execution_count": 1075,
   "metadata": {},
   "outputs": [
    {
     "data": {
      "text/plain": [
       "[<matplotlib.lines.Line2D at 0x7f23ddc86e80>]"
      ]
     },
     "execution_count": 1075,
     "metadata": {},
     "output_type": "execute_result"
    },
    {
     "data": {
      "image/png": "[encoded data removed]",
      "text/plain": [
       "<Figure size 432x288 with 1 Axes>"
      ]
     },
     "metadata": {
      "needs_background": "light"
     },
     "output_type": "display_data"
    }
   ],
   "source": [
    "plt.plot(val_accuracy_score, label='val_accuracy_score:', color =\"green\")\n",
    "plt.plot(train_accuracy_score, label='train_accuracy_score:', color =\"red\")"
   ]
  },
  {
   "cell_type": "markdown",
   "metadata": {},
   "source": [
    "Getting the best result"
   ]
  },
  {
   "cell_type": "code",
   "execution_count": 1052,
   "metadata": {},
   "outputs": [
    {
     "name": "stdout",
     "output_type": "stream",
     "text": [
      "              precision    recall  f1-score   support\n",
      "\n",
      "           0       0.71      0.58      0.64       122\n",
      "           1       0.87      0.92      0.90       378\n",
      "\n",
      "    accuracy                           0.84       500\n",
      "   macro avg       0.79      0.75      0.77       500\n",
      "weighted avg       0.83      0.84      0.83       500\n",
      "\n"
     ]
    }
   ],
   "source": [
    "knn = KNeighborsClassifier(17)\n",
    "knn.fit(X_train,y_train)\n",
    "\n",
    "# Predict on the test features, print the results\n",
    "y_pred = knn.predict(X_test)\n",
    "#print(classification_report(y_test,pred))\n",
    "loss.append(sum((y_test- knn.predict(X_test)) ** 2))\n",
    "\n",
    "print(classification_report(y_test,y_pred))"
   ]
  },
  {
   "cell_type": "markdown",
   "metadata": {},
   "source": [
    "Random Forest"
   ]
  },
  {
   "cell_type": "code",
   "execution_count": 1062,
   "metadata": {},
   "outputs": [],
   "source": [
    "from sklearn.ensemble import RandomForestClassifier"
   ]
  },
  {
   "cell_type": "code",
   "execution_count": 1065,
   "metadata": {},
   "outputs": [],
   "source": [
    "clf = RandomForestClassifier(max_depth = 1)"
   ]
  },
  {
   "cell_type": "code",
   "execution_count": 1316,
   "metadata": {
    "scrolled": true
   },
   "outputs": [
    {
     "data": {
      "text/plain": [
       "LogisticRegression(C=1.0, class_weight=None, dual=False, fit_intercept=True,\n",
       "                   intercept_scaling=1, l1_ratio=None, max_iter=100,\n",
       "                   multi_class='warn', n_jobs=None, penalty='l2',\n",
       "                   random_state=None, solver='warn', tol=0.0001, verbose=0,\n",
       "                   warm_start=False)"
      ]
     },
     "execution_count": 1316,
     "metadata": {},
     "output_type": "execute_result"
    }
   ],
   "source": [
    "clf.fit(X_train,y_train)"
   ]
  },
  {
   "cell_type": "code",
   "execution_count": 1315,
   "metadata": {},
   "outputs": [],
   "source": [
    "val_accuracy_score   = []\n",
    "train_accuracy_score = []\n",
    "\n",
    "for i in range(1,100):\n",
    "    # Create and fit the model\n",
    "    rclf = RandomForestClassifier(max_depth = i)\n",
    "    rclf.fit(X_train,y_train)\n",
    "\n",
    "    # Predict on the test features, print the results\n",
    "    y_pred_test = rclf.predict(X_test)\n",
    "    y_pred_train = rclf.predict(X_train)\n",
    "    #print(classification_report(y_test,pred))\n",
    "    val_accuracy_score.append(accuracy_score(y_test,y_pred_test))\n",
    "    train_accuracy_score.append(accuracy_score(y_train,y_pred_train))"
   ]
  },
  {
   "cell_type": "code",
   "execution_count": 1074,
   "metadata": {},
   "outputs": [
    {
     "data": {
      "text/plain": [
       "[<matplotlib.lines.Line2D at 0x7f23dfc21b38>]"
      ]
     },
     "execution_count": 1074,
     "metadata": {},
     "output_type": "execute_result"
    },
    {
     "data": {
      "image/png": "[encoded data removed]",
      "text/plain": [
       "<Figure size 432x288 with 1 Axes>"
      ]
     },
     "metadata": {
      "needs_background": "light"
     },
     "output_type": "display_data"
    }
   ],
   "source": [
    "plt.plot(val_accuracy_score, label='val_accuracy_score:', color =\"green\")\n",
    "plt.plot(train_accuracy_score, label='train_accuracy_score:', color =\"red\")"
   ]
  },
  {
   "cell_type": "code",
   "execution_count": 1314,
   "metadata": {
    "scrolled": true
   },
   "outputs": [
    {
     "name": "stdout",
     "output_type": "stream",
     "text": [
      "              precision    recall  f1-score   support\n",
      "\n",
      "           0       0.79      0.59      0.68       130\n",
      "           1       0.87      0.95      0.91       369\n",
      "\n",
      "    accuracy                           0.85       499\n",
      "   macro avg       0.83      0.77      0.79       499\n",
      "weighted avg       0.85      0.85      0.85       499\n",
      "\n"
     ]
    }
   ],
   "source": [
    "rclf = RandomForestClassifier(max_depth = 14)\n",
    "rclf.fit(X_train,y_train)\n",
    "\n",
    "# Predict on the test features, print the results\n",
    "y_pred = rclf.predict(X_test)\n",
    "#print(classification_report(y_test,pred))\n",
    "loss.append(sum((y_test- rclf.predict(X_test)) ** 2))\n",
    "\n",
    "print(classification_report(y_test,y_pred))"
   ]
  },
  {
   "cell_type": "code",
   "execution_count": 1099,
   "metadata": {},
   "outputs": [
    {
     "data": {
      "text/plain": [
       "(4499, 104)"
      ]
     },
     "execution_count": 1099,
     "metadata": {},
     "output_type": "execute_result"
    }
   ],
   "source": [
    "X_train.shape"
   ]
  },
  {
   "cell_type": "code",
   "execution_count": 1236,
   "metadata": {},
   "outputs": [],
   "source": [
    "from keras.models import Sequential\n",
    "from keras.layers.core import Dense\n",
    "from keras.layers.core import Activation\n",
    "from keras import metrics\n",
    "from keras.layers import Dropout\n",
    "from keras.callbacks import ModelCheckpoint\n",
    "\n",
    "def classifier(input_shape):\n",
    "    model = Sequential()\n",
    "    model.add(Dense(100, input_dim=input_shape, activation='relu'))\n",
    "    model.add(Dropout(0.5))\n",
    "    model.add(Dense(100, activation='relu'))\n",
    "    model.add(Dropout(0.5))\n",
    "    model.add(Dense(1, activation='sigmoid'))\n",
    "    model.compile(optimizer='adam',\n",
    "                  loss='binary_crossentropy',\n",
    "                  metrics=[metrics.categorical_accuracy])\n",
    "    return model"
   ]
  },
  {
   "cell_type": "code",
   "execution_count": 1237,
   "metadata": {},
   "outputs": [],
   "source": [
    "classifier = classifier(X_train.shape[1])"
   ]
  },
  {
   "cell_type": "code",
   "execution_count": 1238,
   "metadata": {},
   "outputs": [],
   "source": [
    "save_cmodel_wieghts_path = \"model_weights_best2.hdf5\""
   ]
  },
  {
   "cell_type": "code",
   "execution_count": 1239,
   "metadata": {
    "scrolled": true
   },
   "outputs": [
    {
     "name": "stdout",
     "output_type": "stream",
     "text": [
      "Train on 4499 samples, validate on 500 samples\n",
      "Epoch 1/100\n",
      "\n",
      "Epoch 00001: val_loss improved from inf to 0.38536, saving model to model_weights_best2.hdf5\n",
      "Epoch 2/100\n",
      "\n",
      "Epoch 00002: val_loss improved from 0.38536 to 0.31467, saving model to model_weights_best2.hdf5\n",
      "Epoch 3/100\n",
      "\n",
      "Epoch 00003: val_loss improved from 0.31467 to 0.30157, saving model to model_weights_best2.hdf5\n",
      "Epoch 4/100\n",
      "\n",
      "Epoch 00004: val_loss improved from 0.30157 to 0.29913, saving model to model_weights_best2.hdf5\n",
      "Epoch 5/100\n",
      "\n",
      "Epoch 00005: val_loss improved from 0.29913 to 0.28944, saving model to model_weights_best2.hdf5\n",
      "Epoch 6/100\n",
      "\n",
      "Epoch 00006: val_loss improved from 0.28944 to 0.28807, saving model to model_weights_best2.hdf5\n",
      "Epoch 7/100\n",
      "\n",
      "Epoch 00007: val_loss improved from 0.28807 to 0.28596, saving model to model_weights_best2.hdf5\n",
      "Epoch 8/100\n",
      "\n",
      "Epoch 00008: val_loss improved from 0.28596 to 0.28509, saving model to model_weights_best2.hdf5\n",
      "Epoch 9/100\n",
      "\n",
      "Epoch 00009: val_loss did not improve from 0.28509\n",
      "Epoch 10/100\n",
      "\n",
      "Epoch 00010: val_loss improved from 0.28509 to 0.28268, saving model to model_weights_best2.hdf5\n",
      "Epoch 11/100\n",
      "\n",
      "Epoch 00011: val_loss improved from 0.28268 to 0.28002, saving model to model_weights_best2.hdf5\n",
      "Epoch 12/100\n",
      "\n",
      "Epoch 00012: val_loss did not improve from 0.28002\n",
      "Epoch 13/100\n",
      "\n",
      "Epoch 00013: val_loss did not improve from 0.28002\n",
      "Epoch 14/100\n",
      "\n",
      "Epoch 00014: val_loss improved from 0.28002 to 0.27931, saving model to model_weights_best2.hdf5\n",
      "Epoch 15/100\n",
      "\n",
      "Epoch 00015: val_loss did not improve from 0.27931\n",
      "Epoch 16/100\n",
      "\n",
      "Epoch 00016: val_loss did not improve from 0.27931\n",
      "Epoch 17/100\n",
      "\n",
      "Epoch 00017: val_loss did not improve from 0.27931\n",
      "Epoch 18/100\n",
      "\n",
      "Epoch 00018: val_loss did not improve from 0.27931\n",
      "Epoch 19/100\n",
      "\n",
      "Epoch 00019: val_loss did not improve from 0.27931\n",
      "Epoch 20/100\n",
      "\n",
      "Epoch 00020: val_loss did not improve from 0.27931\n",
      "Epoch 21/100\n",
      "\n",
      "Epoch 00021: val_loss did not improve from 0.27931\n",
      "Epoch 22/100\n",
      "\n",
      "Epoch 00022: val_loss did not improve from 0.27931\n",
      "Epoch 23/100\n",
      "\n",
      "Epoch 00023: val_loss did not improve from 0.27931\n",
      "Epoch 24/100\n",
      "\n",
      "Epoch 00024: val_loss did not improve from 0.27931\n",
      "Epoch 25/100\n",
      "\n",
      "Epoch 00025: val_loss did not improve from 0.27931\n",
      "Epoch 26/100\n",
      "\n",
      "Epoch 00026: val_loss did not improve from 0.27931\n",
      "Epoch 27/100\n",
      "\n",
      "Epoch 00027: val_loss did not improve from 0.27931\n",
      "Epoch 28/100\n",
      "\n",
      "Epoch 00028: val_loss did not improve from 0.27931\n",
      "Epoch 29/100\n",
      "\n",
      "Epoch 00029: val_loss did not improve from 0.27931\n",
      "Epoch 30/100\n",
      "\n",
      "Epoch 00030: val_loss did not improve from 0.27931\n",
      "Epoch 31/100\n",
      "\n",
      "Epoch 00031: val_loss did not improve from 0.27931\n",
      "Epoch 32/100\n",
      "\n",
      "Epoch 00032: val_loss did not improve from 0.27931\n",
      "Epoch 33/100\n",
      "\n",
      "Epoch 00033: val_loss did not improve from 0.27931\n",
      "Epoch 34/100\n",
      "\n",
      "Epoch 00034: val_loss did not improve from 0.27931\n",
      "Epoch 35/100\n",
      "\n",
      "Epoch 00035: val_loss did not improve from 0.27931\n",
      "Epoch 36/100\n",
      "\n",
      "Epoch 00036: val_loss did not improve from 0.27931\n",
      "Epoch 37/100\n",
      "\n",
      "Epoch 00037: val_loss did not improve from 0.27931\n",
      "Epoch 38/100\n",
      "\n",
      "Epoch 00038: val_loss did not improve from 0.27931\n",
      "Epoch 39/100\n",
      "\n",
      "Epoch 00039: val_loss did not improve from 0.27931\n",
      "Epoch 40/100\n",
      "\n",
      "Epoch 00040: val_loss did not improve from 0.27931\n",
      "Epoch 41/100\n",
      "\n",
      "Epoch 00041: val_loss did not improve from 0.27931\n",
      "Epoch 42/100\n",
      "\n",
      "Epoch 00042: val_loss did not improve from 0.27931\n",
      "Epoch 43/100\n",
      "\n",
      "Epoch 00043: val_loss did not improve from 0.27931\n",
      "Epoch 44/100\n",
      "\n",
      "Epoch 00044: val_loss did not improve from 0.27931\n",
      "Epoch 45/100\n",
      "\n",
      "Epoch 00045: val_loss did not improve from 0.27931\n",
      "Epoch 46/100\n",
      "\n",
      "Epoch 00046: val_loss did not improve from 0.27931\n",
      "Epoch 47/100\n",
      "\n",
      "Epoch 00047: val_loss did not improve from 0.27931\n",
      "Epoch 48/100\n",
      "\n",
      "Epoch 00048: val_loss did not improve from 0.27931\n",
      "Epoch 49/100\n",
      "\n",
      "Epoch 00049: val_loss did not improve from 0.27931\n",
      "Epoch 50/100\n",
      "\n",
      "Epoch 00050: val_loss did not improve from 0.27931\n",
      "Epoch 51/100\n",
      "\n",
      "Epoch 00051: val_loss did not improve from 0.27931\n",
      "Epoch 52/100\n",
      "\n",
      "Epoch 00052: val_loss did not improve from 0.27931\n",
      "Epoch 53/100\n",
      "\n",
      "Epoch 00053: val_loss did not improve from 0.27931\n",
      "Epoch 54/100\n",
      "\n",
      "Epoch 00054: val_loss did not improve from 0.27931\n",
      "Epoch 55/100\n",
      "\n",
      "Epoch 00055: val_loss did not improve from 0.27931\n",
      "Epoch 56/100\n",
      "\n",
      "Epoch 00056: val_loss did not improve from 0.27931\n",
      "Epoch 57/100\n",
      "\n",
      "Epoch 00057: val_loss did not improve from 0.27931\n",
      "Epoch 58/100\n",
      "\n",
      "Epoch 00058: val_loss did not improve from 0.27931\n",
      "Epoch 59/100\n",
      "\n",
      "Epoch 00059: val_loss did not improve from 0.27931\n",
      "Epoch 60/100\n",
      "\n",
      "Epoch 00060: val_loss did not improve from 0.27931\n",
      "Epoch 61/100\n",
      "\n",
      "Epoch 00061: val_loss did not improve from 0.27931\n",
      "Epoch 62/100\n",
      "\n",
      "Epoch 00062: val_loss did not improve from 0.27931\n",
      "Epoch 63/100\n",
      "\n",
      "Epoch 00063: val_loss did not improve from 0.27931\n",
      "Epoch 64/100\n",
      "\n",
      "Epoch 00064: val_loss did not improve from 0.27931\n",
      "Epoch 65/100\n",
      "\n",
      "Epoch 00065: val_loss did not improve from 0.27931\n",
      "Epoch 66/100\n",
      "\n",
      "Epoch 00066: val_loss did not improve from 0.27931\n",
      "Epoch 67/100\n",
      "\n",
      "Epoch 00067: val_loss did not improve from 0.27931\n",
      "Epoch 68/100\n",
      "\n",
      "Epoch 00068: val_loss did not improve from 0.27931\n",
      "Epoch 69/100\n",
      "\n",
      "Epoch 00069: val_loss did not improve from 0.27931\n",
      "Epoch 70/100\n",
      "\n",
      "Epoch 00070: val_loss did not improve from 0.27931\n",
      "Epoch 71/100\n",
      "\n",
      "Epoch 00071: val_loss did not improve from 0.27931\n",
      "Epoch 72/100\n",
      "\n",
      "Epoch 00072: val_loss did not improve from 0.27931\n",
      "Epoch 73/100\n",
      "\n",
      "Epoch 00073: val_loss did not improve from 0.27931\n",
      "Epoch 74/100\n",
      "\n",
      "Epoch 00074: val_loss did not improve from 0.27931\n",
      "Epoch 75/100\n",
      "\n",
      "Epoch 00075: val_loss did not improve from 0.27931\n",
      "Epoch 76/100\n",
      "\n",
      "Epoch 00076: val_loss did not improve from 0.27931\n",
      "Epoch 77/100\n",
      "\n",
      "Epoch 00077: val_loss did not improve from 0.27931\n",
      "Epoch 78/100\n",
      "\n",
      "Epoch 00078: val_loss did not improve from 0.27931\n",
      "Epoch 79/100\n",
      "\n",
      "Epoch 00079: val_loss did not improve from 0.27931\n",
      "Epoch 80/100\n",
      "\n",
      "Epoch 00080: val_loss did not improve from 0.27931\n",
      "Epoch 81/100\n",
      "\n",
      "Epoch 00081: val_loss did not improve from 0.27931\n",
      "Epoch 82/100\n",
      "\n",
      "Epoch 00082: val_loss did not improve from 0.27931\n",
      "Epoch 83/100\n",
      "\n",
      "Epoch 00083: val_loss did not improve from 0.27931\n",
      "Epoch 84/100\n",
      "\n",
      "Epoch 00084: val_loss did not improve from 0.27931\n",
      "Epoch 85/100\n",
      "\n",
      "Epoch 00085: val_loss did not improve from 0.27931\n",
      "Epoch 86/100\n",
      "\n",
      "Epoch 00086: val_loss did not improve from 0.27931\n",
      "Epoch 87/100\n",
      "\n",
      "Epoch 00087: val_loss did not improve from 0.27931\n",
      "Epoch 88/100\n",
      "\n",
      "Epoch 00088: val_loss did not improve from 0.27931\n",
      "Epoch 89/100\n",
      "\n",
      "Epoch 00089: val_loss did not improve from 0.27931\n",
      "Epoch 90/100\n",
      "\n",
      "Epoch 00090: val_loss did not improve from 0.27931\n",
      "Epoch 91/100\n",
      "\n",
      "Epoch 00091: val_loss did not improve from 0.27931\n",
      "Epoch 92/100\n",
      "\n",
      "Epoch 00092: val_loss did not improve from 0.27931\n",
      "Epoch 93/100\n",
      "\n",
      "Epoch 00093: val_loss did not improve from 0.27931\n",
      "Epoch 94/100\n",
      "\n",
      "Epoch 00094: val_loss did not improve from 0.27931\n",
      "Epoch 95/100\n",
      "\n",
      "Epoch 00095: val_loss did not improve from 0.27931\n",
      "Epoch 96/100\n",
      "\n",
      "Epoch 00096: val_loss did not improve from 0.27931\n",
      "Epoch 97/100\n",
      "\n",
      "Epoch 00097: val_loss did not improve from 0.27931\n",
      "Epoch 98/100\n",
      "\n",
      "Epoch 00098: val_loss did not improve from 0.27931\n",
      "Epoch 99/100\n",
      "\n",
      "Epoch 00099: val_loss did not improve from 0.27931\n",
      "Epoch 100/100\n",
      "\n",
      "Epoch 00100: val_loss did not improve from 0.27931\n"
     ]
    }
   ],
   "source": [
    "history = classifier.fit(X_train,y_train, epochs = 100,batch_size =100,verbose=3,callbacks=[ ModelCheckpoint(\n",
    "               filepath=save_cmodel_wieghts_path,\n",
    "               verbose=1, save_best_only=True)],\n",
    "          validation_data=(X_test, y_test))"
   ]
  },
  {
   "cell_type": "code",
   "execution_count": 1248,
   "metadata": {
    "scrolled": true
   },
   "outputs": [
    {
     "name": "stdout",
     "output_type": "stream",
     "text": [
      "              precision    recall  f1-score   support\n",
      "\n",
      "           0       0.81      0.67      0.74       122\n",
      "           1       0.90      0.95      0.92       378\n",
      "\n",
      "    accuracy                           0.88       500\n",
      "   macro avg       0.86      0.81      0.83       500\n",
      "weighted avg       0.88      0.88      0.88       500\n",
      "\n"
     ]
    }
   ],
   "source": [
    "classifier.load_weights(save_cmodel_wieghts_path)\n",
    "y_pred = classifier.predict(X_test)\n",
    "y_pred = rounding(y_pred)\n",
    "print(classification_report(y_test,y_pred))"
   ]
  },
  {
   "cell_type": "code",
   "execution_count": null,
   "metadata": {},
   "outputs": [],
   "source": [
    "clf = LogisticRegression(fit_intercept = True, C = C)"
   ]
  },
  {
   "cell_type": "markdown",
   "metadata": {},
   "source": [
    "Logistic Regression"
   ]
  },
  {
   "cell_type": "code",
   "execution_count": 1313,
   "metadata": {
    "scrolled": false
   },
   "outputs": [],
   "source": [
    "val_accuracy_score   = []\n",
    "train_accuracy_score = []\n",
    "\n",
    "for i in range(1,100):\n",
    "    # Create and fit the model\n",
    "    logreg = LogisticRegression(fit_intercept = True, C = i)\n",
    "    logreg.fit(X_train,y_train)\n",
    "\n",
    "    # Predict on the test features, print the results\n",
    "    y_pred_test = logreg.predict(X_test)\n",
    "    y_pred_train = logreg.predict(X_train)\n",
    "    #print(classification_report(y_test,pred))\n",
    "    val_accuracy_score.append(accuracy_score(y_test,y_pred_test))\n",
    "    train_accuracy_score.append(accuracy_score(y_train,y_pred_train))"
   ]
  },
  {
   "cell_type": "code",
   "execution_count": 1255,
   "metadata": {},
   "outputs": [
    {
     "data": {
      "text/plain": [
       "[<matplotlib.lines.Line2D at 0x7f21ca8cd898>]"
      ]
     },
     "execution_count": 1255,
     "metadata": {},
     "output_type": "execute_result"
    },
    {
     "data": {
      "image/png": "[encoded data removed]",
      "text/plain": [
       "<Figure size 432x288 with 1 Axes>"
      ]
     },
     "metadata": {
      "needs_background": "light"
     },
     "output_type": "display_data"
    }
   ],
   "source": [
    "plt.plot(val_accuracy_score, label='val_accuracy_score:', color =\"green\")\n",
    "plt.plot(train_accuracy_score, label='train_accuracy_score:', color =\"red\")"
   ]
  },
  {
   "cell_type": "code",
   "execution_count": 1257,
   "metadata": {},
   "outputs": [
    {
     "data": {
      "text/plain": [
       "1"
      ]
     },
     "execution_count": 1257,
     "metadata": {},
     "output_type": "execute_result"
    }
   ],
   "source": [
    "np.argmax(val_accuracy_score)"
   ]
  },
  {
   "cell_type": "code",
   "execution_count": 1258,
   "metadata": {},
   "outputs": [
    {
     "name": "stderr",
     "output_type": "stream",
     "text": [
      "/media/pandoora/DATA/programms/Anaconda/envs/mi/lib/python3.7/site-packages/sklearn/linear_model/logistic.py:432: FutureWarning: Default solver will be changed to 'lbfgs' in 0.22. Specify a solver to silence this warning.\n",
      "  FutureWarning)\n"
     ]
    },
    {
     "data": {
      "text/plain": [
       "LogisticRegression(C=1, class_weight=None, dual=False, fit_intercept=True,\n",
       "                   intercept_scaling=1, l1_ratio=None, max_iter=100,\n",
       "                   multi_class='warn', n_jobs=None, penalty='l2',\n",
       "                   random_state=None, solver='warn', tol=0.0001, verbose=0,\n",
       "                   warm_start=False)"
      ]
     },
     "execution_count": 1258,
     "metadata": {},
     "output_type": "execute_result"
    }
   ],
   "source": [
    "from sklearn.linear_model import LogisticRegression\n",
    "\n",
    "logreg = LogisticRegression(fit_intercept = True, C=1)\n",
    "\n",
    "logreg.fit(X_train,y_train)"
   ]
  },
  {
   "cell_type": "code",
   "execution_count": 1259,
   "metadata": {},
   "outputs": [
    {
     "name": "stdout",
     "output_type": "stream",
     "text": [
      "              precision    recall  f1-score   support\n",
      "\n",
      "           0       0.78      0.66      0.71       122\n",
      "           1       0.89      0.94      0.92       378\n",
      "\n",
      "    accuracy                           0.87       500\n",
      "   macro avg       0.84      0.80      0.82       500\n",
      "weighted avg       0.87      0.87      0.87       500\n",
      "\n"
     ]
    }
   ],
   "source": [
    "# Predict on the test features, print the results\n",
    "y_pred = logreg.predict(X_test)\n",
    "#print(classification_report(y_test,pred))\n",
    "print(classification_report(y_test,y_pred))"
   ]
  },
  {
   "cell_type": "code",
   "execution_count": 1260,
   "metadata": {},
   "outputs": [],
   "source": [
    "from sklearn.model_selection import KFold"
   ]
  },
  {
   "cell_type": "code",
   "execution_count": 1293,
   "metadata": {},
   "outputs": [],
   "source": [
    "kf = KFold(n_splits=10)"
   ]
  },
  {
   "cell_type": "code",
   "execution_count": 1311,
   "metadata": {},
   "outputs": [],
   "source": [
    "val_accuracy_score   = []\n",
    "train_accuracy_score = []\n",
    "\n",
    "index = 0\n",
    "for train_index, test_index in kf.split(X):\n",
    "    X_train, X_test = X.loc[train_index] , X.loc[test_index]\n",
    "    y_train, y_test = target.loc[train_index], target.loc[test_index]\n",
    "    logreg.fit(X_train,y_train)\n",
    "    \n",
    "    # Predict on the test features, print the results\n",
    "    y_pred_test = logreg.predict(X_test)\n",
    "    y_pred_train = logreg.predict(X_train)\n",
    "    #print(classification_report(y_test,pred))\n",
    "    val_accuracy_score.append(accuracy_score(y_test,y_pred_test))\n",
    "    train_accuracy_score.append(accuracy_score(y_train,y_pred_train))"
   ]
  },
  {
   "cell_type": "code",
   "execution_count": 1312,
   "metadata": {},
   "outputs": [
    {
     "name": "stdout",
     "output_type": "stream",
     "text": [
      "0.8449679358717436\n",
      "0.85177032920896\n"
     ]
    }
   ],
   "source": [
    "print(np.mean(val_accuracy_score))\n",
    "print(np.mean(train_accuracy_score))"
   ]
  }
 ],
 "metadata": {
  "kernelspec": {
   "display_name": "Python 3",
   "language": "python",
   "name": "python3"
  },
  "language_info": {
   "codemirror_mode": {
    "name": "ipython",
    "version": 3
   },
   "file_extension": ".py",
   "mimetype": "text/x-python",
   "name": "python",
   "nbconvert_exporter": "python",
   "pygments_lexer": "ipython3",
   "version": "3.7.3"
  }
 },
 "nbformat": 4,
 "nbformat_minor": 2
}
