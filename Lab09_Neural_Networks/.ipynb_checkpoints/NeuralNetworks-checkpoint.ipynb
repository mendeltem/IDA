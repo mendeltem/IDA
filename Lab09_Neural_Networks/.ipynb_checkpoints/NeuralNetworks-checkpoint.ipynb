{
 "cells": [
  {
   "cell_type": "markdown",
   "metadata": {},
   "source": [
    "# Neural Networks\n",
    "\n",
    "In this exercise you will learn how to implement a feedforward neural network and train it with backpropagation."
   ]
  },
  {
   "cell_type": "code",
   "execution_count": 28,
   "metadata": {},
   "outputs": [],
   "source": [
    "import numpy as np\n",
    "from numpy.random import multivariate_normal\n",
    "from numpy.random import uniform\n",
    "from scipy.stats import zscore"
   ]
  },
  {
   "cell_type": "markdown",
   "metadata": {},
   "source": [
    "We define two helper functions \"init_toy_data\" and \"init_model\" to create a simple data set to work on and a 2 layer neural network. "
   ]
  },
  {
   "cell_type": "markdown",
   "metadata": {},
   "source": [
    "First, we create toy data with categorical labels by sampling from different multivariate normal distributions for each class. "
   ]
  },
  {
   "cell_type": "code",
   "execution_count": 29,
   "metadata": {},
   "outputs": [],
   "source": [
    "def init_toy_data(num_samples,num_features, num_classes, seed=3):\n",
    "    # num_samples: number of samples *per class*\n",
    "    # num_features: number of features (excluding bias)\n",
    "    # num_classes: number of class labels\n",
    "    # seed: random seed\n",
    "    np.random.seed(seed)\n",
    "    X=np.zeros((num_samples*num_classes, num_features))\n",
    "    y=np.zeros(num_samples*num_classes)\n",
    "    for c in range(num_classes):\n",
    "        # initialize multivariate normal distribution for this class:\n",
    "        # choose a mean for each feature\n",
    "        means = uniform(low=-10, high=10, size=num_features)\n",
    "        # choose a variance for each feature\n",
    "        var = uniform(low=1.0, high=5, size=num_features)\n",
    "        # for simplicity, all features are uncorrelated (covariance between any two features is 0)\n",
    "        cov = var * np.eye(num_features)\n",
    "        # draw samples from normal distribution\n",
    "        X[c*num_samples:c*num_samples+num_samples,:] = multivariate_normal(means, cov, size=num_samples)\n",
    "        # set label\n",
    "        y[c*num_samples:c*num_samples+num_samples] = c\n",
    "    return X,y\n"
   ]
  },
  {
   "cell_type": "code",
   "execution_count": 30,
   "metadata": {},
   "outputs": [],
   "source": [
    "def init_model(input_size,hidden_size,num_classes, seed=3):\n",
    "    # input size: number of input features\n",
    "    # hidden_size: number of units in the hidden layer\n",
    "    # num_classes: number of class labels, i.e., number of output units\n",
    "    np.random.seed(seed)\n",
    "    model = {}\n",
    "    # initialize weight matrices and biases randomly\n",
    "    model['W1'] = uniform(low=-1, high=1, size=(input_size, hidden_size))\n",
    "    model['b1'] = uniform(low=-1, high=1, size=hidden_size)\n",
    "    model['W2'] = uniform(low=-1, high=1, size=(hidden_size, num_classes))\n",
    "    model['b2'] = uniform(low=-1, high=1, size=num_classes)\n",
    "    return model"
   ]
  },
  {
   "cell_type": "code",
   "execution_count": 31,
   "metadata": {
    "scrolled": false
   },
   "outputs": [
    {
     "name": "stdout",
     "output_type": "stream",
     "text": [
      "X: [[ 0.39636145  1.09468144 -0.89360845  0.91815536]\n",
      " [ 0.94419323 -0.94027869  1.22268078  1.29597409]\n",
      " [-1.41577399  1.15477931 -0.62099631  0.08323307]\n",
      " [-1.35264614 -0.13598976 -1.14221784  0.26928935]\n",
      " [ 0.9352123   0.38225626  1.419864   -1.51152157]\n",
      " [ 0.49265316 -1.55544856  0.01427781 -1.0551303 ]]\n",
      "y: [0. 0. 1. 1. 2. 2.]\n"
     ]
    }
   ],
   "source": [
    "# create toy data\n",
    "X,y= init_toy_data(2,4,3) # 2 samples per class; 4 features, 3 classes\n",
    "# Normalize data\n",
    "X = zscore(X, axis=0)\n",
    "print('X: ' + str(X))\n",
    "print('y: ' + str(y))"
   ]
  },
  {
   "cell_type": "markdown",
   "metadata": {},
   "source": [
    "We now initialise our neural net with one hidden layer consisting of $10$ units and and an output layer consisting of $3$ units. Here we expect (any number of) training samples with $4$ features. We do not apply any activation functions yet. The following figure shows a graphical representation of this neuronal net. \n",
    "<img src=\"nn.graphviz.png\"  width=\"30%\" height=\"30%\">"
   ]
  },
  {
   "cell_type": "code",
   "execution_count": 32,
   "metadata": {},
   "outputs": [
    {
     "name": "stdout",
     "output_type": "stream",
     "text": [
      "model: {'W1': array([[ 0.10159581,  0.41629565, -0.41819052,  0.02165521,  0.78589391,\n",
      "         0.79258618, -0.74882938, -0.58551424, -0.89706559, -0.11838031],\n",
      "       [-0.94024758, -0.08633355,  0.2982881 , -0.44302543,  0.3525098 ,\n",
      "         0.18172563, -0.95203624,  0.11770818, -0.48149511, -0.16979761],\n",
      "       [-0.43294984,  0.38627584, -0.11909256, -0.68626452,  0.08929804,\n",
      "         0.56062953, -0.38727294, -0.55608423, -0.22405748,  0.8727673 ],\n",
      "       [ 0.95199084,  0.34476735,  0.80566822,  0.69150174, -0.24401192,\n",
      "        -0.81556598,  0.30682181,  0.11568152, -0.27687047, -0.54989099]]), 'b1': array([-0.18696017, -0.0621195 , -0.46152884, -0.41641445, -0.0846272 ,\n",
      "        0.72106783,  0.17250581, -0.43302428, -0.44404499, -0.09075585]), 'W2': array([[-0.58917931, -0.59724258,  0.02807012],\n",
      "       [-0.82554126, -0.03282894, -0.27564758],\n",
      "       [ 0.41537324,  0.49349245,  0.38218584],\n",
      "       [ 0.37836083, -0.25279975,  0.33626961],\n",
      "       [-0.32030267,  0.14558774, -0.34838568],\n",
      "       [-0.1097099 , -0.87694214, -0.51464916],\n",
      "       [ 0.94320521, -0.53883159,  0.38295502],\n",
      "       [ 0.30095372,  0.44787828, -0.04982278],\n",
      "       [ 0.19332755, -0.86606115, -0.85487572],\n",
      "       [-0.60204795, -0.69627801, -0.79979131]]), 'b2': array([-0.74141227,  0.10655546, -0.62437035])}\n",
      "model['W1'].shape: (4, 10)\n",
      "model['W2'].shape: (10, 3)\n",
      "model['b1'].shape: (10,)\n",
      "model['b12'].shape: (3,)\n",
      "number of parameters: 83\n"
     ]
    }
   ],
   "source": [
    "# initialize model\n",
    "model = init_model(input_size=4, hidden_size=10, num_classes=3)\n",
    "\n",
    "print('model: ' + str(model))\n",
    "print('model[\\'W1\\'].shape: ' + str(model['W1'].shape))\n",
    "print('model[\\'W2\\'].shape: ' + str(model['W2'].shape))\n",
    "print('model[\\'b1\\'].shape: ' + str(model['b1'].shape))\n",
    "print('model[\\'b12\\'].shape: ' + str(model['b2'].shape))\n",
    "print('number of parameters: ' + str((model['W1'].shape[0] * model['W1'].shape[1]) + \n",
    "     np.sum(model['W2'].shape[0] * model['W2'].shape[1]) + \n",
    "     np.sum(model['b1'].shape[0]) +\n",
    "     np.sum(model['b2'].shape[0] )))"
   ]
  },
  {
   "cell_type": "markdown",
   "metadata": {},
   "source": [
    "<b>Exercise 1</b>: Implement softmax layer.\n",
    "\n",
    "Implement the softmax function given by \n",
    "\n",
    "$softmax(x_i) = \\frac{e^{x_i}}{{\\sum_{j\\in 1...J}e^{x_j}}}$, \n",
    "\n",
    "where $J$ is the total number of classes, i.e. the length of  **x** .\n",
    "\n",
    "Note: Implement the function such that it takes a matrix X of shape (N, J) as input rather than a single instance **x**; N is the number of instances."
   ]
  },
  {
   "cell_type": "code",
   "execution_count": 62,
   "metadata": {},
   "outputs": [],
   "source": [
    "def softmax(X):\n",
    "    e_x = np.exp(X)\n",
    "    sum_x = np.sum(e_x,axis=1)\n",
    "    sm = np.zeros(e_x.shape)\n",
    "    \n",
    "    for i in range(e_x.shape[0]):\n",
    "        sm[i,:] = e_x[i,:]/sum_x[i]\n",
    "    return sm"
   ]
  },
  {
   "cell_type": "code",
   "execution_count": null,
   "metadata": {},
   "outputs": [],
   "source": [
    "def softmax(X):\n",
    "    \n",
    "    return (e_x / e_x.sum(axis=0))"
   ]
  },
  {
   "cell_type": "markdown",
   "metadata": {},
   "source": [
    "Check if everything is correct."
   ]
  },
  {
   "cell_type": "code",
   "execution_count": 43,
   "metadata": {},
   "outputs": [
    {
     "name": "stdout",
     "output_type": "stream",
     "text": [
      "Tests failed.\n"
     ]
    }
   ],
   "source": [
    "x = np.array([[0.1, 0.7],[0.7,0.4]])\n",
    "exact_softmax = np.array([[ 0.35434369,  0.64565631],\n",
    "                         [ 0.57444252,  0.42555748]])\n",
    "sm = softmax(x)\n",
    "difference = np.sum(np.abs(exact_softmax - sm))\n",
    "try:\n",
    "    assert difference < 0.000001   \n",
    "    print(\"Testing successful.\")\n",
    "except:\n",
    "    print(\"Tests failed.\")"
   ]
  },
  {
   "cell_type": "markdown",
   "metadata": {},
   "source": [
    "<b>Exercise 2</b>: Implement the forward propagation algorithm for the model defined above.\n",
    "\n",
    "The activation function of the hidden neurons is a Rectified Linear Unit $relu(x)=max(0,x)$ (to be applied element-wise to the hidden units)\n",
    "The activation function of the output layer is a softmax function as (as implemented in Exercise 1).\n",
    "\n",
    "The function should return both the activation of the hidden units (after having applied the $relu$ activation function) (shape: $(N, num\\_hidden)$) and the softmax model output (shape: $(N, num\\_classes)$). "
   ]
  },
  {
   "cell_type": "code",
   "execution_count": 35,
   "metadata": {},
   "outputs": [],
   "source": [
    "def ReLU(x):\n",
    "    return x * (x > 0)"
   ]
  },
  {
   "cell_type": "code",
   "execution_count": 63,
   "metadata": {},
   "outputs": [
    {
     "data": {
      "text/plain": [
       "array([[0.22836388, 0.15853289, 0.40710319, 0.85151353, 0.66016592,\n",
       "        0.70362036],\n",
       "       [0.51816433, 0.33057078, 0.41765056, 0.03656425, 0.19839791,\n",
       "        0.08667923],\n",
       "       [0.25347179, 0.51089632, 0.17524624, 0.11192222, 0.14143618,\n",
       "        0.20970041]])"
      ]
     },
     "execution_count": 63,
     "metadata": {},
     "output_type": "execute_result"
    }
   ],
   "source": [
    "def forward_prop(X,model):\n",
    "    #my solution\n",
    "    z_1 = np.dot(model[\"W1\"].T, X.T).T + model[\"b1\"]\n",
    "    a_1 = ReLU(z_1)\n",
    "    z_2 = np.dot(model[\"W2\"].T, a_1.T).T + model[\"b2\"]\n",
    "    a_2 = softmax(z_2)\n",
    "    Output = a_2.T\n",
    "    return a_1,Output\n",
    "\n",
    "acts,probs = forward_prop(X, model)\n",
    "\n",
    "probs"
   ]
  },
  {
   "cell_type": "code",
   "execution_count": 69,
   "metadata": {},
   "outputs": [
    {
     "data": {
      "text/plain": [
       "array([[0.22836388, 0.51816433, 0.25347179],\n",
       "       [0.15853289, 0.33057078, 0.51089632],\n",
       "       [0.40710319, 0.41765056, 0.17524624],\n",
       "       [0.85151353, 0.03656425, 0.11192222],\n",
       "       [0.66016592, 0.19839791, 0.14143618],\n",
       "       [0.70362036, 0.08667923, 0.20970041]])"
      ]
     },
     "execution_count": 69,
     "metadata": {},
     "output_type": "execute_result"
    }
   ],
   "source": [
    "def forward_prop(X,model):\n",
    "    z_1 = np.matmul(X , model[\"W1\"])+ model[\"b1\"]\n",
    "    a_1 = ReLU(z_1)\n",
    "    z_2 = np.matmul(a_1 ,model[\"W2\"])+ model[\"b2\"]\n",
    "    a_2 = softmax(z_2)\n",
    "    Output = a_2.T\n",
    "    return a_1,Output.T\n",
    "\n",
    "\n",
    "acts,probs = forward_prop(X, model)\n",
    "\n",
    "probs"
   ]
  },
  {
   "cell_type": "code",
   "execution_count": 78,
   "metadata": {
    "scrolled": true
   },
   "outputs": [
    {
     "name": "stdout",
     "output_type": "stream",
     "text": [
      "Testing successful.\n"
     ]
    }
   ],
   "source": [
    "acts,probs = forward_prop(X, model)\n",
    "correct_probs = np.array([[0.22836388, 0.51816433, 0.25347179],\n",
    "                            [0.15853289, 0.33057078, 0.51089632],\n",
    "                            [0.40710319, 0.41765056, 0.17524624],\n",
    "                            [0.85151353, 0.03656425, 0.11192222],\n",
    "                            [0.66016592, 0.19839791, 0.14143618],\n",
    "                            [0.70362036, 0.08667923, 0.20970041]])\n",
    "# the difference should be very small.\n",
    "difference =  np.sum(np.abs(probs - correct_probs))\n",
    "\n",
    "try:\n",
    "    assert probs.shape==(X.shape[0],len(set(y)))\n",
    "    assert difference < 0.00001   \n",
    "    print(\"Testing successful.\")\n",
    "except:\n",
    "    print(\"Tests failed.\")\n"
   ]
  },
  {
   "cell_type": "markdown",
   "metadata": {},
   "source": [
    "<b>Exercise 3:</b> How would you train the above defined neural network? Which loss-function would you use? You do not need to implement this."
   ]
  },
  {
   "cell_type": "markdown",
   "metadata": {},
   "source": [
    "We train our Network with Backpropagation. We use the categorical crossentropy loss function to get the derivation from each Weights: How does each my weights effects my loss? And with that we can change the weights throught update function which has the learning rate. \n",
    "\n",
    "categorical crossentropy because we have multiple classes and with the value of 0 to 1"
   ]
  },
  {
   "cell_type": "markdown",
   "metadata": {},
   "source": [
    "<b>Part 2 (Neural Net using Keras)</b>\n",
    "\n",
    "Instead of implementing the model learning ourselves, we can use the neural network library Keras for Python (https://keras.io/). Keras is an abstraction layer that either builds on top of Theano or Google's Tensorflow. So please install Keras and Tensorflow/Theano for this lab."
   ]
  },
  {
   "cell_type": "markdown",
   "metadata": {},
   "source": [
    "<b>Exercise 4:</b>\n",
    "    Implement the same model as above using Keras:\n",
    "    \n",
    "    ** 1 hidden layer à 10 units\n",
    "    ** softmax output layer à three units\n",
    "    ** 4 input features\n",
    "    \n",
    "Compile the model using categorical cross-entropy (also referred to as 'softmax-loss') as loss function and using categorical crossentropy together categorical accuracy as metrics for runtime evaluation during training."
   ]
  },
  {
   "cell_type": "code",
   "execution_count": 13,
   "metadata": {},
   "outputs": [
    {
     "name": "stderr",
     "output_type": "stream",
     "text": [
      "Using TensorFlow backend.\n"
     ]
    }
   ],
   "source": [
    "from keras.models import Sequential\n",
    "from keras.layers.core import Dense\n",
    "from keras.layers.core import Activation\n",
    "from keras import metrics\n",
    "\n",
    "model = Sequential()\n",
    "model.add(Dense(10, input_dim=4))\n",
    "model.add(Activation('relu'))\n",
    "model.add(Dense(3))\n",
    "model.add(Activation('softmax'))\n",
    "\n",
    "model.compile(optimizer='adam',\n",
    "              loss='categorical_crossentropy',\n",
    "              metrics=[metrics.categorical_accuracy])"
   ]
  },
  {
   "cell_type": "markdown",
   "metadata": {},
   "source": [
    "The description of the current network can always be looked at via the summary method. The layers can be accessed via model.layers and weights can be obtained with the method get_weights. Check if your model is as expected. "
   ]
  },
  {
   "cell_type": "code",
   "execution_count": 14,
   "metadata": {
    "scrolled": true
   },
   "outputs": [
    {
     "name": "stdout",
     "output_type": "stream",
     "text": [
      "_________________________________________________________________\n",
      "Layer (type)                 Output Shape              Param #   \n",
      "=================================================================\n",
      "dense_1 (Dense)              (None, 10)                50        \n",
      "_________________________________________________________________\n",
      "activation_1 (Activation)    (None, 10)                0         \n",
      "_________________________________________________________________\n",
      "dense_2 (Dense)              (None, 3)                 33        \n",
      "_________________________________________________________________\n",
      "activation_2 (Activation)    (None, 3)                 0         \n",
      "=================================================================\n",
      "Total params: 83\n",
      "Trainable params: 83\n",
      "Non-trainable params: 0\n",
      "_________________________________________________________________\n"
     ]
    }
   ],
   "source": [
    "model.summary()\n",
    "\n",
    "\n"
   ]
  },
  {
   "cell_type": "markdown",
   "metadata": {
    "collapsed": true
   },
   "source": [
    "<b>Exercise 4:</b> Train the model on the toy data set generated below: \n",
    "\n",
    "Hints: \n",
    "\n",
    "* Keras expects one-hot-coded labels \n",
    "\n",
    "* Don't forget to normalize the data"
   ]
  },
  {
   "cell_type": "code",
   "execution_count": 15,
   "metadata": {},
   "outputs": [],
   "source": [
    "X, y = init_toy_data(1000,4,3, seed=3)"
   ]
  },
  {
   "cell_type": "code",
   "execution_count": 16,
   "metadata": {},
   "outputs": [
    {
     "data": {
      "text/plain": [
       "array([0., 0., 0., ..., 2., 2., 2.])"
      ]
     },
     "execution_count": 16,
     "metadata": {},
     "output_type": "execute_result"
    }
   ],
   "source": [
    "y"
   ]
  },
  {
   "cell_type": "code",
   "execution_count": 17,
   "metadata": {},
   "outputs": [],
   "source": [
    "from sklearn.preprocessing import LabelBinarizer\n",
    "from sklearn.model_selection import train_test_split\n",
    "X, y = init_toy_data(1000,4,3, seed=3)\n",
    "#normalizing\n",
    "X = zscore(X, axis=0)\n",
    "\n",
    "#one hot encoding\n",
    "y = list(map(int,y))\n",
    "label_binarizer = LabelBinarizer()\n",
    "label_binarizer.fit(range(max(y)+1))\n",
    "y = label_binarizer.transform(y)"
   ]
  },
  {
   "cell_type": "code",
   "execution_count": null,
   "metadata": {},
   "outputs": [],
   "source": []
  },
  {
   "cell_type": "code",
   "execution_count": 18,
   "metadata": {},
   "outputs": [
    {
     "data": {
      "text/plain": [
       "array([[1, 0, 0],\n",
       "       [1, 0, 0],\n",
       "       [1, 0, 0],\n",
       "       ...,\n",
       "       [0, 0, 1],\n",
       "       [0, 0, 1],\n",
       "       [0, 0, 1]])"
      ]
     },
     "execution_count": 18,
     "metadata": {},
     "output_type": "execute_result"
    }
   ],
   "source": [
    "y"
   ]
  },
  {
   "cell_type": "code",
   "execution_count": 19,
   "metadata": {},
   "outputs": [],
   "source": [
    "X_train, X_test, y_train, y_test = train_test_split(X, y, test_size=.33, random_state=42)"
   ]
  },
  {
   "cell_type": "code",
   "execution_count": 20,
   "metadata": {
    "scrolled": false
   },
   "outputs": [
    {
     "name": "stdout",
     "output_type": "stream",
     "text": [
      "Train on 2010 samples, validate on 990 samples\n",
      "Epoch 1/10\n",
      "2010/2010 [==============================] - 1s 520us/step - loss: 0.6793 - categorical_accuracy: 0.7299 - val_loss: 0.5045 - val_categorical_accuracy: 0.7889\n",
      "Epoch 2/10\n",
      "2010/2010 [==============================] - 0s 135us/step - loss: 0.4274 - categorical_accuracy: 0.8736 - val_loss: 0.3350 - val_categorical_accuracy: 0.9444\n",
      "Epoch 3/10\n",
      "2010/2010 [==============================] - 0s 141us/step - loss: 0.2835 - categorical_accuracy: 0.9647 - val_loss: 0.2161 - val_categorical_accuracy: 0.9798\n",
      "Epoch 4/10\n",
      "2010/2010 [==============================] - 0s 143us/step - loss: 0.1775 - categorical_accuracy: 0.9841 - val_loss: 0.1323 - val_categorical_accuracy: 0.9919\n",
      "Epoch 5/10\n",
      "2010/2010 [==============================] - 0s 136us/step - loss: 0.1085 - categorical_accuracy: 0.9955 - val_loss: 0.0835 - val_categorical_accuracy: 0.9949\n",
      "Epoch 6/10\n",
      "2010/2010 [==============================] - 0s 139us/step - loss: 0.0700 - categorical_accuracy: 0.9975 - val_loss: 0.0566 - val_categorical_accuracy: 0.9960\n",
      "Epoch 7/10\n",
      "2010/2010 [==============================] - 0s 144us/step - loss: 0.0484 - categorical_accuracy: 0.9985 - val_loss: 0.0411 - val_categorical_accuracy: 0.9970\n",
      "Epoch 8/10\n",
      "2010/2010 [==============================] - 0s 158us/step - loss: 0.0355 - categorical_accuracy: 0.9985 - val_loss: 0.0314 - val_categorical_accuracy: 0.9960\n",
      "Epoch 9/10\n",
      "2010/2010 [==============================] - 0s 155us/step - loss: 0.0273 - categorical_accuracy: 0.9985 - val_loss: 0.0251 - val_categorical_accuracy: 0.9960\n",
      "Epoch 10/10\n",
      "2010/2010 [==============================] - 0s 153us/step - loss: 0.0218 - categorical_accuracy: 0.9990 - val_loss: 0.0207 - val_categorical_accuracy: 0.9970\n"
     ]
    },
    {
     "data": {
      "text/plain": [
       "<keras.callbacks.History at 0x7fb1969534e0>"
      ]
     },
     "execution_count": 20,
     "metadata": {},
     "output_type": "execute_result"
    }
   ],
   "source": [
    "model.fit(X_train,y_train, epochs = 10,batch_size =20,\n",
    "          validation_data=(X_test, y_test))"
   ]
  },
  {
   "cell_type": "code",
   "execution_count": 21,
   "metadata": {},
   "outputs": [
    {
     "name": "stdout",
     "output_type": "stream",
     "text": [
      "990/990 [==============================] - 0s 43us/step\n"
     ]
    }
   ],
   "source": [
    "score = model.evaluate(X_test, y_test, batch_size=20)"
   ]
  },
  {
   "cell_type": "code",
   "execution_count": 22,
   "metadata": {},
   "outputs": [],
   "source": [
    "y_predict = model.predict(X_test).round()"
   ]
  },
  {
   "cell_type": "code",
   "execution_count": 23,
   "metadata": {},
   "outputs": [
    {
     "data": {
      "text/plain": [
       "array([[0, 1, 0],\n",
       "       [0, 1, 0],\n",
       "       [0, 1, 0],\n",
       "       [1, 0, 0],\n",
       "       [0, 0, 1],\n",
       "       [0, 1, 0],\n",
       "       [0, 1, 0],\n",
       "       [0, 0, 1],\n",
       "       [1, 0, 0],\n",
       "       [0, 0, 1]])"
      ]
     },
     "execution_count": 23,
     "metadata": {},
     "output_type": "execute_result"
    }
   ],
   "source": [
    "y_test[:10]"
   ]
  },
  {
   "cell_type": "code",
   "execution_count": 24,
   "metadata": {},
   "outputs": [
    {
     "data": {
      "text/plain": [
       "array([[0., 1., 0.],\n",
       "       [0., 1., 0.],\n",
       "       [0., 1., 0.],\n",
       "       [1., 0., 0.],\n",
       "       [0., 0., 1.],\n",
       "       [0., 1., 0.],\n",
       "       [0., 1., 0.],\n",
       "       [0., 0., 1.],\n",
       "       [1., 0., 0.],\n",
       "       [0., 0., 1.]], dtype=float32)"
      ]
     },
     "execution_count": 24,
     "metadata": {},
     "output_type": "execute_result"
    }
   ],
   "source": [
    "y_predict[:10]"
   ]
  }
 ],
 "metadata": {
  "anaconda-cloud": {},
  "kernelspec": {
   "display_name": "Python 3",
   "language": "python",
   "name": "python3"
  },
  "language_info": {
   "codemirror_mode": {
    "name": "ipython",
    "version": 3
   },
   "file_extension": ".py",
   "mimetype": "text/x-python",
   "name": "python",
   "nbconvert_exporter": "python",
   "pygments_lexer": "ipython3",
   "version": "3.6.7"
  }
 },
 "nbformat": 4,
 "nbformat_minor": 1
}
