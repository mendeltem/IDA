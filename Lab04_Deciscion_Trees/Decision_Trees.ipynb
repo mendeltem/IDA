{
 "cells": [
  {
   "cell_type": "markdown",
   "metadata": {},
   "source": [
    "# Decision Trees\n",
    "\n",
    "In this lab you will learn the most important aspects of the decision tree learning method. \n",
    "Completing this lab and analyzing the code will give you a deeper understanding of these type of models.\n",
    "In our experiments we will mostly use the package sklearn from which we import DecisionTreeClassifier.\n",
    "\n",
    "## Problem Setting\n",
    "\n",
    "First of all, we calculate by hand the impurity measure of splitting some data by some criteria $q$ which in our case is given by a threshold t. Remember, that information gain is calculated as follows: \n",
    "$$IG(q) = S_{0} - \\sum_{i=1}^{k}\\frac{N_{i}(q)}{N}S_{i}(q)$$\n",
    "where $k$ is the number of groups after partition; $N$ is the total number of examples; $N_{i}(q)$ is the number of examples in the group $i$ and $S$ is the (Shannon) entropy function defined as:\n",
    "$$S = - \\sum_{i}^{}\\hat{p}_{i}\\log(\\hat{p}_{i}),$$\n",
    "where $\\hat{p}_{i}$ is the empirical frequency that the randomly chosen object has label $i$."
   ]
  },
  {
   "cell_type": "code",
<<<<<<< HEAD
   "execution_count": 45,
   "metadata": {
    "collapsed": true
   },
=======
   "execution_count": 2,
   "metadata": {},
>>>>>>> b3e59799c547be79270b25426134503c9148ea1e
   "outputs": [],
   "source": [
    "import numpy as np\n",
    "import pandas as pd\n",
    "import seaborn as sns\n",
    "from matplotlib import pyplot as plt\n",
<<<<<<< HEAD
    "import math\n",
    "from sklearn.metrics import confusion_matrix, classification_report\n",
=======
>>>>>>> b3e59799c547be79270b25426134503c9148ea1e
    "\n",
    "%matplotlib inline"
   ]
  },
  {
   "cell_type": "markdown",
   "metadata": {},
   "source": [
    "## Entropy\n",
    "<b>Exercise 1:</b>\n",
    "\n",
    "Write a function that calculates the entropy defined as: $$S = - \\sum_{i}^{}\\hat{p}_{i}\\log(\\hat{p}_{i}),$$. <b>Hint:</b> The function input is a vector of labels and the function should return the entropy."
   ]
  },
  {
   "cell_type": "code",
<<<<<<< HEAD
   "execution_count": 2,
=======
   "execution_count": null,
>>>>>>> b3e59799c547be79270b25426134503c9148ea1e
   "metadata": {
    "collapsed": true
   },
   "outputs": [],
   "source": [
    "def entropy(y):\n",
<<<<<<< HEAD
    "    n_labels = len(y)\n",
    "    if n_labels <= 1:\n",
    "        return 0\n",
    "    counts = np.bincount(y)\n",
    "    p = counts / n_labels\n",
    "    n_classes = sum(p>0)\n",
    "    if n_classes <= 1:\n",
    "        return 0\n",
    "    return - np.sum(p * np.log(p)) / np.log(n_classes)"
   ]
  },
  {
   "cell_type": "code",
   "execution_count": 3,
   "metadata": {},
   "outputs": [
    {
     "data": {
      "text/plain": [
       "9.297325165302794e-08"
      ]
     },
     "execution_count": 3,
     "metadata": {},
     "output_type": "execute_result"
    }
   ],
   "source": [
    "entropy(np.array([1,1,0,0,1,1])) - 0.9182957410812378"
=======
    "    ### WRITE YOUR CODE HERE ###\n",
    "    "
>>>>>>> b3e59799c547be79270b25426134503c9148ea1e
   ]
  },
  {
   "cell_type": "markdown",
   "metadata": {},
   "source": [
    "Check if your solution is correct:"
   ]
  },
  {
   "cell_type": "code",
<<<<<<< HEAD
   "execution_count": 4,
   "metadata": {},
   "outputs": [
    {
     "name": "stdout",
     "output_type": "stream",
     "text": [
      "Tests failed.\n"
     ]
    }
   ],
=======
   "execution_count": null,
   "metadata": {
    "collapsed": true
   },
   "outputs": [],
>>>>>>> b3e59799c547be79270b25426134503c9148ea1e
   "source": [
    "try:\n",
    "    assert entropy(np.array([1,1,0,0])) == 1.\n",
    "    assert entropy(np.array([0,0])) == 0.\n",
    "    assert entropy(np.array([1,1,0,0,1,1])) == 0.9182957410812378\n",
    "    print(\"Testing successful.\")\n",
    "except:\n",
    "    print(\"Tests failed.\")"
   ]
  },
  {
   "cell_type": "markdown",
   "metadata": {},
   "source": [
    "## Information Gain\n",
    "\n",
    "<b> Exercise 2:</b>\n",
    "Write a function that calculates the information gain obtained by setting the threshold $t\\in \\mathbb{R}$ for data points $x \\in \\mathbb{R}^{d}$ with label $y\\in \\mathbb{N}^{d}$. <b>Hint:</b> The function input is a vector x of attribut values, a vector y of labels and a threshold. The function should return the information gain for that specific split.\n",
    "\n",
    "<b>Example</b>: A split at threshold $t=2$ for data points $x = [1,2,3,4,5]$ and label $y=[1,0,0,0,0,0]$ would result in the lists \n",
    "* $x_{left} = [3,4,5]$, $y_{left} = [0,0,0]$ (for $x > t$) and\n",
    "* $x_{right} = [1,2]$, $y_{right} = [1,0]$ (for $x <= t$).\n",
    "* Computation of information gain: $\\textbf{entropy}([1,0,0,0,0,0]) - (0.6 * \\textbf{entropy}([0,0,0]) + (0.4 * \\textbf{entropy}([1,0]))$"
   ]
  },
  {
   "cell_type": "code",
<<<<<<< HEAD
   "execution_count": 5,
   "metadata": {
    "collapsed": true,
    "scrolled": false
   },
   "outputs": [],
   "source": [
    "def info_gain(x,y,t):\n",
    "    x_right,x_left, y_right,y_left = ([] for i in range(4))\n",
    "        \n",
    "    for i in range(len(x)):\n",
    "        if i < t:\n",
    "            x_right.append(x[i])\n",
    "            y_right.append(y[i])\n",
    "        else:\n",
    "            x_left.append(x[i])\n",
    "            y_left.append(y[i])\n",
    "    return entropy(y) - ((1 - t/len(x))*entropy(y_left) + t/len(x)*entropy(y_right))\n",
    "   "
=======
   "execution_count": 40,
   "metadata": {},
   "outputs": [],
   "source": [
    "def info_gain(x,y,t):\n",
    "    for i,z in enumerate(x):\n",
    "        if i < t:\n",
    "            x_right = np.append(x_right,x[i])\n",
    "            y_right = np.append(y_right,y[i])\n",
    "        else:\n",
    "            x_left = np.append(x_left,x[i])\n",
    "            y_left = np.append(y_left,y[i])\n",
    "    return entropy(y) - (0.6* entropy(y_left) + (0.4* entropy(y_right)))\n",
    "    "
>>>>>>> b3e59799c547be79270b25426134503c9148ea1e
   ]
  },
  {
   "cell_type": "code",
<<<<<<< HEAD
   "execution_count": 6,
   "metadata": {},
   "outputs": [
    {
     "data": {
      "text/plain": [
       "0.10803154614559995"
      ]
     },
     "execution_count": 6,
     "metadata": {},
     "output_type": "execute_result"
    }
   ],
   "source": [
    "info_gain(np.array([1,2,3,4,5,6,7,8,9,10]),np.array([1,1,1,1,1,0,0,0,0,0]),1)"
   ]
  },
  {
   "cell_type": "markdown",
   "metadata": {},
   "source": [
    "Check if your solution is correct:"
=======
   "execution_count": 9,
   "metadata": {},
   "outputs": [],
   "source": [
    "t= 2\n",
    "y = np.array([1,0,0,0,0,0])\n",
    "x = np.array([1,2,3,4,5])"
   ]
  },
  {
   "cell_type": "code",
   "execution_count": 10,
   "metadata": {},
   "outputs": [],
   "source": [
    "x_left = np.array([])"
>>>>>>> b3e59799c547be79270b25426134503c9148ea1e
   ]
  },
  {
   "cell_type": "code",
<<<<<<< HEAD
   "execution_count": 7,
   "metadata": {},
   "outputs": [
    {
     "name": "stdout",
     "output_type": "stream",
     "text": [
      "Tests failed.\n"
     ]
    }
   ],
   "source": [
    "try:\n",
    "    assert info_gain(np.array([1,2,3,4,5,6,7,8,9,10]),np.array([1,1,1,1,1,0,0,0,0,0]),1) == 0.10803163030328733\n",
    "    assert info_gain(np.array([1,2,3,4,5,6,7,8,9,10]),np.array([1,1,1,1,1,0,0,0,0,0]),3) == 0.39581562117481894\n",
    "    assert info_gain(np.array([1,2,3,4,5,6,7,8,9,10]),np.array([1,1,1,1,1,0,0,0,0,0]),5) == 1.\n",
    "    assert info_gain(np.array([1,2,3,4,5,6,7,8,9,10]),np.array([1,1,1,1,1,0,0,0,0,0]),6) == 0.60998651623672373\n",
    "    print(\"Testing successful.\")\n",
    "except:\n",
    "    print(\"Tests failed.\")"
=======
   "execution_count": 36,
   "metadata": {},
   "outputs": [],
   "source": [
    "x_left  = np.array([])\n",
    "x_right = np.array([])\n",
    "y_left  = np.array([])\n",
    "y_right = np.array([])\n",
    "\n",
    "for i,z in enumerate(x):\n",
    "    if i < t:\n",
    "        x_right = np.append(x_right,x[i])\n",
    "        y_right = np.append(y_right,y[i])\n",
    "    else:\n",
    "        x_left = np.append(x_left,x[i])\n",
    "        y_left = np.append(y_left,y[i])\n",
    "        \n",
    "        \n",
    "        \n"
>>>>>>> b3e59799c547be79270b25426134503c9148ea1e
   ]
  },
  {
   "cell_type": "code",
<<<<<<< HEAD
   "execution_count": 8,
=======
   "execution_count": 39,
>>>>>>> b3e59799c547be79270b25426134503c9148ea1e
   "metadata": {},
   "outputs": [
    {
     "name": "stdout",
     "output_type": "stream",
     "text": [
<<<<<<< HEAD
      "0.10803154614559995\n"
=======
      "x_right  [1. 2.]\n",
      "x_left  [3. 4. 5.]\n",
      "y_right  [1. 0.]\n",
      "y_left  [0. 0. 0.]\n"
>>>>>>> b3e59799c547be79270b25426134503c9148ea1e
     ]
    }
   ],
   "source": [
<<<<<<< HEAD
    "print(info_gain(np.array([1,2,3,4,5,6,7,8,9,10]),np.array([1,1,1,1,1,0,0,0,0,0]),1))"
   ]
  },
  {
   "cell_type": "code",
   "execution_count": 9,
   "metadata": {},
   "outputs": [
    {
     "name": "stdout",
     "output_type": "stream",
     "text": [
      "0.3958156020033583\n"
     ]
    }
   ],
   "source": [
    "print(info_gain(np.array([1,2,3,4,5,6,7,8,9,10]),np.array([1,1,1,1,1,0,0,0,0,0]),3))"
=======
    "print(\"x_right \",x_right)\n",
    "print(\"x_left \",x_left)\n",
    "\n",
    "print(\"y_right \",y_right)\n",
    "print(\"y_left \",y_left)"
   ]
  },
  {
   "cell_type": "markdown",
   "metadata": {},
   "source": [
    "Check if your solution is correct:"
>>>>>>> b3e59799c547be79270b25426134503c9148ea1e
   ]
  },
  {
   "cell_type": "code",
<<<<<<< HEAD
   "execution_count": 10,
   "metadata": {
    "scrolled": true
   },
   "outputs": [
    {
     "name": "stdout",
     "output_type": "stream",
     "text": [
      "1.0\n"
     ]
    }
   ],
   "source": [
    "print(info_gain(np.array([1,2,3,4,5,6,7,8,9,10]),np.array([1,1,1,1,1,0,0,0,0,0]),5) )"
   ]
  },
  {
   "cell_type": "code",
   "execution_count": 11,
   "metadata": {},
   "outputs": [
    {
     "name": "stdout",
     "output_type": "stream",
     "text": [
      "0.6099865470109875\n"
     ]
    }
   ],
   "source": [
    "print(info_gain(np.array([1,2,3,4,5,6,7,8,9,10]),np.array([1,1,1,1,1,0,0,0,0,0]),6))"
=======
   "execution_count": null,
   "metadata": {
    "collapsed": true
   },
   "outputs": [],
   "source": [
    "try:\n",
    "    assert info_gain(np.array([1,2,3,4,5,6,7,8,9,10]),np.array([1,1,1,1,1,0,0,0,0,0]),1) == 0.10803163030328733\n",
    "    assert info_gain(np.array([1,2,3,4,5,6,7,8,9,10]),np.array([1,1,1,1,1,0,0,0,0,0]),3) == 0.39581562117481894\n",
    "    assert info_gain(np.array([1,2,3,4,5,6,7,8,9,10]),np.array([1,1,1,1,1,0,0,0,0,0]),5) == 1.\n",
    "    assert info_gain(np.array([1,2,3,4,5,6,7,8,9,10]),np.array([1,1,1,1,1,0,0,0,0,0]),6) == 0.60998651623672373\n",
    "    print(\"Testing successful.\")\n",
    "except:\n",
    "    print(\"Tests failed.\")"
>>>>>>> b3e59799c547be79270b25426134503c9148ea1e
   ]
  },
  {
   "cell_type": "markdown",
   "metadata": {},
   "source": [
    "<b> Exercise 3:</b>\n",
    "\n",
    "* Create a 2-dimensional data set with the help of the function make_blobs from package sklearn.datasets. The data set should contain 500 data points with 2 clusters (2 classes). The cluster centers should be located at (0,0) and (3,3).\n",
    "* Visualize the data set. It should look like this:\n",
    "<img src=\"figures/dataset.png\" width=\"600\"/>"
   ]
  },
  {
   "cell_type": "code",
<<<<<<< HEAD
   "execution_count": 12,
   "metadata": {},
   "outputs": [
    {
     "name": "stdout",
     "output_type": "stream",
     "text": [
      "Current size: [6.0, 4.0]\n"
     ]
    },
    {
     "data": {
      "image/png": "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\n",
      "text/plain": [
       "<Figure size 720x720 with 1 Axes>"
      ]
     },
     "metadata": {},
     "output_type": "display_data"
    }
   ],
   "source": [
    "from sklearn.datasets import make_blobs\n",
    "sns.set_style(\"darkgrid\", {\"axes.facecolor\": \".9\"})\n",
    "# Get current size\n",
    "fig_size = plt.rcParams[\"figure.figsize\"]\n",
    " \n",
    "# Prints: [8.0, 6.0]\n",
    "print (\"Current size:\", fig_size)\n",
    " \n",
    "# Set figure width to 12 and height to 9\n",
    "fig_size[0] = 10\n",
    "fig_size[1] = 10\n",
    "plt.rcParams[\"figure.figsize\"] = fig_size\n",
    "centers = [(0, 0), (3, 3)]\n",
    "\n",
    "X, y = make_blobs(n_samples=500, n_features=2, centers=centers, cluster_std=1,center_box =(-4.0, 8.0))\n",
    "#from solution\n",
    "#axis([])\n",
    "\n",
    "plt.scatter(X[y == 0, 0], X[y == 0, 1], color=\"red\", label=\"0\")\n",
    "plt.scatter(X[y == 1, 0], X[y == 1, 1], color=\"blue\", label=\"1\")\n",
    "plt.legend(loc='upper left', bbox_to_anchor=(1*0.9, 1), ncol=1)\n",
    "plt.show()"
=======
   "execution_count": 1,
   "metadata": {
    "collapsed": true
   },
   "outputs": [],
   "source": [
    "from sklearn.datasets import make_blobs\n",
    "### WRITE YOUR CODE HERE ###\n"
>>>>>>> b3e59799c547be79270b25426134503c9148ea1e
   ]
  },
  {
   "cell_type": "markdown",
   "metadata": {},
   "source": [
    "<b>Exercise 4:</b>\n",
    "\n",
    "Write a function 'find_best_split(x,y)' that gets two input vectors $x \\in \\mathbb{R}^d$ and $y \\in \\{0,1\\}^d$. This function should return the threshold $t \\in x$ with the best split. <b>Hint:</b> Use the function 'info_gain' from exercise 2."
   ]
  },
  {
   "cell_type": "code",
<<<<<<< HEAD
   "execution_count": 73,
=======
   "execution_count": null,
>>>>>>> b3e59799c547be79270b25426134503c9148ea1e
   "metadata": {
    "collapsed": true
   },
   "outputs": [],
   "source": [
    "def find_best_split(x,y):\n",
<<<<<<< HEAD
    "    temp = [info_gain(x,y,i) for i in range(len(y))]\n",
    "    #print(temp)\n",
    "    return len(y)- max(enumerate(temp),key=lambda x: x[1])[0]    "
=======
    "    ### WRITE YOUR CODE HERE ###\n",
    "    "
>>>>>>> b3e59799c547be79270b25426134503c9148ea1e
   ]
  },
  {
   "cell_type": "markdown",
   "metadata": {},
   "source": [
    "Check if your solution is correct:"
   ]
  },
  {
   "cell_type": "code",
<<<<<<< HEAD
   "execution_count": 72,
   "metadata": {},
   "outputs": [
    {
     "name": "stdout",
     "output_type": "stream",
     "text": [
      "Testing successful.\n"
     ]
    }
   ],
=======
   "execution_count": null,
   "metadata": {
    "collapsed": true
   },
   "outputs": [],
>>>>>>> b3e59799c547be79270b25426134503c9148ea1e
   "source": [
    "try:\n",
    "    assert find_best_split(np.array([1,2,3,4,5,6,7,8,9,10]),np.array([1,1,1,1,1,0,0,0,0,0])) == 5\n",
    "    assert find_best_split(np.array([1,2,2,4,5,6,7,8,9,10]),np.array([1,1,0,0,1,0,0,1,0,0])) == 8    \n",
    "    print(\"Testing successful.\")\n",
    "except:\n",
    "    print(\"Tests failed.\")"
   ]
  },
  {
   "cell_type": "markdown",
   "metadata": {},
   "source": [
    "<b>Exercise 5:</b>\n",
    "\n",
    "* Find the best splitting for the two dimensions of the data set created in exercise 3. Plot the boundaries in a figure. Your figure should look like this:\n",
    "<img src=\"figures/split.png\" width=\"600\"/>\n",
    "* Which split would you prefer, and why?"
   ]
  },
  {
   "cell_type": "code",
<<<<<<< HEAD
   "execution_count": 74,
   "metadata": {
    "scrolled": true
   },
   "outputs": [
    {
     "name": "stdout",
     "output_type": "stream",
     "text": [
      "Training Data  :  (478, 2)\n",
      "Training Target:  (478,)\n",
      "Testing Data   :  (22, 2)\n",
      "Testing Target :  (22,)\n"
     ]
    }
   ],
   "source": [
    "x_best = find_best_split(X[:,0],y)\n",
    "y_best = find_best_split(X[:,1],y)\n",
    "\n"
=======
   "execution_count": null,
   "metadata": {
    "collapsed": true
   },
   "outputs": [],
   "source": [
    "x_best = find_best_split(X[:,0],label)\n",
    "y_best = find_best_split(X[:,1],label)\n",
    "### WRITE YOUR CODE HERE ###\n"
>>>>>>> b3e59799c547be79270b25426134503c9148ea1e
   ]
  },
  {
   "cell_type": "markdown",
   "metadata": {},
   "source": [
    "## Train a Decision Tree\n",
    "Now we train a decision tree using the sklearn package:"
   ]
  },
  {
   "cell_type": "code",
<<<<<<< HEAD
   "execution_count": 79,
   "metadata": {},
   "outputs": [
    {
     "name": "stdout",
     "output_type": "stream",
     "text": [
      "Training Data  :  (478, 2)\n",
      "Training Target:  (478,)\n",
      "Testing Data   :  (22, 2)\n",
      "Testing Target :  (22,)\n"
     ]
    }
   ],
   "source": [
    "X_train = X[x_best:,:]\n",
    "y_train = y[y_best:]\n",
    "X_test  = X[:x_best,:]\n",
    "y_test  = y[:y_best]\n",
    "\n",
    "print(\"Training Data  : \",X_train.shape)\n",
    "print(\"Training Target: \",y_train.shape)\n",
    "print(\"Testing Data   : \",X_test.shape)\n",
    "print(\"Testing Target : \" ,y_test.shape)"
   ]
  },
  {
   "cell_type": "code",
   "execution_count": 87,
   "metadata": {},
   "outputs": [
    {
     "name": "stdout",
     "output_type": "stream",
     "text": [
      "Test  2\n",
      "All  29\n"
     ]
    }
   ],
=======
   "execution_count": null,
   "metadata": {
    "collapsed": true
   },
   "outputs": [],
>>>>>>> b3e59799c547be79270b25426134503c9148ea1e
   "source": [
    "from sklearn.tree import DecisionTreeClassifier\n",
    "\n",
    "clf_tree = DecisionTreeClassifier(criterion='entropy', max_depth=1)\n",
<<<<<<< HEAD
    "clf_tree.fit(X_train,y_train)\n",
    "#predict\n",
    "y_pred = clf_tree.predict(X_test)\n",
    "\n",
    "print(\"Test \",sum((y_test - clf_tree.predict(X_test)) ** 2))\n",
    "print(\"All \",sum((y - clf_tree.predict(X)) ** 2))"
   ]
  },
  {
   "cell_type": "code",
   "execution_count": 88,
   "metadata": {
    "scrolled": true
   },
   "outputs": [
    {
     "name": "stdout",
     "output_type": "stream",
     "text": [
      "Confusion Matrix Between Test and Prediction\n",
      "              precision    recall  f1-score   support\n",
      "\n",
      "           0       0.87      1.00      0.93        13\n",
      "           1       1.00      0.78      0.88         9\n",
      "\n",
      "   micro avg       0.91      0.91      0.91        22\n",
      "   macro avg       0.93      0.89      0.90        22\n",
      "weighted avg       0.92      0.91      0.91        22\n",
      "\n"
     ]
    }
   ],
   "source": [
    "print(\"Confusion Matrix Between Test and Prediction\")\n",
    "print(classification_report(y_test,y_pred))"
=======
    "clf_tree.fit(X, label)"
>>>>>>> b3e59799c547be79270b25426134503c9148ea1e
   ]
  },
  {
   "cell_type": "markdown",
   "metadata": {},
   "source": [
    "<b>Exercise 6:</b>\n",
    "* Calculate the predictions for all instances from the training set (use the function predict). Which instances are misclassified? Create a plot that shows which instances are correctly classified and which instances are misclassified. This figure should look like this:\n",
    "<img src=\"figures/dec.png\" width=\"600\"/>\n",
    "* Can you find learning parameter for the decision tree classifier (max_depth,min_samples_leaf,max_leaf_nodes,...) to get a classifier that classifies all instances correctly?"
   ]
  },
  {
   "cell_type": "code",
<<<<<<< HEAD
   "execution_count": 89,
   "metadata": {},
   "outputs": [
    {
     "data": {
      "text/plain": [
       "<matplotlib.legend.Legend at 0x7ff0b6f4c630>"
      ]
     },
     "execution_count": 89,
     "metadata": {},
     "output_type": "execute_result"
    },
    {
     "data": {
      "image/png": "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\n",
      "text/plain": [
       "<Figure size 432x288 with 1 Axes>"
      ]
     },
     "metadata": {
      "needs_background": "light"
     },
     "output_type": "display_data"
    }
   ],
   "source": [
    "#check the Error\n",
    "error = y != clf_tree.predict(X)\n",
    "\n",
    "np.max(error)\n",
    "\n",
    "plt.scatter(X[y == 0, 0], X[y == 0, 1], color=\"red\", label=\"correct 1\")\n",
    "plt.scatter(X[y == 1, 0], X[y == 1, 1], color=\"blue\", label=\"correct 2\")\n",
    "plt.scatter(X[error == 1, 0], X[error == 1, 1], color=\"black\", label=\"Missclassified\")\n",
    "plt.legend(loc='upper left', bbox_to_anchor=(1*0.9, 1), ncol=1)"
   ]
=======
   "execution_count": null,
   "metadata": {
    "collapsed": true
   },
   "outputs": [],
   "source": [
    "### WRITE YOUR CODE HERE ###\n"
   ]
  },
  {
   "cell_type": "code",
   "execution_count": null,
   "metadata": {
    "collapsed": true
   },
   "outputs": [],
   "source": []
  },
  {
   "cell_type": "code",
   "execution_count": null,
   "metadata": {
    "collapsed": true
   },
   "outputs": [],
   "source": []
>>>>>>> b3e59799c547be79270b25426134503c9148ea1e
  }
 ],
 "metadata": {
  "kernelspec": {
   "display_name": "Python 3",
   "language": "python",
   "name": "python3"
  },
  "language_info": {
   "codemirror_mode": {
    "name": "ipython",
    "version": 3
   },
   "file_extension": ".py",
   "mimetype": "text/x-python",
   "name": "python",
   "nbconvert_exporter": "python",
   "pygments_lexer": "ipython3",
<<<<<<< HEAD
   "version": "3.7.3"
=======
   "version": "3.6.7"
>>>>>>> b3e59799c547be79270b25426134503c9148ea1e
  }
 },
 "nbformat": 4,
 "nbformat_minor": 2
}
