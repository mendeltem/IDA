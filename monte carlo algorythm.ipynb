{
 "cells": [
  {
   "cell_type": "code",
   "execution_count": 1,
   "metadata": {},
   "outputs": [],
   "source": [
    "import random"
   ]
  },
  {
   "cell_type": "markdown",
   "metadata": {},
   "source": [
    "Pi"
   ]
  },
  {
   "cell_type": "code",
   "execution_count": 2,
   "metadata": {},
   "outputs": [
    {
     "name": "stdout",
     "output_type": "stream",
     "text": [
      "Ratio:  0.249499\n",
      "Pi 0.997996\n"
     ]
    }
   ],
   "source": [
    "gesammt = 1000000\n",
    "count = 0\n",
    "for i in range(gesammt):\n",
    "    y = random.randint(0,1)\n",
    "    x = random.randint(0,1)\n",
    "    \n",
    "    if (y**2 + x**2) < 1:\n",
    "        count += 1\n",
    "        \n",
    "ratio = count / gesammt\n",
    "print(\"Ratio: \",ratio)\n",
    "pi = ratio * 4\n",
    "\n",
    "print(\"Pi\",pi)"
   ]
  },
  {
   "cell_type": "markdown",
   "metadata": {},
   "source": [
    "Casino"
   ]
  },
  {
   "cell_type": "code",
   "execution_count": 3,
   "metadata": {},
   "outputs": [],
   "source": [
    "def roll_dice():\n",
    "    return random.randint(1,100)"
   ]
  },
  {
   "cell_type": "code",
   "execution_count": 4,
   "metadata": {},
   "outputs": [],
   "source": [
    "def betting():\n",
    "    roll = roll_dice()\n",
    "    if roll == 100:\n",
    "        #print(roll_dice())\n",
    "        #print(\"Lost!\")\n",
    "        return False\n",
    "    elif 0 <  roll < 50:\n",
    "        #print(roll_dice())\n",
    "        #print(\"Lost!\")\n",
    "        return False\n",
    "    elif 100 > roll >= 50:\n",
    "        #print(roll_dice())\n",
    "        #print(\"Won\")\n",
    "        return True"
   ]
  },
  {
   "cell_type": "code",
   "execution_count": 5,
   "metadata": {},
   "outputs": [],
   "source": [
    "def game(account, bet, count = 100):\n",
    "    initial_account = account\n",
    "    won = 0\n",
    "    \n",
    "    for i in range(100):\n",
    "        result = betting()\n",
    "        \n",
    "        if result:\n",
    "            initial_account += bet\n",
    "        else:\n",
    "            initial_account -= bet\n",
    "            \n",
    "    print(initial_account)"
   ]
  },
  {
   "cell_type": "code",
   "execution_count": 43,
   "metadata": {},
   "outputs": [
    {
     "name": "stdout",
     "output_type": "stream",
     "text": [
      "3000\n"
     ]
    }
   ],
   "source": [
    "game(1000, 1000)"
   ]
  }
 ],
 "metadata": {
  "kernelspec": {
   "display_name": "Python 3",
   "language": "python",
   "name": "python3"
  },
  "language_info": {
   "codemirror_mode": {
    "name": "ipython",
    "version": 3
   },
   "file_extension": ".py",
   "mimetype": "text/x-python",
   "name": "python",
   "nbconvert_exporter": "python",
   "pygments_lexer": "ipython3",
   "version": "3.7.3"
  }
 },
 "nbformat": 4,
 "nbformat_minor": 2
}
