{
 "cells": [
  {
   "cell_type": "code",
   "execution_count": null,
   "metadata": {},
   "outputs": [],
   "source": [
    "from collections import defaultdict\n",
    "import random\n",
    "import os"
   ]
  },
  {
   "cell_type": "code",
   "execution_count": null,
   "metadata": {},
   "outputs": [],
   "source": [
    "def get_save(text, order):\n",
    "    save = defaultdict(list)\n",
    "\n",
    "    for i in range(len(text)-order):\n",
    "        gram = text[i:i+order]\n",
    "        if gram not in save:\n",
    "            save.update({gram : [text[i+order]]})          \n",
    "        else:    \n",
    "            save[gram].append(text[i+order]) \n",
    "    return save        "
   ]
  },
  {
   "cell_type": "code",
   "execution_count": null,
   "metadata": {},
   "outputs": [],
   "source": [
    "def markovIt(text, order, length):\n",
    "    \n",
    "    save  = get_save(text, order)\n",
    "    #print(save)\n",
    "    \n",
    "    first_index = random.randint(0, len(text)-order)\n",
    "    currentgram  = text[first_index: first_index+order]\n",
    "    result   = currentgram\n",
    "    \n",
    "    for i in range(length):\n",
    "        possibilities = save[currentgram]\n",
    "        if possibilities:\n",
    "            next_choice   = random.choice(possibilities)\n",
    "        #creating random charachter from all the possibility\n",
    "        result += str(next_choice) \n",
    "        currentgram = result[len(result) -order :len(result)]  \n",
    "\n",
    "    return result[len((result).split(\" \")[0])+1:]    "
   ]
  },
  {
   "cell_type": "code",
   "execution_count": null,
   "metadata": {},
   "outputs": [],
   "source": [
    "text = \"Someone please take Trump's tweets and create a Twitter bot that tweets randomly generated Trump tweets\""
   ]
  },
  {
   "cell_type": "code",
   "execution_count": null,
   "metadata": {},
   "outputs": [],
   "source": [
    "markovIt(text, 4, 100)"
   ]
  },
  {
   "cell_type": "code",
   "execution_count": null,
   "metadata": {},
   "outputs": [],
   "source": []
  }
 ],
 "metadata": {
  "kernelspec": {
   "display_name": "Python 3",
   "language": "python",
   "name": "python3"
  },
  "language_info": {
   "codemirror_mode": {
    "name": "ipython",
    "version": 3
   },
   "file_extension": ".py",
   "mimetype": "text/x-python",
   "name": "python",
   "nbconvert_exporter": "python",
   "pygments_lexer": "ipython3",
   "version": "3.7.3"
  }
 },
 "nbformat": 4,
 "nbformat_minor": 2
}
